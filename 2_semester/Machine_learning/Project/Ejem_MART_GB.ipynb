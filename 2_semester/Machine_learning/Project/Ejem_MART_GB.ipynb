{
 "cells": [
  {
   "cell_type": "markdown",
   "metadata": {},
   "source": [
    "# CIMAT Unidad Monterrey\n",
    "# Ciencia de datos\n",
    "# Victor Manuel Gómez Espinosa"
   ]
  },
  {
   "cell_type": "code",
   "execution_count": 5,
   "metadata": {},
   "outputs": [],
   "source": [
    "# Librerias\n",
    "import numpy as np\n",
    "import matplotlib.pyplot as plt\n",
    "from ipywidgets import interact\n",
    "\n",
    "#Datos ejemplo\n",
    "X=np.array([10,20,23,38])\n",
    "X=X.reshape(-1,1)\n",
    "y=np.array([-10,6,8,-8])"
   ]
  },
  {
   "cell_type": "markdown",
   "metadata": {},
   "source": [
    "# Regresión con Gradient Boosting\n",
    "## Implementación algoritmo MART"
   ]
  },
  {
   "cell_type": "code",
   "execution_count": 6,
   "metadata": {},
   "outputs": [],
   "source": [
    "from sklearn.tree import DecisionTreeRegressor\n",
    "\n",
    "def GradientBoostFit(X,y,n_estimators=3,Learn_rate=0.5,max_depth=1): #MART\n",
    "\n",
    "    #inicializar\n",
    "    f0=np.mean(y) #una hoja\n",
    "    \n",
    "    trees=[]\n",
    "    trees.append(f0)\n",
    "    pred=[]\n",
    "    pred.append(f0)\n",
    "    \n",
    "    \n",
    "    M=n_estimators\n",
    "    m=1\n",
    "    while(m<=M): #para M arboles\n",
    "        fi=pred[m-1]\n",
    "        # a)residuales\n",
    "        ri=y-fi\n",
    "        \n",
    "        # b) ajustar el arbol\n",
    "        ctreei = DecisionTreeRegressor(random_state=0, max_depth=max_depth) #STUMP, CART\n",
    "        ctreei.fit(X, ri)\n",
    "        trees.append(ctreei)\n",
    "        \n",
    "        # c) obtener las salidas de cada hoja\n",
    "        outputsi=ctreei.predict(X)\n",
    "\n",
    "        # d) calcular nuevas predicciones\n",
    "        fi=fi+Learn_rate*(outputsi)\n",
    "        pred.append(fi)\n",
    "        m=m+1\n",
    "    \n",
    "    \n",
    "    return(trees) #modelo\n",
    "    \n",
    "def GradientBoostPredict(trees,X,Learn_rate=0.5): #obtiene predicciones\n",
    "    \n",
    "    acumV=trees[0] #valores iniciales\n",
    "    for tree in trees[1:]: #predicciones por cada arbol*learning rate y acumula\n",
    "        V=tree.predict(X)\n",
    "        acumV=acumV+Learn_rate*V\n",
    "    \n",
    "    y_pred=acumV\n",
    "    return(y_pred) #predicciones"
   ]
  },
  {
   "cell_type": "markdown",
   "metadata": {},
   "source": [
    "### Ejemplo"
   ]
  },
  {
   "cell_type": "code",
   "execution_count": 7,
   "metadata": {},
   "outputs": [],
   "source": [
    "def EjemMart(n_estimators,Learn_rate):\n",
    "    trees=GradientBoostFit(X,y,n_estimators=n_estimators,Learn_rate=Learn_rate,max_depth=1) #obtiene el modelo\n",
    "    y_pred=GradientBoostPredict(trees,X,Learn_rate=Learn_rate) #realiza predicciones\n",
    "    \n",
    "    plt.scatter(X,y,color='red',label='observed',s=100)\n",
    "    plt.scatter(X,y_pred,color='blue',label='predicted',s=100,marker='x')\n",
    "    plt.xlabel('X1'), plt.ylabel('y'), plt.legend(loc='upper right')\n",
    "    plt.title('Implementacion MART')\n",
    "    plt.show()\n",
    "    return(y_pred)"
   ]
  },
  {
   "cell_type": "code",
   "execution_count": 8,
   "metadata": {},
   "outputs": [
    {
     "data": {
      "application/vnd.jupyter.widget-view+json": {
       "model_id": "671a8b118aee4ec0949da57608151ba2",
       "version_major": 2,
       "version_minor": 0
      },
      "text/plain": [
       "interactive(children=(IntSlider(value=5, description='n_estimators', max=10, min=1), FloatSlider(value=0.5, de…"
      ]
     },
     "metadata": {},
     "output_type": "display_data"
    },
    {
     "data": {
      "text/plain": [
       "<function __main__.EjemMart(n_estimators, Learn_rate)>"
      ]
     },
     "execution_count": 8,
     "metadata": {},
     "output_type": "execute_result"
    }
   ],
   "source": [
    "interact(EjemMart,n_estimators=(1,10),Learn_rate=(0.1,0.9))"
   ]
  },
  {
   "cell_type": "markdown",
   "metadata": {},
   "source": [
    "## Con Scikit-learn\n",
    "\n",
    "https://scikit-learn.org/stable/modules/generated/sklearn.ensemble.GradientBoostingRegressor.html"
   ]
  },
  {
   "cell_type": "code",
   "execution_count": 11,
   "metadata": {},
   "outputs": [
    {
     "name": "stdout",
     "output_type": "stream",
     "text": [
      "[-9.00218984  6.18097941  6.18097941 -7.35976899]\n"
     ]
    },
    {
     "data": {
      "image/png": "[encoded data removed]",
      "text/plain": [
       "<Figure size 432x288 with 1 Axes>"
      ]
     },
     "metadata": {
      "needs_background": "light"
     },
     "output_type": "display_data"
    }
   ],
   "source": [
    "# Import GradientBoostingRegressor\n",
    "from sklearn.ensemble import GradientBoostingRegressor\n",
    "\n",
    "# Instantiate gb\n",
    "gb = GradientBoostingRegressor(max_depth=1, \n",
    "            n_estimators=10,\n",
    "            learning_rate=0.5,\n",
    "            random_state=2)\n",
    "\n",
    "# Fit gb to the training set\n",
    "gb.fit(X,y)\n",
    "\n",
    "# Predict test set labels\n",
    "y_pred = gb.predict(X)\n",
    "print(y_pred)\n",
    "\n",
    "#plot\n",
    "plt.scatter(X,y,color='red',label='observed',s=100)\n",
    "plt.scatter(X,y_pred,color='blue',label='predicted',s=100,marker='x')\n",
    "plt.xlabel('X1'), plt.ylabel('y'), plt.legend(loc='upper right')\n",
    "plt.title('GradientBoostRegressor')\n",
    "plt.show()"
   ]
  },
  {
   "cell_type": "markdown",
   "metadata": {},
   "source": [
    "## Para clasificación revisa:\n",
    "\n",
    "https://scikit-learn.org/stable/modules/generated/sklearn.ensemble.GradientBoostingClassifier.html#sklearn.ensemble.GradientBoostingClassifier"
   ]
  }
 ],
 "metadata": {
  "kernelspec": {
   "display_name": "Python 3",
   "language": "python",
   "name": "python3"
  },
  "language_info": {
   "codemirror_mode": {
    "name": "ipython",
    "version": 3
   },
   "file_extension": ".py",
   "mimetype": "text/x-python",
   "name": "python",
   "nbconvert_exporter": "python",
   "pygments_lexer": "ipython3",
   "version": "3.7.3"
  }
 },
 "nbformat": 4,
 "nbformat_minor": 4
}
