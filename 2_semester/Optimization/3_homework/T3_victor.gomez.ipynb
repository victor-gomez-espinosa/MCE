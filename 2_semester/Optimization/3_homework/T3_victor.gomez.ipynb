{
 "cells": [
  {
   "cell_type": "markdown",
   "metadata": {},
   "source": [
    "# Tarea 3 Optimización\n",
    "## Victor Manuel Gómez Espinosa"
   ]
  },
  {
   "cell_type": "code",
   "execution_count": 1,
   "metadata": {},
   "outputs": [],
   "source": [
    "#librerías\n",
    "import pymprog as pm"
   ]
  },
  {
   "cell_type": "markdown",
   "metadata": {},
   "source": [
    "# Problema 1"
   ]
  },
  {
   "cell_type": "code",
   "execution_count": 4,
   "metadata": {},
   "outputs": [
    {
     "name": "stdout",
     "output_type": "stream",
     "text": [
      "\n",
      "Max profit: 44000.0\n",
      "\n",
      "PyMathProg 1.0 Sensitivity Report Created: 2020/03/10 Tue 18:34PM\n",
      "================================================================================\n",
      "Variable            Activity   Dual.Value     Obj.Coef   Range.From   Range.Till\n",
      "--------------------------------------------------------------------------------\n",
      " A                    300000         0.03          0.1         0.07          inf\n",
      "*B                    200000            0         0.07 -1.79769e+308          0.1\n",
      "================================================================================\n",
      "================================================================================\n",
      "Constraint       Activity Dual.Value  Lower.Bnd  Upper.Bnd RangeLower RangeUpper\n",
      "--------------------------------------------------------------------------------\n",
      " R1                500000       0.07     500000     500000     400000 1.79769e+308\n",
      "================================================================================\n"
     ]
    },
    {
     "data": {
      "text/plain": [
       "model('inversion') is not the default model."
      ]
     },
     "execution_count": 4,
     "metadata": {},
     "output_type": "execute_result"
    }
   ],
   "source": [
    "pm.begin('inversion')\n",
    "\n",
    "A, B = pm.var('A,B') # variables\n",
    "pm.maximize(0.1* A + 0.07 * B, 'interes') #funcion objetivo\n",
    "\n",
    "#restricciones\n",
    "A+B == 500000 #  [PRESUPUESTO]\n",
    "A  <= 300000 #  [MAXIMO]\n",
    "B >= 100000 # [MINIMO]\n",
    "\n",
    "\n",
    "pm.solve()\n",
    "print('\\nMax profit:',pm.vobj())\n",
    "pm.sensitivity()\n",
    "pm.end()\n"
   ]
  },
  {
   "cell_type": "markdown",
   "metadata": {},
   "source": [
    "# Problema 2"
   ]
  },
  {
   "cell_type": "code",
   "execution_count": 3,
   "metadata": {},
   "outputs": [
    {
     "name": "stdout",
     "output_type": "stream",
     "text": [
      "\n",
      "Min cost: 33750.0\n",
      "\n",
      "PyMathProg 1.0 Sensitivity Report Created: 2020/03/10 Tue 19:22PM\n",
      "================================================================================\n",
      "Variable            Activity   Dual.Value     Obj.Coef   Range.From   Range.Till\n",
      "--------------------------------------------------------------------------------\n",
      "*A                        60            0          500          375          750\n",
      "*B                         5            0          750          500         1000\n",
      "================================================================================\n",
      "================================================================================\n",
      "Constraint       Activity Dual.Value  Lower.Bnd  Upper.Bnd RangeLower RangeUpper\n",
      "--------------------------------------------------------------------------------\n",
      " R1                    70        250         70        inf         65        120\n",
      " R2                   130        125        130        inf    96.6667        140\n",
      "*R3                   250          0        150        inf        250        250\n",
      "================================================================================\n"
     ]
    },
    {
     "data": {
      "text/plain": [
       "model('MINA') is not the default model."
      ]
     },
     "execution_count": 3,
     "metadata": {},
     "output_type": "execute_result"
    }
   ],
   "source": [
    "pm.begin('MINA')\n",
    "\n",
    "A, B = pm.var('A,B') # variables\n",
    "pm.minimize(500* A + 750 * B, 'costo') #funcion objetivo\n",
    "\n",
    "#restricciones\n",
    "A+2*B >= 70 #  [alta calidad]\n",
    "2*A+2*B  >= 130 #  [mediana calidad]\n",
    "4*A+2*B >= 150 # [baja calidad]\n",
    "\n",
    "\n",
    "pm.solve()\n",
    "print('\\nMin cost:',pm.vobj())\n",
    "pm.sensitivity()\n",
    "pm.end()\n"
   ]
  },
  {
   "cell_type": "markdown",
   "metadata": {},
   "source": [
    "# Problema 3"
   ]
  },
  {
   "cell_type": "markdown",
   "metadata": {},
   "source": [
    "## Caso 1"
   ]
  },
  {
   "cell_type": "code",
   "execution_count": 7,
   "metadata": {},
   "outputs": [
    {
     "name": "stdout",
     "output_type": "stream",
     "text": [
      "\n",
      "Max profit: 5000000.0\n",
      "\n",
      "PyMathProg 1.0 Sensitivity Report Created: 2020/03/10 Tue 19:41PM\n",
      "================================================================================\n",
      "Variable            Activity   Dual.Value     Obj.Coef   Range.From   Range.Till\n",
      "--------------------------------------------------------------------------------\n",
      "*A                     2e+07            0         0.04 -1.79769e+308         0.05\n",
      " B                     4e+07         0.01         0.05         0.04          inf\n",
      " C                     4e+07        0.015        0.055         0.04          inf\n",
      "================================================================================\n",
      "================================================================================\n",
      "Constraint       Activity Dual.Value  Lower.Bnd  Upper.Bnd RangeLower RangeUpper\n",
      "--------------------------------------------------------------------------------\n",
      " R1                 1e+08       0.04      1e+08      1e+08      8e+07    1.2e+08\n",
      "================================================================================\n"
     ]
    },
    {
     "data": {
      "text/plain": [
       "model('INVERSION') is not the default model."
      ]
     },
     "execution_count": 7,
     "metadata": {},
     "output_type": "execute_result"
    }
   ],
   "source": [
    "pm.begin('INVERSION')\n",
    "P=100000000\n",
    "\n",
    "A, B,C = pm.var('A,B,C') # variables\n",
    "pm.maximize(0.04*A+0.05*B+0.055*C, 'INTERES') #funcion objetivo\n",
    "\n",
    "#restricciones\n",
    "#  [CAPITAL]\n",
    "A+B+C==P\n",
    "\n",
    " #  [MAXIMO]\n",
    "A <= 0.4*P\n",
    "B <= 0.4*P\n",
    "C <= 0.4*P\n",
    "\n",
    "# [MINIMO]\n",
    "B >= 0.25*P\n",
    "\n",
    "pm.solve()\n",
    "print('\\nMax profit:',pm.vobj())\n",
    "pm.sensitivity()\n",
    "pm.end()\n"
   ]
  },
  {
   "cell_type": "markdown",
   "metadata": {},
   "source": [
    "Podemos ver para el renglon B, que puede aumantar inf, lo que indica que si aimentamos la tasa de interes la respuesta sera la misma.\n",
    "\n"
   ]
  },
  {
   "cell_type": "markdown",
   "metadata": {},
   "source": [
    "## Caso 2"
   ]
  },
  {
   "cell_type": "code",
   "execution_count": 8,
   "metadata": {},
   "outputs": [
    {
     "name": "stdout",
     "output_type": "stream",
     "text": [
      "\n",
      "Max profit: 5600000.0\n",
      "\n",
      "PyMathProg 1.0 Sensitivity Report Created: 2020/03/10 Tue 19:42PM\n",
      "================================================================================\n",
      "Variable            Activity   Dual.Value     Obj.Coef   Range.From   Range.Till\n",
      "--------------------------------------------------------------------------------\n",
      "*A                     2e+07            0         0.04 -1.79769e+308        0.055\n",
      " B                     4e+07        0.025        0.065         0.04          inf\n",
      " C                     4e+07        0.015        0.055         0.04          inf\n",
      "================================================================================\n",
      "================================================================================\n",
      "Constraint       Activity Dual.Value  Lower.Bnd  Upper.Bnd RangeLower RangeUpper\n",
      "--------------------------------------------------------------------------------\n",
      " R1                 1e+08       0.04      1e+08      1e+08      8e+07    1.2e+08\n",
      "================================================================================\n"
     ]
    },
    {
     "data": {
      "text/plain": [
       "model('INVERSION') is not the default model."
      ]
     },
     "execution_count": 8,
     "metadata": {},
     "output_type": "execute_result"
    }
   ],
   "source": [
    "pm.begin('INVERSION')\n",
    "P=100000000\n",
    "\n",
    "A, B,C = pm.var('A,B,C') # variables\n",
    "pm.maximize(0.04*A+0.065*B+0.055*C, 'INTERES') #funcion objetivo\n",
    "\n",
    "#restricciones\n",
    "#  [CAPITAL]\n",
    "A+B+C==P\n",
    "\n",
    " #  [MAXIMO]\n",
    "A <= 0.4*P\n",
    "B <= 0.4*P\n",
    "C <= 0.4*P\n",
    "\n",
    "# [MINIMO]\n",
    "B >= 0.25*P\n",
    "\n",
    "pm.solve()\n",
    "print('\\nMax profit:',pm.vobj())\n",
    "pm.sensitivity()\n",
    "pm.end()"
   ]
  },
  {
   "cell_type": "markdown",
   "metadata": {},
   "source": [
    "## Caso 3"
   ]
  },
  {
   "cell_type": "code",
   "execution_count": 10,
   "metadata": {},
   "outputs": [
    {
     "name": "stdout",
     "output_type": "stream",
     "text": [
      "\n",
      "Max profit: 5000000.0\n",
      "\n",
      "PyMathProg 1.0 Sensitivity Report Created: 2020/03/10 Tue 19:55PM\n",
      "================================================================================\n",
      "Variable            Activity   Dual.Value     Obj.Coef   Range.From   Range.Till\n",
      "--------------------------------------------------------------------------------\n",
      "*A                     2e+07            0         0.04            0         0.05\n",
      " B                     4e+07         0.01         0.05         0.04          inf\n",
      " C                     4e+07        0.015        0.055         0.04          inf\n",
      "================================================================================\n",
      "================================================================================\n",
      "Constraint       Activity Dual.Value  Lower.Bnd  Upper.Bnd RangeLower RangeUpper\n",
      "--------------------------------------------------------------------------------\n",
      " R1                 1e+08       0.04       -inf      1e+08      8e+07    1.2e+08\n",
      "================================================================================\n"
     ]
    },
    {
     "data": {
      "text/plain": [
       "model('INVERSION') is not the default model."
      ]
     },
     "execution_count": 10,
     "metadata": {},
     "output_type": "execute_result"
    }
   ],
   "source": [
    "pm.begin('INVERSION')\n",
    "P=100000000\n",
    "\n",
    "A, B,C = pm.var('A,B,C') # variables\n",
    "pm.maximize(0.04*A+0.05*B+0.055*C, 'INTERES') #funcion objetivo\n",
    "\n",
    "#restricciones\n",
    "#  [CAPITAL]\n",
    "A+B+C==P\n",
    "\n",
    " #  [MAXIMO]\n",
    "A <= 0.4*P\n",
    "B <= 0.4*P\n",
    "C <= 0.4*P\n",
    "\n",
    "# [MINIMO]\n",
    "B >= 0.3*P\n",
    "\n",
    "pm.solve()\n",
    "print('\\nMax profit:',pm.vobj())\n",
    "pm.sensitivity()\n",
    "pm.end()"
   ]
  },
  {
   "cell_type": "markdown",
   "metadata": {},
   "source": [
    "Podemos ver que para los 3 casos la cantidad a invertir en cada una es la misma"
   ]
  },
  {
   "cell_type": "markdown",
   "metadata": {},
   "source": [
    "# Problema 4"
   ]
  },
  {
   "cell_type": "markdown",
   "metadata": {},
   "source": [
    "## Caso 1"
   ]
  },
  {
   "cell_type": "code",
   "execution_count": 11,
   "metadata": {},
   "outputs": [
    {
     "name": "stdout",
     "output_type": "stream",
     "text": [
      "\n",
      "Min Cost: 2800.0\n",
      "\n",
      "PyMathProg 1.0 Sensitivity Report Created: 2020/03/10 Tue 20:20PM\n",
      "================================================================================\n",
      "Variable            Activity   Dual.Value     Obj.Coef   Range.From   Range.Till\n",
      "--------------------------------------------------------------------------------\n",
      " A                         0            1            4            3          inf\n",
      "*B                       200            0            2 -1.79769e+308          2.4\n",
      " C                         0          0.4          2.4            2          inf\n",
      "*D                       800            0            3            2            4\n",
      "================================================================================\n",
      "================================================================================\n",
      "Constraint       Activity Dual.Value  Lower.Bnd  Upper.Bnd RangeLower RangeUpper\n",
      "--------------------------------------------------------------------------------\n",
      " R1                  1000          3       1000       1000    638.889 1.79769e+308\n",
      "*R2                   310          0        180        inf        310        310\n",
      " R3                   200         -1       -inf        200          0        720\n",
      "================================================================================\n"
     ]
    },
    {
     "data": {
      "text/plain": [
       "model('MEZCLA') is not the default model."
      ]
     },
     "execution_count": 11,
     "metadata": {},
     "output_type": "execute_result"
    }
   ],
   "source": [
    "pm.begin('MEZCLA')\n",
    "M=1000\n",
    "\n",
    "A, B,C,D = pm.var('A,B,C,D') # variables\n",
    "pm.minimize(4*A+2*B+2.4*C+3*D, 'COSTO') #funcion objetivo\n",
    "\n",
    "#restricciones\n",
    "#  [MASA]\n",
    "A+B+C+D==M\n",
    "\n",
    " #  [F]\n",
    "0.51*A+0.11*B+0.14*C+0.36*D >= 0.18*M\n",
    "\n",
    "\n",
    "# [B y C]\n",
    "B+C <= 0.2*M\n",
    "\n",
    "pm.solve()\n",
    "print('\\nMin Cost:',pm.vobj())\n",
    "pm.sensitivity()\n",
    "pm.end()"
   ]
  },
  {
   "cell_type": "markdown",
   "metadata": {},
   "source": [
    "## Caso 2"
   ]
  },
  {
   "cell_type": "code",
   "execution_count": 12,
   "metadata": {},
   "outputs": [
    {
     "name": "stdout",
     "output_type": "stream",
     "text": [
      "\n",
      "Min Cost: 2820.0\n",
      "\n",
      "PyMathProg 1.0 Sensitivity Report Created: 2020/03/10 Tue 20:24PM\n",
      "================================================================================\n",
      "Variable            Activity   Dual.Value     Obj.Coef   Range.From   Range.Till\n",
      "--------------------------------------------------------------------------------\n",
      " A                         0            1            4            3          inf\n",
      "*B                       180            0            2 -1.79769e+308          2.4\n",
      " C                         0          0.4          2.4            2          inf\n",
      "*D                       820            0            3            2            4\n",
      "================================================================================\n",
      "================================================================================\n",
      "Constraint       Activity Dual.Value  Lower.Bnd  Upper.Bnd RangeLower RangeUpper\n",
      "--------------------------------------------------------------------------------\n",
      " R1                  1000          3       1000       1000        625 1.79769e+308\n",
      "*R2                   315          0        180        inf        315        315\n",
      " R3                   180         -1       -inf        180          0        720\n",
      "================================================================================\n"
     ]
    },
    {
     "data": {
      "text/plain": [
       "model('MEZCLA') is not the default model."
      ]
     },
     "execution_count": 12,
     "metadata": {},
     "output_type": "execute_result"
    }
   ],
   "source": [
    "pm.begin('MEZCLA')\n",
    "M=1000\n",
    "\n",
    "A, B,C,D = pm.var('A,B,C,D') # variables\n",
    "pm.minimize(4*A+2*B+2.4*C+3*D, 'COSTO') #funcion objetivo\n",
    "\n",
    "#restricciones\n",
    "#  [MASA]\n",
    "A+B+C+D==M\n",
    "\n",
    " #  [F]\n",
    "0.51*A+0.11*B+0.14*C+0.36*D >= 0.18*M\n",
    "\n",
    "\n",
    "# [B y C]\n",
    "B+C <= 0.18*M\n",
    "\n",
    "pm.solve()\n",
    "print('\\nMin Cost:',pm.vobj())\n",
    "pm.sensitivity()\n",
    "pm.end()"
   ]
  },
  {
   "cell_type": "markdown",
   "metadata": {},
   "source": [
    "## Caso 3"
   ]
  },
  {
   "cell_type": "code",
   "execution_count": 14,
   "metadata": {},
   "outputs": [
    {
     "name": "stdout",
     "output_type": "stream",
     "text": [
      "\n",
      "Min Cost: 2850.0\n",
      "\n",
      "PyMathProg 1.0 Sensitivity Report Created: 2020/03/10 Tue 20:33PM\n",
      "================================================================================\n",
      "Variable            Activity   Dual.Value     Obj.Coef   Range.From   Range.Till\n",
      "--------------------------------------------------------------------------------\n",
      " A                         0            1            4            3          inf\n",
      "*B                       200            0            2 -1.79769e+308          2.4\n",
      " C                         0          0.4          2.4            2          inf\n",
      "*D                       800            0            3            2            4\n",
      "================================================================================\n",
      "================================================================================\n",
      "Constraint       Activity Dual.Value  Lower.Bnd  Upper.Bnd RangeLower RangeUpper\n",
      "--------------------------------------------------------------------------------\n",
      " R1                  1000          3       1000       1000    627.778 1.79769e+308\n",
      "*R2                   314          0        180        inf        314        314\n",
      " R3                   200         -1       -inf        200          0    782.609\n",
      "================================================================================\n"
     ]
    },
    {
     "data": {
      "text/plain": [
       "model('MEZCLA') is not the default model."
      ]
     },
     "execution_count": 14,
     "metadata": {},
     "output_type": "execute_result"
    }
   ],
   "source": [
    "pm.begin('MEZCLA')\n",
    "M=1000\n",
    "\n",
    "A, B,C,D = pm.var('A,B,C,D') # variables\n",
    "pm.minimize(4*A+2*B+2.4*C+3*D+50, 'COSTO') #funcion objetivo\n",
    "\n",
    "#restricciones\n",
    "#  [MASA]\n",
    "A+B+C+D==M\n",
    "\n",
    " #  [F]\n",
    "0.51*A+0.13*B+0.14*C+0.36*D >= 0.18*M\n",
    "\n",
    "\n",
    "# [B y C]\n",
    "B+C <= 0.2*M\n",
    "\n",
    "pm.solve()\n",
    "print('\\nMin Cost:',pm.vobj())\n",
    "pm.sensitivity()\n",
    "pm.end()"
   ]
  },
  {
   "cell_type": "markdown",
   "metadata": {},
   "source": [
    "## Caso 4"
   ]
  },
  {
   "cell_type": "code",
   "execution_count": 13,
   "metadata": {},
   "outputs": [
    {
     "name": "stdout",
     "output_type": "stream",
     "text": [
      "\n",
      "Min Cost: 2800.0\n",
      "\n",
      "PyMathProg 1.0 Sensitivity Report Created: 2020/03/10 Tue 20:29PM\n",
      "================================================================================\n",
      "Variable            Activity   Dual.Value     Obj.Coef   Range.From   Range.Till\n",
      "--------------------------------------------------------------------------------\n",
      " A                         0            2            5            3          inf\n",
      "*B                       200            0            2 -1.79769e+308          2.4\n",
      " C                         0          0.4          2.4            2          inf\n",
      "*D                       800            0            3            2            5\n",
      "================================================================================\n",
      "================================================================================\n",
      "Constraint       Activity Dual.Value  Lower.Bnd  Upper.Bnd RangeLower RangeUpper\n",
      "--------------------------------------------------------------------------------\n",
      " R1                  1000          3       1000       1000    638.889 1.79769e+308\n",
      "*R2                   310          0        180        inf        310        310\n",
      " R3                   200         -1       -inf        200          0        720\n",
      "================================================================================\n"
     ]
    },
    {
     "data": {
      "text/plain": [
       "model('MEZCLA') is not the default model."
      ]
     },
     "execution_count": 13,
     "metadata": {},
     "output_type": "execute_result"
    }
   ],
   "source": [
    "pm.begin('MEZCLA')\n",
    "M=1000\n",
    "\n",
    "A, B,C,D = pm.var('A,B,C,D') # variables\n",
    "pm.minimize(5*A+2*B+2.4*C+3*D, 'COSTO') #funcion objetivo\n",
    "\n",
    "#restricciones\n",
    "#  [MASA]\n",
    "A+B+C+D==M\n",
    "\n",
    " #  [F]\n",
    "0.51*A+0.11*B+0.14*C+0.36*D >= 0.18*M\n",
    "\n",
    "\n",
    "# [B y C]\n",
    "B+C <= 0.2*M\n",
    "\n",
    "pm.solve()\n",
    "print('\\nMin Cost:',pm.vobj())\n",
    "pm.sensitivity()\n",
    "pm.end()"
   ]
  }
 ],
 "metadata": {
  "kernelspec": {
   "display_name": "Python 3",
   "language": "python",
   "name": "python3"
  },
  "language_info": {
   "codemirror_mode": {
    "name": "ipython",
    "version": 3
   },
   "file_extension": ".py",
   "mimetype": "text/x-python",
   "name": "python",
   "nbconvert_exporter": "python",
   "pygments_lexer": "ipython3",
   "version": "3.7.1"
  }
 },
 "nbformat": 4,
 "nbformat_minor": 4
}
