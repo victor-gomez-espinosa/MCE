{
 "cells": [
  {
   "cell_type": "markdown",
   "metadata": {},
   "source": [
    "## Datos"
   ]
  },
  {
   "cell_type": "code",
   "execution_count": 1,
   "metadata": {},
   "outputs": [],
   "source": [
    "#librerias\n",
    "import numpy as np\n",
    "import pandas as pd\n",
    "import matplotlib.pyplot as plt\n",
    "import seaborn as sns\n",
    "import plotly.express as px\n",
    "from sklearn.metrics import mean_squared_error, r2_score\n",
    "from sklearn.metrics import median_absolute_error\n",
    "import xgboost as xgb\n",
    "from sklearn.model_selection import GridSearchCV, RandomizedSearchCV\n",
    "from datetime import datetime\n",
    "from sklearn.preprocessing import OneHotEncoder\n",
    "from sklearn.compose import ColumnTransformer"
   ]
  },
  {
   "cell_type": "code",
   "execution_count": 2,
   "metadata": {},
   "outputs": [
    {
     "data": {
      "text/html": [
       "<div>\n",
       "<style scoped>\n",
       "    .dataframe tbody tr th:only-of-type {\n",
       "        vertical-align: middle;\n",
       "    }\n",
       "\n",
       "    .dataframe tbody tr th {\n",
       "        vertical-align: top;\n",
       "    }\n",
       "\n",
       "    .dataframe thead th {\n",
       "        text-align: right;\n",
       "    }\n",
       "</style>\n",
       "<table border=\"1\" class=\"dataframe\">\n",
       "  <thead>\n",
       "    <tr style=\"text-align: right;\">\n",
       "      <th></th>\n",
       "      <th>T</th>\n",
       "      <th>Day</th>\n",
       "      <th>LOC</th>\n",
       "      <th>cluster</th>\n",
       "      <th>SKU</th>\n",
       "      <th>ProdCluster</th>\n",
       "      <th>UNI</th>\n",
       "      <th>Tr/T</th>\n",
       "    </tr>\n",
       "    <tr>\n",
       "      <th>FECHA</th>\n",
       "      <th></th>\n",
       "      <th></th>\n",
       "      <th></th>\n",
       "      <th></th>\n",
       "      <th></th>\n",
       "      <th></th>\n",
       "      <th></th>\n",
       "      <th></th>\n",
       "    </tr>\n",
       "  </thead>\n",
       "  <tbody>\n",
       "    <tr>\n",
       "      <th>2019-04-01</th>\n",
       "      <td>0</td>\n",
       "      <td>L</td>\n",
       "      <td>LOC_001</td>\n",
       "      <td>0</td>\n",
       "      <td>Art02</td>\n",
       "      <td>5</td>\n",
       "      <td>1</td>\n",
       "      <td>Tr</td>\n",
       "    </tr>\n",
       "    <tr>\n",
       "      <th>2019-04-01</th>\n",
       "      <td>0</td>\n",
       "      <td>L</td>\n",
       "      <td>LOC_001</td>\n",
       "      <td>0</td>\n",
       "      <td>Art04</td>\n",
       "      <td>2</td>\n",
       "      <td>1</td>\n",
       "      <td>Tr</td>\n",
       "    </tr>\n",
       "    <tr>\n",
       "      <th>2019-04-01</th>\n",
       "      <td>0</td>\n",
       "      <td>L</td>\n",
       "      <td>LOC_002</td>\n",
       "      <td>0</td>\n",
       "      <td>Art04</td>\n",
       "      <td>2</td>\n",
       "      <td>1</td>\n",
       "      <td>Tr</td>\n",
       "    </tr>\n",
       "    <tr>\n",
       "      <th>2019-04-01</th>\n",
       "      <td>0</td>\n",
       "      <td>L</td>\n",
       "      <td>LOC_002</td>\n",
       "      <td>0</td>\n",
       "      <td>Art06</td>\n",
       "      <td>5</td>\n",
       "      <td>1</td>\n",
       "      <td>Tr</td>\n",
       "    </tr>\n",
       "    <tr>\n",
       "      <th>2019-04-01</th>\n",
       "      <td>0</td>\n",
       "      <td>L</td>\n",
       "      <td>LOC_002</td>\n",
       "      <td>0</td>\n",
       "      <td>Art08</td>\n",
       "      <td>3</td>\n",
       "      <td>1</td>\n",
       "      <td>Tr</td>\n",
       "    </tr>\n",
       "  </tbody>\n",
       "</table>\n",
       "</div>"
      ],
      "text/plain": [
       "            T Day      LOC  cluster    SKU  ProdCluster  UNI Tr/T\n",
       "FECHA                                                            \n",
       "2019-04-01  0   L  LOC_001        0  Art02            5    1   Tr\n",
       "2019-04-01  0   L  LOC_001        0  Art04            2    1   Tr\n",
       "2019-04-01  0   L  LOC_002        0  Art04            2    1   Tr\n",
       "2019-04-01  0   L  LOC_002        0  Art06            5    1   Tr\n",
       "2019-04-01  0   L  LOC_002        0  Art08            3    1   Tr"
      ]
     },
     "execution_count": 2,
     "metadata": {},
     "output_type": "execute_result"
    }
   ],
   "source": [
    "df=pd.read_excel('CompleteVentas.xlsx', index_col=0, parse_dates=True)\n",
    "df.head()"
   ]
  },
  {
   "cell_type": "code",
   "execution_count": 3,
   "metadata": {},
   "outputs": [],
   "source": [
    "df['UNI']=df['UNI'].astype('float64')\n",
    "df['T']=df['T'].astype('float64')"
   ]
  },
  {
   "cell_type": "code",
   "execution_count": 4,
   "metadata": {},
   "outputs": [
    {
     "name": "stdout",
     "output_type": "stream",
     "text": [
      "<class 'pandas.core.frame.DataFrame'>\n",
      "DatetimeIndex: 96676 entries, 2019-04-01 to 2019-06-23\n",
      "Data columns (total 8 columns):\n",
      " #   Column       Non-Null Count  Dtype  \n",
      "---  ------       --------------  -----  \n",
      " 0   T            96676 non-null  float64\n",
      " 1   Day          96676 non-null  object \n",
      " 2   LOC          96676 non-null  object \n",
      " 3   cluster      96676 non-null  int64  \n",
      " 4   SKU          96676 non-null  object \n",
      " 5   ProdCluster  96676 non-null  int64  \n",
      " 6   UNI          96676 non-null  float64\n",
      " 7   Tr/T         96676 non-null  object \n",
      "dtypes: float64(2), int64(2), object(4)\n",
      "memory usage: 6.6+ MB\n"
     ]
    }
   ],
   "source": [
    "df.info()"
   ]
  },
  {
   "cell_type": "code",
   "execution_count": 5,
   "metadata": {},
   "outputs": [],
   "source": [
    "Traindf=df[df['Tr/T']=='Tr']\n",
    "Testdf=df[df['Tr/T']=='T']"
   ]
  },
  {
   "cell_type": "code",
   "execution_count": 6,
   "metadata": {},
   "outputs": [
    {
     "data": {
      "text/html": [
       "<div>\n",
       "<style scoped>\n",
       "    .dataframe tbody tr th:only-of-type {\n",
       "        vertical-align: middle;\n",
       "    }\n",
       "\n",
       "    .dataframe tbody tr th {\n",
       "        vertical-align: top;\n",
       "    }\n",
       "\n",
       "    .dataframe thead th {\n",
       "        text-align: right;\n",
       "    }\n",
       "</style>\n",
       "<table border=\"1\" class=\"dataframe\">\n",
       "  <thead>\n",
       "    <tr style=\"text-align: right;\">\n",
       "      <th></th>\n",
       "      <th>T</th>\n",
       "      <th>Day</th>\n",
       "      <th>LOC</th>\n",
       "      <th>SKU</th>\n",
       "    </tr>\n",
       "    <tr>\n",
       "      <th>FECHA</th>\n",
       "      <th></th>\n",
       "      <th></th>\n",
       "      <th></th>\n",
       "      <th></th>\n",
       "    </tr>\n",
       "  </thead>\n",
       "  <tbody>\n",
       "    <tr>\n",
       "      <th>2019-04-01</th>\n",
       "      <td>0.0</td>\n",
       "      <td>L</td>\n",
       "      <td>LOC_001</td>\n",
       "      <td>Art02</td>\n",
       "    </tr>\n",
       "    <tr>\n",
       "      <th>2019-04-01</th>\n",
       "      <td>0.0</td>\n",
       "      <td>L</td>\n",
       "      <td>LOC_001</td>\n",
       "      <td>Art04</td>\n",
       "    </tr>\n",
       "    <tr>\n",
       "      <th>2019-04-01</th>\n",
       "      <td>0.0</td>\n",
       "      <td>L</td>\n",
       "      <td>LOC_002</td>\n",
       "      <td>Art04</td>\n",
       "    </tr>\n",
       "    <tr>\n",
       "      <th>2019-04-01</th>\n",
       "      <td>0.0</td>\n",
       "      <td>L</td>\n",
       "      <td>LOC_002</td>\n",
       "      <td>Art06</td>\n",
       "    </tr>\n",
       "    <tr>\n",
       "      <th>2019-04-01</th>\n",
       "      <td>0.0</td>\n",
       "      <td>L</td>\n",
       "      <td>LOC_002</td>\n",
       "      <td>Art08</td>\n",
       "    </tr>\n",
       "  </tbody>\n",
       "</table>\n",
       "</div>"
      ],
      "text/plain": [
       "              T Day      LOC    SKU\n",
       "FECHA                              \n",
       "2019-04-01  0.0   L  LOC_001  Art02\n",
       "2019-04-01  0.0   L  LOC_001  Art04\n",
       "2019-04-01  0.0   L  LOC_002  Art04\n",
       "2019-04-01  0.0   L  LOC_002  Art06\n",
       "2019-04-01  0.0   L  LOC_002  Art08"
      ]
     },
     "execution_count": 6,
     "metadata": {},
     "output_type": "execute_result"
    }
   ],
   "source": [
    "# datos de entrenamiento para el modelo\n",
    "y_train=Traindf.UNI.values\n",
    "X_traindf=Traindf.drop(columns=['UNI','cluster','ProdCluster','Tr/T'])\n",
    "X_traindf.head()"
   ]
  },
  {
   "cell_type": "code",
   "execution_count": 7,
   "metadata": {},
   "outputs": [
    {
     "name": "stdout",
     "output_type": "stream",
     "text": [
      "<class 'pandas.core.frame.DataFrame'>\n",
      "DatetimeIndex: 80290 entries, 2019-04-01 to 2019-06-09\n",
      "Data columns (total 4 columns):\n",
      " #   Column  Non-Null Count  Dtype  \n",
      "---  ------  --------------  -----  \n",
      " 0   T       80290 non-null  float64\n",
      " 1   Day     80290 non-null  object \n",
      " 2   LOC     80290 non-null  object \n",
      " 3   SKU     80290 non-null  object \n",
      "dtypes: float64(1), object(3)\n",
      "memory usage: 3.1+ MB\n"
     ]
    }
   ],
   "source": [
    "X_traindf.info()"
   ]
  },
  {
   "cell_type": "code",
   "execution_count": 8,
   "metadata": {},
   "outputs": [
    {
     "data": {
      "text/plain": [
       "(80290, 433)"
      ]
     },
     "execution_count": 8,
     "metadata": {},
     "output_type": "execute_result"
    }
   ],
   "source": [
    "encoder = ColumnTransformer(\n",
    "    [('number1', OneHotEncoder(handle_unknown='ignore'), [1,2,3])],\n",
    "    remainder=\"passthrough\"\n",
    ")\n",
    "encoder.fit(X_traindf.values)\n",
    "X_train=encoder.transform(X_traindf.values).toarray()\n",
    "X_train.shape"
   ]
  },
  {
   "cell_type": "code",
   "execution_count": 9,
   "metadata": {},
   "outputs": [
    {
     "data": {
      "text/html": [
       "<div>\n",
       "<style scoped>\n",
       "    .dataframe tbody tr th:only-of-type {\n",
       "        vertical-align: middle;\n",
       "    }\n",
       "\n",
       "    .dataframe tbody tr th {\n",
       "        vertical-align: top;\n",
       "    }\n",
       "\n",
       "    .dataframe thead th {\n",
       "        text-align: right;\n",
       "    }\n",
       "</style>\n",
       "<table border=\"1\" class=\"dataframe\">\n",
       "  <thead>\n",
       "    <tr style=\"text-align: right;\">\n",
       "      <th></th>\n",
       "      <th>T</th>\n",
       "      <th>Day</th>\n",
       "      <th>LOC</th>\n",
       "      <th>SKU</th>\n",
       "    </tr>\n",
       "    <tr>\n",
       "      <th>FECHA</th>\n",
       "      <th></th>\n",
       "      <th></th>\n",
       "      <th></th>\n",
       "      <th></th>\n",
       "    </tr>\n",
       "  </thead>\n",
       "  <tbody>\n",
       "    <tr>\n",
       "      <th>2019-06-10</th>\n",
       "      <td>70.0</td>\n",
       "      <td>L</td>\n",
       "      <td>LOC_001</td>\n",
       "      <td>Art01</td>\n",
       "    </tr>\n",
       "    <tr>\n",
       "      <th>2019-06-10</th>\n",
       "      <td>70.0</td>\n",
       "      <td>L</td>\n",
       "      <td>LOC_001</td>\n",
       "      <td>Art02</td>\n",
       "    </tr>\n",
       "    <tr>\n",
       "      <th>2019-06-10</th>\n",
       "      <td>70.0</td>\n",
       "      <td>L</td>\n",
       "      <td>LOC_001</td>\n",
       "      <td>Art04</td>\n",
       "    </tr>\n",
       "    <tr>\n",
       "      <th>2019-06-10</th>\n",
       "      <td>70.0</td>\n",
       "      <td>L</td>\n",
       "      <td>LOC_001</td>\n",
       "      <td>Art06</td>\n",
       "    </tr>\n",
       "    <tr>\n",
       "      <th>2019-06-10</th>\n",
       "      <td>70.0</td>\n",
       "      <td>L</td>\n",
       "      <td>LOC_001</td>\n",
       "      <td>Art09</td>\n",
       "    </tr>\n",
       "  </tbody>\n",
       "</table>\n",
       "</div>"
      ],
      "text/plain": [
       "               T Day      LOC    SKU\n",
       "FECHA                               \n",
       "2019-06-10  70.0   L  LOC_001  Art01\n",
       "2019-06-10  70.0   L  LOC_001  Art02\n",
       "2019-06-10  70.0   L  LOC_001  Art04\n",
       "2019-06-10  70.0   L  LOC_001  Art06\n",
       "2019-06-10  70.0   L  LOC_001  Art09"
      ]
     },
     "execution_count": 9,
     "metadata": {},
     "output_type": "execute_result"
    }
   ],
   "source": [
    "# datos de prueba para el modelo\n",
    "y_test=Testdf.UNI.values\n",
    "X_testdf=Testdf.drop(columns=['UNI','cluster','ProdCluster','Tr/T'])\n",
    "X_testdf.head()"
   ]
  },
  {
   "cell_type": "code",
   "execution_count": 10,
   "metadata": {},
   "outputs": [
    {
     "name": "stdout",
     "output_type": "stream",
     "text": [
      "<class 'pandas.core.frame.DataFrame'>\n",
      "DatetimeIndex: 16386 entries, 2019-06-10 to 2019-06-23\n",
      "Data columns (total 4 columns):\n",
      " #   Column  Non-Null Count  Dtype  \n",
      "---  ------  --------------  -----  \n",
      " 0   T       16386 non-null  float64\n",
      " 1   Day     16386 non-null  object \n",
      " 2   LOC     16386 non-null  object \n",
      " 3   SKU     16386 non-null  object \n",
      "dtypes: float64(1), object(3)\n",
      "memory usage: 640.1+ KB\n"
     ]
    }
   ],
   "source": [
    "X_testdf.info()"
   ]
  },
  {
   "cell_type": "code",
   "execution_count": 11,
   "metadata": {},
   "outputs": [
    {
     "data": {
      "text/plain": [
       "(16386, 433)"
      ]
     },
     "execution_count": 11,
     "metadata": {},
     "output_type": "execute_result"
    }
   ],
   "source": [
    "X_test=encoder.transform(X_testdf.values).toarray() #17%\n",
    "X_test.shape"
   ]
  },
  {
   "cell_type": "code",
   "execution_count": 12,
   "metadata": {},
   "outputs": [
    {
     "name": "stdout",
     "output_type": "stream",
     "text": [
      "(80290, 433)\n",
      "(16386, 433)\n"
     ]
    }
   ],
   "source": [
    "print(X_train.shape)\n",
    "print(X_test.shape)"
   ]
  },
  {
   "cell_type": "markdown",
   "metadata": {},
   "source": [
    "## Entrenamiento"
   ]
  },
  {
   "cell_type": "code",
   "execution_count": 13,
   "metadata": {},
   "outputs": [
    {
     "name": "stdout",
     "output_type": "stream",
     "text": [
      "0:26:31.987296\n"
     ]
    }
   ],
   "source": [
    "startTime = datetime.now()\n",
    "\n",
    "gbm_param_grid={'learning_rate':[0.3,0.6], #1e-5,1e-4,1e-3,1e-2,1e-1,0.3,0.5,0.9\n",
    "               'n_estimators':[15,50],\n",
    "               'subsample':[1],\n",
    "                'colsample_bytree':[0.8,1],\n",
    "               'gamma':[0,110],\n",
    "               'lambda':[0,7]\n",
    "               }\n",
    "\n",
    "\n",
    "gbm=xgb.XGBRegressor(seed=123)\n",
    "\n",
    "grid_mse=GridSearchCV(estimator=gbm,param_grid=gbm_param_grid,scoring='neg_mean_squared_error',cv=5,n_jobs=-1)\n",
    "\n",
    "grid_mse.fit(X_train,y_train)\n",
    "\n",
    "\n",
    "\n",
    "\n",
    "\n",
    "print(datetime.now() - startTime)"
   ]
  },
  {
   "cell_type": "code",
   "execution_count": 14,
   "metadata": {},
   "outputs": [
    {
     "name": "stdout",
     "output_type": "stream",
     "text": [
      "Tuned xgb Parameters: {'colsample_bytree': 0.8, 'gamma': 0, 'lambda': 7, 'learning_rate': 0.6, 'n_estimators': 50, 'subsample': 1}\n",
      "Best score is -1.5311226092511592\n"
     ]
    }
   ],
   "source": [
    "# Print the tuned parameters and score\n",
    "print(\"Tuned xgb Parameters: {}\".format(grid_mse.best_params_)) \n",
    "print(\"Best score is {}\".format(grid_mse.best_score_))"
   ]
  },
  {
   "cell_type": "code",
   "execution_count": 15,
   "metadata": {},
   "outputs": [
    {
     "name": "stdout",
     "output_type": "stream",
     "text": [
      "[0]\tvalidation_0-rmse:1.49663\n",
      "Will train until validation_0-rmse hasn't improved in 10 rounds.\n",
      "[1]\tvalidation_0-rmse:1.37634\n",
      "[2]\tvalidation_0-rmse:1.24053\n",
      "[3]\tvalidation_0-rmse:1.21378\n",
      "[4]\tvalidation_0-rmse:1.20266\n",
      "[5]\tvalidation_0-rmse:1.19472\n",
      "[6]\tvalidation_0-rmse:1.18973\n",
      "[7]\tvalidation_0-rmse:1.18670\n",
      "[8]\tvalidation_0-rmse:1.18466\n",
      "[9]\tvalidation_0-rmse:1.18287\n",
      "[10]\tvalidation_0-rmse:1.18054\n",
      "[11]\tvalidation_0-rmse:1.17770\n",
      "[12]\tvalidation_0-rmse:1.17415\n",
      "[13]\tvalidation_0-rmse:1.17169\n",
      "[14]\tvalidation_0-rmse:1.16798\n",
      "[15]\tvalidation_0-rmse:1.16631\n",
      "[16]\tvalidation_0-rmse:1.16567\n",
      "[17]\tvalidation_0-rmse:1.16477\n",
      "[18]\tvalidation_0-rmse:1.16406\n",
      "[19]\tvalidation_0-rmse:1.16220\n",
      "[20]\tvalidation_0-rmse:1.16166\n",
      "[21]\tvalidation_0-rmse:1.15963\n",
      "[22]\tvalidation_0-rmse:1.15891\n",
      "[23]\tvalidation_0-rmse:1.15793\n",
      "[24]\tvalidation_0-rmse:1.15786\n",
      "[25]\tvalidation_0-rmse:1.15643\n",
      "[26]\tvalidation_0-rmse:1.15636\n",
      "[27]\tvalidation_0-rmse:1.15680\n",
      "[28]\tvalidation_0-rmse:1.15647\n",
      "[29]\tvalidation_0-rmse:1.15611\n",
      "[30]\tvalidation_0-rmse:1.15556\n",
      "[31]\tvalidation_0-rmse:1.15512\n",
      "[32]\tvalidation_0-rmse:1.15499\n",
      "[33]\tvalidation_0-rmse:1.15463\n",
      "[34]\tvalidation_0-rmse:1.15428\n",
      "[35]\tvalidation_0-rmse:1.15261\n",
      "[36]\tvalidation_0-rmse:1.15230\n",
      "[37]\tvalidation_0-rmse:1.15195\n",
      "[38]\tvalidation_0-rmse:1.15166\n",
      "[39]\tvalidation_0-rmse:1.15120\n",
      "[40]\tvalidation_0-rmse:1.15096\n",
      "[41]\tvalidation_0-rmse:1.15039\n",
      "[42]\tvalidation_0-rmse:1.15026\n",
      "[43]\tvalidation_0-rmse:1.15013\n",
      "[44]\tvalidation_0-rmse:1.15105\n",
      "[45]\tvalidation_0-rmse:1.15042\n",
      "[46]\tvalidation_0-rmse:1.15032\n",
      "[47]\tvalidation_0-rmse:1.15046\n",
      "[48]\tvalidation_0-rmse:1.14991\n",
      "[49]\tvalidation_0-rmse:1.14981\n",
      "[50]\tvalidation_0-rmse:1.14974\n",
      "[51]\tvalidation_0-rmse:1.14988\n",
      "[52]\tvalidation_0-rmse:1.14882\n",
      "[53]\tvalidation_0-rmse:1.14868\n",
      "[54]\tvalidation_0-rmse:1.14821\n",
      "[55]\tvalidation_0-rmse:1.14803\n",
      "[56]\tvalidation_0-rmse:1.14787\n",
      "[57]\tvalidation_0-rmse:1.14775\n",
      "[58]\tvalidation_0-rmse:1.14779\n",
      "[59]\tvalidation_0-rmse:1.14682\n",
      "[60]\tvalidation_0-rmse:1.14676\n",
      "[61]\tvalidation_0-rmse:1.14664\n",
      "[62]\tvalidation_0-rmse:1.14669\n",
      "[63]\tvalidation_0-rmse:1.14639\n",
      "[64]\tvalidation_0-rmse:1.14622\n",
      "[65]\tvalidation_0-rmse:1.14694\n",
      "[66]\tvalidation_0-rmse:1.14706\n",
      "[67]\tvalidation_0-rmse:1.14715\n",
      "[68]\tvalidation_0-rmse:1.14493\n",
      "[69]\tvalidation_0-rmse:1.14499\n",
      "[70]\tvalidation_0-rmse:1.14478\n",
      "[71]\tvalidation_0-rmse:1.14480\n",
      "[72]\tvalidation_0-rmse:1.14448\n",
      "[73]\tvalidation_0-rmse:1.14427\n",
      "[74]\tvalidation_0-rmse:1.14396\n",
      "[75]\tvalidation_0-rmse:1.14414\n",
      "[76]\tvalidation_0-rmse:1.14407\n",
      "[77]\tvalidation_0-rmse:1.14396\n",
      "[78]\tvalidation_0-rmse:1.14387\n",
      "[79]\tvalidation_0-rmse:1.14329\n",
      "[80]\tvalidation_0-rmse:1.14472\n",
      "[81]\tvalidation_0-rmse:1.14461\n",
      "[82]\tvalidation_0-rmse:1.14440\n",
      "[83]\tvalidation_0-rmse:1.14462\n",
      "[84]\tvalidation_0-rmse:1.14444\n",
      "[85]\tvalidation_0-rmse:1.14443\n",
      "[86]\tvalidation_0-rmse:1.14423\n",
      "[87]\tvalidation_0-rmse:1.14430\n",
      "[88]\tvalidation_0-rmse:1.14387\n",
      "[89]\tvalidation_0-rmse:1.14387\n",
      "Stopping. Best iteration:\n",
      "[79]\tvalidation_0-rmse:1.14329\n",
      "\n"
     ]
    },
    {
     "data": {
      "text/plain": [
       "XGBRegressor(base_score=0.5, booster='gbtree', colsample_bylevel=1,\n",
       "             colsample_bynode=1, colsample_bytree=0.8, gamma=0, gpu_id=-1,\n",
       "             importance_type='gain', interaction_constraints='',\n",
       "             learning_rate=0.6, max_delta_step=0, max_depth=6,\n",
       "             min_child_weight=1, missing=nan, monotone_constraints='()',\n",
       "             n_estimators=500, n_jobs=0, num_parallel_tree=1, random_state=123,\n",
       "             reg_alpha=0, reg_lambda=7, scale_pos_weight=1, seed=123,\n",
       "             subsample=1, tree_method='exact', validate_parameters=1,\n",
       "             verbosity=None)"
      ]
     },
     "execution_count": 15,
     "metadata": {},
     "output_type": "execute_result"
    }
   ],
   "source": [
    "grid_mse=xgb.XGBRegressor(seed=123, learning_rate=0.6,n_estimators=500,subsample=1,gamma=0,reg_lambda=7,colsample_bytree=0.8)\n",
    "                    \n",
    "grid_mse.fit(X_train,y_train,eval_set=[(X_test,y_test)],early_stopping_rounds=10)"
   ]
  },
  {
   "cell_type": "markdown",
   "metadata": {},
   "source": [
    "## Predicción"
   ]
  },
  {
   "cell_type": "code",
   "execution_count": 16,
   "metadata": {},
   "outputs": [],
   "source": [
    "# predecir datos de prueba\n",
    "y_pred_train_xgb = np.round(grid_mse.predict(X_train),0)\n",
    "y_pred_test_xgb = np.round(grid_mse.predict(X_test),0)"
   ]
  },
  {
   "cell_type": "markdown",
   "metadata": {},
   "source": [
    "## Evaluación"
   ]
  },
  {
   "cell_type": "code",
   "execution_count": 17,
   "metadata": {},
   "outputs": [
    {
     "name": "stdout",
     "output_type": "stream",
     "text": [
      "train\n",
      "1.1355233932025137 0.5004165172447861 1.0\n"
     ]
    }
   ],
   "source": [
    "#train\n",
    "print('train')\n",
    "mse=mean_squared_error(y_train,y_pred_train_xgb)\n",
    "r2=r2_score(y_train,y_pred_train_xgb)\n",
    "mae=median_absolute_error(y_train,y_pred_train_xgb)\n",
    "print((mse)**(0.5),r2,mae)"
   ]
  },
  {
   "cell_type": "code",
   "execution_count": 18,
   "metadata": {},
   "outputs": [
    {
     "name": "stdout",
     "output_type": "stream",
     "text": [
      "test\n",
      "1.1967448424751903 0.31697342512170334 1.0\n"
     ]
    }
   ],
   "source": [
    "#test\n",
    "print('test')\n",
    "mse=mean_squared_error(y_test,y_pred_test_xgb)\n",
    "r2=r2_score(y_test,y_pred_test_xgb)\n",
    "mae=median_absolute_error(y_test,y_pred_test_xgb)\n",
    "print((mse)**(0.5),r2,mae)"
   ]
  },
  {
   "cell_type": "code",
   "execution_count": 19,
   "metadata": {},
   "outputs": [
    {
     "data": {
      "image/png": "[encoded data removed]",
      "text/plain": [
       "<Figure size 432x288 with 1 Axes>"
      ]
     },
     "metadata": {
      "needs_background": "light"
     },
     "output_type": "display_data"
    }
   ],
   "source": [
    "# Figura 8\n",
    "xl=[0,30]\n",
    "yl=[0,30]\n",
    "#plt.figure(figsize = (15,10))\n",
    "plt.plot(xl,yl, color='red')\n",
    "plt.scatter(y_test,y_pred_test_xgb,color='black')\n",
    "plt.xlim([0,30])\n",
    "plt.ylim([0,30])\n",
    "plt.xlabel('Observed '), plt.ylabel('Predicted '), plt.title('XGBoost ')\n",
    "plt.show()"
   ]
  },
  {
   "cell_type": "markdown",
   "metadata": {},
   "source": [
    "## Prueba"
   ]
  },
  {
   "cell_type": "code",
   "execution_count": 20,
   "metadata": {},
   "outputs": [
    {
     "data": {
      "text/html": [
       "<div>\n",
       "<style scoped>\n",
       "    .dataframe tbody tr th:only-of-type {\n",
       "        vertical-align: middle;\n",
       "    }\n",
       "\n",
       "    .dataframe tbody tr th {\n",
       "        vertical-align: top;\n",
       "    }\n",
       "\n",
       "    .dataframe thead th {\n",
       "        text-align: right;\n",
       "    }\n",
       "</style>\n",
       "<table border=\"1\" class=\"dataframe\">\n",
       "  <thead>\n",
       "    <tr style=\"text-align: right;\">\n",
       "      <th></th>\n",
       "      <th>T</th>\n",
       "      <th>Day</th>\n",
       "      <th>LOC</th>\n",
       "      <th>cluster</th>\n",
       "      <th>SKU</th>\n",
       "      <th>ProdCluster</th>\n",
       "      <th>UNI</th>\n",
       "      <th>Tr/T</th>\n",
       "      <th>xgb</th>\n",
       "      <th>ts</th>\n",
       "      <th>baseline</th>\n",
       "    </tr>\n",
       "    <tr>\n",
       "      <th>FECHA</th>\n",
       "      <th></th>\n",
       "      <th></th>\n",
       "      <th></th>\n",
       "      <th></th>\n",
       "      <th></th>\n",
       "      <th></th>\n",
       "      <th></th>\n",
       "      <th></th>\n",
       "      <th></th>\n",
       "      <th></th>\n",
       "      <th></th>\n",
       "    </tr>\n",
       "  </thead>\n",
       "  <tbody>\n",
       "    <tr>\n",
       "      <th>2019-06-10</th>\n",
       "      <td>70.0</td>\n",
       "      <td>L</td>\n",
       "      <td>LOC_003</td>\n",
       "      <td>1</td>\n",
       "      <td>Art01</td>\n",
       "      <td>3</td>\n",
       "      <td>0.0</td>\n",
       "      <td>T</td>\n",
       "      <td>2</td>\n",
       "      <td>3</td>\n",
       "      <td>3.15</td>\n",
       "    </tr>\n",
       "    <tr>\n",
       "      <th>2019-06-11</th>\n",
       "      <td>71.0</td>\n",
       "      <td>M</td>\n",
       "      <td>LOC_003</td>\n",
       "      <td>1</td>\n",
       "      <td>Art01</td>\n",
       "      <td>3</td>\n",
       "      <td>3.0</td>\n",
       "      <td>T</td>\n",
       "      <td>2</td>\n",
       "      <td>3</td>\n",
       "      <td>3.15</td>\n",
       "    </tr>\n",
       "    <tr>\n",
       "      <th>2019-06-12</th>\n",
       "      <td>72.0</td>\n",
       "      <td>Mi</td>\n",
       "      <td>LOC_003</td>\n",
       "      <td>1</td>\n",
       "      <td>Art01</td>\n",
       "      <td>3</td>\n",
       "      <td>3.0</td>\n",
       "      <td>T</td>\n",
       "      <td>2</td>\n",
       "      <td>3</td>\n",
       "      <td>3.15</td>\n",
       "    </tr>\n",
       "    <tr>\n",
       "      <th>2019-06-13</th>\n",
       "      <td>73.0</td>\n",
       "      <td>J</td>\n",
       "      <td>LOC_003</td>\n",
       "      <td>1</td>\n",
       "      <td>Art01</td>\n",
       "      <td>3</td>\n",
       "      <td>0.0</td>\n",
       "      <td>T</td>\n",
       "      <td>2</td>\n",
       "      <td>3</td>\n",
       "      <td>3.15</td>\n",
       "    </tr>\n",
       "    <tr>\n",
       "      <th>2019-06-14</th>\n",
       "      <td>74.0</td>\n",
       "      <td>V</td>\n",
       "      <td>LOC_003</td>\n",
       "      <td>1</td>\n",
       "      <td>Art01</td>\n",
       "      <td>3</td>\n",
       "      <td>0.0</td>\n",
       "      <td>T</td>\n",
       "      <td>2</td>\n",
       "      <td>3</td>\n",
       "      <td>3.15</td>\n",
       "    </tr>\n",
       "  </tbody>\n",
       "</table>\n",
       "</div>"
      ],
      "text/plain": [
       "               T Day      LOC  cluster    SKU  ProdCluster  UNI Tr/T  xgb  ts  \\\n",
       "FECHA                                                                           \n",
       "2019-06-10  70.0   L  LOC_003        1  Art01            3  0.0    T    2   3   \n",
       "2019-06-11  71.0   M  LOC_003        1  Art01            3  3.0    T    2   3   \n",
       "2019-06-12  72.0  Mi  LOC_003        1  Art01            3  3.0    T    2   3   \n",
       "2019-06-13  73.0   J  LOC_003        1  Art01            3  0.0    T    2   3   \n",
       "2019-06-14  74.0   V  LOC_003        1  Art01            3  0.0    T    2   3   \n",
       "\n",
       "            baseline  \n",
       "FECHA                 \n",
       "2019-06-10      3.15  \n",
       "2019-06-11      3.15  \n",
       "2019-06-12      3.15  \n",
       "2019-06-13      3.15  \n",
       "2019-06-14      3.15  "
      ]
     },
     "execution_count": 20,
     "metadata": {},
     "output_type": "execute_result"
    }
   ],
   "source": [
    "df=pd.read_excel('Test5.xlsx', index_col=0, parse_dates=True)\n",
    "df['UNI']=df['UNI'].astype('float64')\n",
    "df['T']=df['T'].astype('float64')\n",
    "df.head()"
   ]
  },
  {
   "cell_type": "code",
   "execution_count": 21,
   "metadata": {},
   "outputs": [
    {
     "data": {
      "text/html": [
       "<div>\n",
       "<style scoped>\n",
       "    .dataframe tbody tr th:only-of-type {\n",
       "        vertical-align: middle;\n",
       "    }\n",
       "\n",
       "    .dataframe tbody tr th {\n",
       "        vertical-align: top;\n",
       "    }\n",
       "\n",
       "    .dataframe thead th {\n",
       "        text-align: right;\n",
       "    }\n",
       "</style>\n",
       "<table border=\"1\" class=\"dataframe\">\n",
       "  <thead>\n",
       "    <tr style=\"text-align: right;\">\n",
       "      <th></th>\n",
       "      <th>T</th>\n",
       "      <th>Day</th>\n",
       "      <th>LOC</th>\n",
       "      <th>SKU</th>\n",
       "    </tr>\n",
       "    <tr>\n",
       "      <th>FECHA</th>\n",
       "      <th></th>\n",
       "      <th></th>\n",
       "      <th></th>\n",
       "      <th></th>\n",
       "    </tr>\n",
       "  </thead>\n",
       "  <tbody>\n",
       "    <tr>\n",
       "      <th>2019-06-10</th>\n",
       "      <td>70.0</td>\n",
       "      <td>L</td>\n",
       "      <td>LOC_003</td>\n",
       "      <td>Art01</td>\n",
       "    </tr>\n",
       "    <tr>\n",
       "      <th>2019-06-11</th>\n",
       "      <td>71.0</td>\n",
       "      <td>M</td>\n",
       "      <td>LOC_003</td>\n",
       "      <td>Art01</td>\n",
       "    </tr>\n",
       "    <tr>\n",
       "      <th>2019-06-12</th>\n",
       "      <td>72.0</td>\n",
       "      <td>Mi</td>\n",
       "      <td>LOC_003</td>\n",
       "      <td>Art01</td>\n",
       "    </tr>\n",
       "    <tr>\n",
       "      <th>2019-06-13</th>\n",
       "      <td>73.0</td>\n",
       "      <td>J</td>\n",
       "      <td>LOC_003</td>\n",
       "      <td>Art01</td>\n",
       "    </tr>\n",
       "    <tr>\n",
       "      <th>2019-06-14</th>\n",
       "      <td>74.0</td>\n",
       "      <td>V</td>\n",
       "      <td>LOC_003</td>\n",
       "      <td>Art01</td>\n",
       "    </tr>\n",
       "  </tbody>\n",
       "</table>\n",
       "</div>"
      ],
      "text/plain": [
       "               T Day      LOC    SKU\n",
       "FECHA                               \n",
       "2019-06-10  70.0   L  LOC_003  Art01\n",
       "2019-06-11  71.0   M  LOC_003  Art01\n",
       "2019-06-12  72.0  Mi  LOC_003  Art01\n",
       "2019-06-13  73.0   J  LOC_003  Art01\n",
       "2019-06-14  74.0   V  LOC_003  Art01"
      ]
     },
     "execution_count": 21,
     "metadata": {},
     "output_type": "execute_result"
    }
   ],
   "source": [
    "y_test=df.UNI.values\n",
    "X_testdf=df.drop(columns=['UNI','cluster','ProdCluster','Tr/T','xgb','ts','baseline'])\n",
    "X_testdf.head()"
   ]
  },
  {
   "cell_type": "code",
   "execution_count": 22,
   "metadata": {},
   "outputs": [
    {
     "name": "stdout",
     "output_type": "stream",
     "text": [
      "<class 'pandas.core.frame.DataFrame'>\n",
      "DatetimeIndex: 16 entries, 2019-06-10 to 2019-06-18\n",
      "Data columns (total 4 columns):\n",
      " #   Column  Non-Null Count  Dtype  \n",
      "---  ------  --------------  -----  \n",
      " 0   T       16 non-null     float64\n",
      " 1   Day     16 non-null     object \n",
      " 2   LOC     16 non-null     object \n",
      " 3   SKU     16 non-null     object \n",
      "dtypes: float64(1), object(3)\n",
      "memory usage: 640.0+ bytes\n"
     ]
    }
   ],
   "source": [
    "X_testdf.info()"
   ]
  },
  {
   "cell_type": "code",
   "execution_count": 23,
   "metadata": {},
   "outputs": [
    {
     "data": {
      "text/plain": [
       "(16, 433)"
      ]
     },
     "execution_count": 23,
     "metadata": {},
     "output_type": "execute_result"
    }
   ],
   "source": [
    "X_test=encoder.transform(X_testdf.values).toarray() #17%\n",
    "X_test.shape"
   ]
  },
  {
   "cell_type": "code",
   "execution_count": 24,
   "metadata": {},
   "outputs": [],
   "source": [
    "y_pred_test_xgb = np.round(grid_mse.predict(X_test),0)"
   ]
  },
  {
   "cell_type": "code",
   "execution_count": 25,
   "metadata": {},
   "outputs": [
    {
     "name": "stdout",
     "output_type": "stream",
     "text": [
      "test\n",
      "3.072051431861127 -0.0961887477313974 2.0\n"
     ]
    }
   ],
   "source": [
    "#test\n",
    "print('test')\n",
    "mse=mean_squared_error(y_test,y_pred_test_xgb)\n",
    "r2=r2_score(y_test,y_pred_test_xgb)\n",
    "mae=median_absolute_error(y_test,y_pred_test_xgb)\n",
    "print((mse)**(0.5),r2,mae)"
   ]
  },
  {
   "cell_type": "code",
   "execution_count": 26,
   "metadata": {},
   "outputs": [
    {
     "data": {
      "image/png": "[encoded data removed]",
      "text/plain": [
       "<Figure size 432x288 with 1 Axes>"
      ]
     },
     "metadata": {
      "needs_background": "light"
     },
     "output_type": "display_data"
    }
   ],
   "source": [
    "# Figura 8\n",
    "xl=[0,6]\n",
    "yl=[0,6]\n",
    "#plt.figure(figsize = (15,10))\n",
    "plt.plot(xl,yl, color='red')\n",
    "plt.scatter(y_test,y_pred_test_xgb,color='black')\n",
    "#plt.xlim([0,6])\n",
    "#plt.ylim([0,6])\n",
    "plt.xlabel('Observed '), plt.ylabel('Predicted '), plt.title('XGBoost ')\n",
    "plt.show()"
   ]
  },
  {
   "cell_type": "code",
   "execution_count": 27,
   "metadata": {},
   "outputs": [
    {
     "data": {
      "text/plain": [
       "array([2., 2., 2., 2., 2., 2., 2., 2., 2., 2., 2., 2., 2., 2., 1., 2.],\n",
       "      dtype=float32)"
      ]
     },
     "execution_count": 27,
     "metadata": {},
     "output_type": "execute_result"
    }
   ],
   "source": [
    "y_pred_test_xgb"
   ]
  },
  {
   "cell_type": "code",
   "execution_count": 28,
   "metadata": {},
   "outputs": [
    {
     "data": {
      "text/plain": [
       "array([0., 3., 3., 0., 0., 3., 0., 1., 0., 1., 0., 0., 0., 6., 8., 9.])"
      ]
     },
     "execution_count": 28,
     "metadata": {},
     "output_type": "execute_result"
    }
   ],
   "source": [
    "y_test"
   ]
  },
  {
   "cell_type": "code",
   "execution_count": null,
   "metadata": {},
   "outputs": [],
   "source": []
  }
 ],
 "metadata": {
  "kernelspec": {
   "display_name": "Python 3",
   "language": "python",
   "name": "python3"
  },
  "language_info": {
   "codemirror_mode": {
    "name": "ipython",
    "version": 3
   },
   "file_extension": ".py",
   "mimetype": "text/x-python",
   "name": "python",
   "nbconvert_exporter": "python",
   "pygments_lexer": "ipython3",
   "version": "3.8.3"
  }
 },
 "nbformat": 4,
 "nbformat_minor": 4
}
