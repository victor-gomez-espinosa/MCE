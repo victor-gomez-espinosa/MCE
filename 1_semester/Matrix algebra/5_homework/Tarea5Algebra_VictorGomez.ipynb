{
 "cells": [
  {
   "cell_type": "markdown",
   "metadata": {},
   "source": [
    "# Tarea5 Algebra Matricial, Victor Manuel Gómez Espinosa"
   ]
  },
  {
   "cell_type": "markdown",
   "metadata": {},
   "source": [
    "# 1.- Factorización LU\n",
    "## Funcion para hacer la factorizacion \n",
    "Datos de entrada:\n",
    "A matriz de nxn\n",
    "\n",
    "Salidas:\n",
    "\n",
    "L\n",
    "\n",
    "U"
   ]
  },
  {
   "cell_type": "markdown",
   "metadata": {},
   "source": [
    "## Instrucciones:\n",
    "## 1.1 se ejecuta el siguiente bloque de código"
   ]
  },
  {
   "cell_type": "code",
   "execution_count": 35,
   "metadata": {},
   "outputs": [],
   "source": [
    "swaprows<-function(p,r1,r2){#devuelve la matriz de permutación\n",
    "    di<-dim(p)\n",
    "    n<-di[1] #renglones\n",
    "    m<-di[2] #columnas\n",
    "    #I<-diag(x=1,n,m) #Identity matrix\n",
    "    vt<-matrix(0,1,m) #vector renglon de 0's\n",
    "    if(r1!=r2){\n",
    "        vt=I[r1,] #vector temporal\n",
    "        p[r1,]=I[r2,] #intercambia renglones\n",
    "        p[r2,]=vt\n",
    "    }\n",
    "    return(I)\n",
    "    \n",
    "}\n",
    "\n",
    "lowerZ<-function(A,j){#devuelve una matriz de ceros excepto los elementos debajo del pivote\n",
    "    di<-dim(A)\n",
    "    n<-di[1] #renglones\n",
    "    m<-di[2] #columnas\n",
    "    z<-matrix(0,n,m) #vector renglon de 1's\n",
    "    i<-1:j\n",
    "    z[-i,j]<-A[-i,j] #selecciona elementos debajo del pivote\n",
    "    return(z)\n",
    "    \n",
    "}\n",
    "\n",
    "my_lu<-function(A){#resuleve\n",
    "    di<-dim(A) #dimensiones\n",
    "    n<-di[1] #renglones\n",
    "    m<-di[2] #columnas\n",
    "    err<-0 #se puede hacer la factorizacion\n",
    "    \n",
    "    if(n==m){\n",
    "        z<-matrix(0,n,m) #vector renglon de 0's\n",
    "        l<-z #inicializa matrices y vectores\n",
    "        u<-z\n",
    "        tk<-z\n",
    "        li<-z\n",
    "        I<-diag(x=1,n,m) #Identity matrix\n",
    "        p<-I\n",
    "        i<-0\n",
    "        j<-0\n",
    "        pivot<-0\n",
    "\n",
    "        #realiza el esscalonamiento por lu\n",
    "        for(j in 1:n){\n",
    "            pivot<-A[j,j] #pivote\n",
    "\n",
    "            if(pivot!=0){#sin hacer cambios de renglon\n",
    "                tk<-lowerZ(A,j)/pivot  #obtiene los elementos debajo del pivote\n",
    "                li<-I-tk #matriz del tipo 3\n",
    "                A<-li%*%A #se eliminan los elementos debajo del pivote\n",
    "\n",
    "            }else if(pivot==0){#pivote 0\n",
    "                cat(\"Error el pivote en i :\",j,\"j: \",j,\"es cero \\n\" )\n",
    "                vres <- list(0, 0)\n",
    "                err<-1\n",
    "                \n",
    "\n",
    "            }\n",
    "\n",
    "            z<-z+tk #acumula los elementos debajo del pivote\n",
    "\n",
    "        }\n",
    "        l<-I+z #obtiene la matriz l\n",
    "        u<-A #u\n",
    "        \n",
    "        vres <- list(l, u)\n",
    "        \n",
    "        if(err==1){\n",
    "            vres <- list(0, 0)\n",
    "        }\n",
    "        \n",
    "        \n",
    "    }else{\n",
    "        cat(\"Error! Las dimensiones son diferentes \\n\")\n",
    "        vres <- list(0, 0)\n",
    "    }\n",
    "    \n",
    "    return(vres)\n",
    "    \n",
    "}"
   ]
  },
  {
   "cell_type": "markdown",
   "metadata": {},
   "source": [
    "## Ejemplo:"
   ]
  },
  {
   "cell_type": "markdown",
   "metadata": {},
   "source": [
    "matriz de ejemplo"
   ]
  },
  {
   "cell_type": "code",
   "execution_count": 36,
   "metadata": {},
   "outputs": [
    {
     "data": {
      "text/html": [
       "<table>\n",
       "<tbody>\n",
       "\t<tr><td> 2 </td><td>  3</td><td>0  </td><td>0  </td></tr>\n",
       "\t<tr><td> 4 </td><td>  7</td><td>2  </td><td>0  </td></tr>\n",
       "\t<tr><td>-6 </td><td>-10</td><td>0  </td><td>1  </td></tr>\n",
       "\t<tr><td> 4 </td><td>  6</td><td>4  </td><td>5  </td></tr>\n",
       "</tbody>\n",
       "</table>\n"
      ],
      "text/latex": [
       "\\begin{tabular}{llll}\n",
       "\t  2  &   3 & 0   & 0  \\\\\n",
       "\t  4  &   7 & 2   & 0  \\\\\n",
       "\t -6  & -10 & 0   & 1  \\\\\n",
       "\t  4  &   6 & 4   & 5  \\\\\n",
       "\\end{tabular}\n"
      ],
      "text/markdown": [
       "\n",
       "|  2  |   3 | 0   | 0   |\n",
       "|  4  |   7 | 2   | 0   |\n",
       "| -6  | -10 | 0   | 1   |\n",
       "|  4  |   6 | 4   | 5   |\n",
       "\n"
      ],
      "text/plain": [
       "     [,1] [,2] [,3] [,4]\n",
       "[1,]  2     3  0    0   \n",
       "[2,]  4     7  2    0   \n",
       "[3,] -6   -10  0    1   \n",
       "[4,]  4     6  4    5   "
      ]
     },
     "metadata": {},
     "output_type": "display_data"
    }
   ],
   "source": [
    "vec<-c(2,4,-6,4,3,7,-10,6,0,2,0,4,0,0,1,5) #llenar por columnas\n",
    "A<-matrix(vec,4,4) #matrix\n",
    "A"
   ]
  },
  {
   "cell_type": "markdown",
   "metadata": {},
   "source": [
    "Probando la funcion para obtener la matriz L y U"
   ]
  },
  {
   "cell_type": "code",
   "execution_count": 37,
   "metadata": {},
   "outputs": [
    {
     "data": {
      "text/html": [
       "<table>\n",
       "<tbody>\n",
       "\t<tr><td> 1</td><td> 0</td><td>0 </td><td>0 </td></tr>\n",
       "\t<tr><td> 2</td><td> 1</td><td>0 </td><td>0 </td></tr>\n",
       "\t<tr><td>-3</td><td>-1</td><td>1 </td><td>0 </td></tr>\n",
       "\t<tr><td> 2</td><td> 0</td><td>2 </td><td>1 </td></tr>\n",
       "</tbody>\n",
       "</table>\n"
      ],
      "text/latex": [
       "\\begin{tabular}{llll}\n",
       "\t  1 &  0 & 0  & 0 \\\\\n",
       "\t  2 &  1 & 0  & 0 \\\\\n",
       "\t -3 & -1 & 1  & 0 \\\\\n",
       "\t  2 &  0 & 2  & 1 \\\\\n",
       "\\end{tabular}\n"
      ],
      "text/markdown": [
       "\n",
       "|  1 |  0 | 0  | 0  |\n",
       "|  2 |  1 | 0  | 0  |\n",
       "| -3 | -1 | 1  | 0  |\n",
       "|  2 |  0 | 2  | 1  |\n",
       "\n"
      ],
      "text/plain": [
       "     [,1] [,2] [,3] [,4]\n",
       "[1,]  1    0   0    0   \n",
       "[2,]  2    1   0    0   \n",
       "[3,] -3   -1   1    0   \n",
       "[4,]  2    0   2    1   "
      ]
     },
     "metadata": {},
     "output_type": "display_data"
    },
    {
     "data": {
      "text/html": [
       "<table>\n",
       "<tbody>\n",
       "\t<tr><td>2</td><td>3</td><td>0</td><td>0</td></tr>\n",
       "\t<tr><td>0</td><td>1</td><td>2</td><td>0</td></tr>\n",
       "\t<tr><td>0</td><td>0</td><td>2</td><td>1</td></tr>\n",
       "\t<tr><td>0</td><td>0</td><td>0</td><td>3</td></tr>\n",
       "</tbody>\n",
       "</table>\n"
      ],
      "text/latex": [
       "\\begin{tabular}{llll}\n",
       "\t 2 & 3 & 0 & 0\\\\\n",
       "\t 0 & 1 & 2 & 0\\\\\n",
       "\t 0 & 0 & 2 & 1\\\\\n",
       "\t 0 & 0 & 0 & 3\\\\\n",
       "\\end{tabular}\n"
      ],
      "text/markdown": [
       "\n",
       "| 2 | 3 | 0 | 0 |\n",
       "| 0 | 1 | 2 | 0 |\n",
       "| 0 | 0 | 2 | 1 |\n",
       "| 0 | 0 | 0 | 3 |\n",
       "\n"
      ],
      "text/plain": [
       "     [,1] [,2] [,3] [,4]\n",
       "[1,] 2    3    0    0   \n",
       "[2,] 0    1    2    0   \n",
       "[3,] 0    0    2    1   \n",
       "[4,] 0    0    0    3   "
      ]
     },
     "metadata": {},
     "output_type": "display_data"
    }
   ],
   "source": [
    "listt<-my_lu(A) #mi funcion\n",
    "l<-listt[[1]] #obtiene L\n",
    "l\n",
    "u<-listt[[2]] #obtiene U\n",
    "u"
   ]
  },
  {
   "cell_type": "code",
   "execution_count": 38,
   "metadata": {},
   "outputs": [
    {
     "data": {
      "text/html": [
       "<dl>\n",
       "\t<dt>$P</dt>\n",
       "\t\t<dd><table>\n",
       "<tbody>\n",
       "\t<tr><td>1</td><td>0</td><td>0</td><td>0</td></tr>\n",
       "\t<tr><td>0</td><td>1</td><td>0</td><td>0</td></tr>\n",
       "\t<tr><td>0</td><td>0</td><td>1</td><td>0</td></tr>\n",
       "\t<tr><td>0</td><td>0</td><td>0</td><td>1</td></tr>\n",
       "</tbody>\n",
       "</table>\n",
       "</dd>\n",
       "\t<dt>$L</dt>\n",
       "\t\t<dd><table>\n",
       "<tbody>\n",
       "\t<tr><td> 1</td><td> 0</td><td>0 </td><td>0 </td></tr>\n",
       "\t<tr><td> 2</td><td> 1</td><td>0 </td><td>0 </td></tr>\n",
       "\t<tr><td>-3</td><td>-1</td><td>1 </td><td>0 </td></tr>\n",
       "\t<tr><td> 2</td><td> 0</td><td>2 </td><td>1 </td></tr>\n",
       "</tbody>\n",
       "</table>\n",
       "</dd>\n",
       "\t<dt>$U</dt>\n",
       "\t\t<dd><table>\n",
       "<tbody>\n",
       "\t<tr><td>2</td><td>3</td><td>0</td><td>0</td></tr>\n",
       "\t<tr><td>0</td><td>1</td><td>2</td><td>0</td></tr>\n",
       "\t<tr><td>0</td><td>0</td><td>2</td><td>1</td></tr>\n",
       "\t<tr><td>0</td><td>0</td><td>0</td><td>3</td></tr>\n",
       "</tbody>\n",
       "</table>\n",
       "</dd>\n",
       "</dl>\n"
      ],
      "text/latex": [
       "\\begin{description}\n",
       "\\item[\\$P] \\begin{tabular}{llll}\n",
       "\t 1 & 0 & 0 & 0\\\\\n",
       "\t 0 & 1 & 0 & 0\\\\\n",
       "\t 0 & 0 & 1 & 0\\\\\n",
       "\t 0 & 0 & 0 & 1\\\\\n",
       "\\end{tabular}\n",
       "\n",
       "\\item[\\$L] \\begin{tabular}{llll}\n",
       "\t  1 &  0 & 0  & 0 \\\\\n",
       "\t  2 &  1 & 0  & 0 \\\\\n",
       "\t -3 & -1 & 1  & 0 \\\\\n",
       "\t  2 &  0 & 2  & 1 \\\\\n",
       "\\end{tabular}\n",
       "\n",
       "\\item[\\$U] \\begin{tabular}{llll}\n",
       "\t 2 & 3 & 0 & 0\\\\\n",
       "\t 0 & 1 & 2 & 0\\\\\n",
       "\t 0 & 0 & 2 & 1\\\\\n",
       "\t 0 & 0 & 0 & 3\\\\\n",
       "\\end{tabular}\n",
       "\n",
       "\\end{description}\n"
      ],
      "text/markdown": [
       "$P\n",
       ":   \n",
       "| 1 | 0 | 0 | 0 |\n",
       "| 0 | 1 | 0 | 0 |\n",
       "| 0 | 0 | 1 | 0 |\n",
       "| 0 | 0 | 0 | 1 |\n",
       "\n",
       "\n",
       "$L\n",
       ":   \n",
       "|  1 |  0 | 0  | 0  |\n",
       "|  2 |  1 | 0  | 0  |\n",
       "| -3 | -1 | 1  | 0  |\n",
       "|  2 |  0 | 2  | 1  |\n",
       "\n",
       "\n",
       "$U\n",
       ":   \n",
       "| 2 | 3 | 0 | 0 |\n",
       "| 0 | 1 | 2 | 0 |\n",
       "| 0 | 0 | 2 | 1 |\n",
       "| 0 | 0 | 0 | 3 |\n",
       "\n",
       "\n",
       "\n",
       "\n"
      ],
      "text/plain": [
       "$P\n",
       "     [,1] [,2] [,3] [,4]\n",
       "[1,]    1    0    0    0\n",
       "[2,]    0    1    0    0\n",
       "[3,]    0    0    1    0\n",
       "[4,]    0    0    0    1\n",
       "\n",
       "$L\n",
       "     [,1] [,2] [,3] [,4]\n",
       "[1,]    1    0    0    0\n",
       "[2,]    2    1    0    0\n",
       "[3,]   -3   -1    1    0\n",
       "[4,]    2    0    2    1\n",
       "\n",
       "$U\n",
       "     [,1] [,2] [,3] [,4]\n",
       "[1,]    2    3    0    0\n",
       "[2,]    0    1    2    0\n",
       "[3,]    0    0    2    1\n",
       "[4,]    0    0    0    3\n"
      ]
     },
     "metadata": {},
     "output_type": "display_data"
    }
   ],
   "source": [
    "library(matlib)\n",
    "LU(A) #funcion de r"
   ]
  },
  {
   "cell_type": "markdown",
   "metadata": {},
   "source": [
    "# 2.- Factorización LU por pivoteo parcial\n",
    "## Funcion para hacer la factorizacion \n",
    "Datos de entrada:\n",
    "A matriz de nxn\n",
    "\n",
    "Salidas:\n",
    "\n",
    "P \n",
    "\n",
    "L\n",
    "\n",
    "U"
   ]
  },
  {
   "cell_type": "code",
   "execution_count": 129,
   "metadata": {},
   "outputs": [],
   "source": [
    "swaprows<-function(p,r1,r2){#devuelve la matriz de permutación\n",
    "    di<-dim(p)\n",
    "    n<-di[1] #renglones\n",
    "    m<-di[2] #columnas\n",
    "    vt<-matrix(0,1,m) #vector renglon de 0's\n",
    "    if(r1!=r2){\n",
    "        vt=p[r1,] #vector temporal\n",
    "        p[r1,]=p[r2,] #intercambia renglones\n",
    "        p[r2,]=vt\n",
    "    }\n",
    "    \n",
    "    return(p)\n",
    "    \n",
    "}\n",
    "\n",
    "lowerZ<-function(A,j){#devuelve una matriz de ceros excepto los elementos debajo del pivote\n",
    "    di<-dim(A)\n",
    "    n<-di[1] #renglones\n",
    "    m<-di[2] #columnas\n",
    "    z<-matrix(0,n,m) #vector renglon de 1's\n",
    "    i<-1:j\n",
    "    z[-i,j]<-A[-i,j] #selecciona elementos debajo del pivote\n",
    "    return(z)\n",
    "    \n",
    "}\n",
    "\n",
    "my_lu<-function(A){#resuleve\n",
    "    di<-dim(A) #dimensiones\n",
    "    n<-di[1] #renglones\n",
    "    m<-di[2] #columnas\n",
    "    if(n==m){\n",
    "        z<-matrix(0,n,m) #vector renglon de 0's\n",
    "        l<-z #inicializa matrices y vectores\n",
    "        u<-z\n",
    "        tk<-z\n",
    "        li<-z\n",
    "        I<-diag(x=1,n,m) #Identity matrix\n",
    "        p<-I\n",
    "        i<-0\n",
    "        j<-0\n",
    "        pivot<-0\n",
    "        x<-0\n",
    "        \n",
    "        #realiza el esscalonamiento por lu\n",
    "        for(j in 1:(n-1)){\n",
    "            pivot<-A[j,j] #pivote\n",
    "\n",
    "                if(j==1){## cuando es el primer pivote\n",
    "                    r1<-j\n",
    "                    r2<-which(abs(A[,j])==max(abs(A[,j])))[1] #encuentra el renglon a intercambiar\n",
    "                }else{# despues del primero\n",
    "                    x<-1:(j-1)\n",
    "                    r1<-j\n",
    "                    r2<-which(abs(A[,j])==max(abs(A[-x,j])))[1] #encuentra el renglon a intercambiar\n",
    "                }\n",
    "                \n",
    "                \n",
    "                \n",
    "                \n",
    "                \n",
    "                \n",
    "                p<-swaprows(p,r1,r2) #actualiza la matriz p\n",
    "                z<-swaprows(z,r1,r2) #actualiza la matriz l\n",
    "            \n",
    "                pp<-swaprows(I,r1,r2)\n",
    "                A<-pp%*%A#intercambia los renglones\n",
    "                \n",
    "            \n",
    "                pivot<-A[j,j]\n",
    "\n",
    "                if(pivot!=0){\n",
    "                    tk<-lowerZ(A,j)/pivot\n",
    "                    li<-I-tk\n",
    "                    A<-li%*%A\n",
    "                }\n",
    "                \n",
    "                \n",
    "\n",
    "            \n",
    "\n",
    "            z<-z+tk #acumula los elementos debajo del pivote\n",
    "            \n",
    "        }\n",
    "        l<-I+z #obtiene la matriz l\n",
    "        u<-A #u\n",
    "        vres <- list(p,l, u)\n",
    "        \n",
    "        return(vres)\n",
    "        \n",
    "    }else{\n",
    "        cat(\"Error! Las dimensiones son diferentes \\n\")\n",
    "    }\n",
    "    \n",
    "}"
   ]
  },
  {
   "cell_type": "markdown",
   "metadata": {},
   "source": [
    "## Ejemplo:"
   ]
  },
  {
   "cell_type": "markdown",
   "metadata": {},
   "source": [
    "matriz de ejemplo"
   ]
  },
  {
   "cell_type": "code",
   "execution_count": 131,
   "metadata": {},
   "outputs": [
    {
     "data": {
      "text/html": [
       "<table>\n",
       "<tbody>\n",
       "\t<tr><td> 2 </td><td>  3</td><td>0  </td><td>0  </td></tr>\n",
       "\t<tr><td> 4 </td><td>  7</td><td>2  </td><td>0  </td></tr>\n",
       "\t<tr><td>-6 </td><td>-10</td><td>0  </td><td>1  </td></tr>\n",
       "\t<tr><td> 4 </td><td>  6</td><td>4  </td><td>5  </td></tr>\n",
       "</tbody>\n",
       "</table>\n"
      ],
      "text/latex": [
       "\\begin{tabular}{llll}\n",
       "\t  2  &   3 & 0   & 0  \\\\\n",
       "\t  4  &   7 & 2   & 0  \\\\\n",
       "\t -6  & -10 & 0   & 1  \\\\\n",
       "\t  4  &   6 & 4   & 5  \\\\\n",
       "\\end{tabular}\n"
      ],
      "text/markdown": [
       "\n",
       "|  2  |   3 | 0   | 0   |\n",
       "|  4  |   7 | 2   | 0   |\n",
       "| -6  | -10 | 0   | 1   |\n",
       "|  4  |   6 | 4   | 5   |\n",
       "\n"
      ],
      "text/plain": [
       "     [,1] [,2] [,3] [,4]\n",
       "[1,]  2     3  0    0   \n",
       "[2,]  4     7  2    0   \n",
       "[3,] -6   -10  0    1   \n",
       "[4,]  4     6  4    5   "
      ]
     },
     "metadata": {},
     "output_type": "display_data"
    }
   ],
   "source": [
    "vec<-c(2,4,-6,4,3,7,-10,6,0,2,0,4,0,0,1,5) #llenar por columnas\n",
    "A<-matrix(vec,4,4) #matrix\n",
    "A"
   ]
  },
  {
   "cell_type": "markdown",
   "metadata": {},
   "source": [
    "Probando la funcion para obtener la matriz L y U"
   ]
  },
  {
   "cell_type": "code",
   "execution_count": 132,
   "metadata": {},
   "outputs": [
    {
     "data": {
      "text/html": [
       "<table>\n",
       "<tbody>\n",
       "\t<tr><td>0</td><td>0</td><td>1</td><td>0</td></tr>\n",
       "\t<tr><td>0</td><td>0</td><td>0</td><td>1</td></tr>\n",
       "\t<tr><td>0</td><td>1</td><td>0</td><td>0</td></tr>\n",
       "\t<tr><td>1</td><td>0</td><td>0</td><td>0</td></tr>\n",
       "</tbody>\n",
       "</table>\n"
      ],
      "text/latex": [
       "\\begin{tabular}{llll}\n",
       "\t 0 & 0 & 1 & 0\\\\\n",
       "\t 0 & 0 & 0 & 1\\\\\n",
       "\t 0 & 1 & 0 & 0\\\\\n",
       "\t 1 & 0 & 0 & 0\\\\\n",
       "\\end{tabular}\n"
      ],
      "text/markdown": [
       "\n",
       "| 0 | 0 | 1 | 0 |\n",
       "| 0 | 0 | 0 | 1 |\n",
       "| 0 | 1 | 0 | 0 |\n",
       "| 1 | 0 | 0 | 0 |\n",
       "\n"
      ],
      "text/plain": [
       "     [,1] [,2] [,3] [,4]\n",
       "[1,] 0    0    1    0   \n",
       "[2,] 0    0    0    1   \n",
       "[3,] 0    1    0    0   \n",
       "[4,] 1    0    0    0   "
      ]
     },
     "metadata": {},
     "output_type": "display_data"
    },
    {
     "data": {
      "text/html": [
       "<table>\n",
       "<tbody>\n",
       "\t<tr><td> 1.0000000</td><td> 0.0      </td><td> 0.0      </td><td>0         </td></tr>\n",
       "\t<tr><td>-0.6666667</td><td> 1.0      </td><td> 0.0      </td><td>0         </td></tr>\n",
       "\t<tr><td>-0.6666667</td><td>-0.5      </td><td> 1.0      </td><td>0         </td></tr>\n",
       "\t<tr><td>-0.3333333</td><td> 0.5      </td><td>-0.5      </td><td>1         </td></tr>\n",
       "</tbody>\n",
       "</table>\n"
      ],
      "text/latex": [
       "\\begin{tabular}{llll}\n",
       "\t  1.0000000 &  0.0       &  0.0       & 0         \\\\\n",
       "\t -0.6666667 &  1.0       &  0.0       & 0         \\\\\n",
       "\t -0.6666667 & -0.5       &  1.0       & 0         \\\\\n",
       "\t -0.3333333 &  0.5       & -0.5       & 1         \\\\\n",
       "\\end{tabular}\n"
      ],
      "text/markdown": [
       "\n",
       "|  1.0000000 |  0.0       |  0.0       | 0          |\n",
       "| -0.6666667 |  1.0       |  0.0       | 0          |\n",
       "| -0.6666667 | -0.5       |  1.0       | 0          |\n",
       "| -0.3333333 |  0.5       | -0.5       | 1          |\n",
       "\n"
      ],
      "text/plain": [
       "     [,1]       [,2] [,3] [,4]\n",
       "[1,]  1.0000000  0.0  0.0 0   \n",
       "[2,] -0.6666667  1.0  0.0 0   \n",
       "[3,] -0.6666667 -0.5  1.0 0   \n",
       "[4,] -0.3333333  0.5 -0.5 1   "
      ]
     },
     "metadata": {},
     "output_type": "display_data"
    },
    {
     "data": {
      "text/html": [
       "<table>\n",
       "<tbody>\n",
       "\t<tr><td>-6         </td><td>-10.0000000</td><td>0          </td><td> 1.000000  </td></tr>\n",
       "\t<tr><td> 0         </td><td> -0.6666667</td><td>4          </td><td> 5.666667  </td></tr>\n",
       "\t<tr><td> 0         </td><td>  0.0000000</td><td>4          </td><td> 3.500000  </td></tr>\n",
       "\t<tr><td> 0         </td><td>  0.0000000</td><td>0          </td><td>-0.750000  </td></tr>\n",
       "</tbody>\n",
       "</table>\n"
      ],
      "text/latex": [
       "\\begin{tabular}{llll}\n",
       "\t -6          & -10.0000000 & 0           &  1.000000  \\\\\n",
       "\t  0          &  -0.6666667 & 4           &  5.666667  \\\\\n",
       "\t  0          &   0.0000000 & 4           &  3.500000  \\\\\n",
       "\t  0          &   0.0000000 & 0           & -0.750000  \\\\\n",
       "\\end{tabular}\n"
      ],
      "text/markdown": [
       "\n",
       "| -6          | -10.0000000 | 0           |  1.000000   |\n",
       "|  0          |  -0.6666667 | 4           |  5.666667   |\n",
       "|  0          |   0.0000000 | 4           |  3.500000   |\n",
       "|  0          |   0.0000000 | 0           | -0.750000   |\n",
       "\n"
      ],
      "text/plain": [
       "     [,1] [,2]        [,3] [,4]     \n",
       "[1,] -6   -10.0000000 0     1.000000\n",
       "[2,]  0    -0.6666667 4     5.666667\n",
       "[3,]  0     0.0000000 4     3.500000\n",
       "[4,]  0     0.0000000 0    -0.750000"
      ]
     },
     "metadata": {},
     "output_type": "display_data"
    }
   ],
   "source": [
    "listt<-my_lu(A) #mi funcion\n",
    "p<-listt[[1]] #obtiene P\n",
    "p\n",
    "l<-listt[[2]] #obtiene L\n",
    "l\n",
    "u<-listt[[3]] #obtiene U\n",
    "u"
   ]
  }
 ],
 "metadata": {
  "kernelspec": {
   "display_name": "R",
   "language": "R",
   "name": "ir"
  },
  "language_info": {
   "codemirror_mode": "r",
   "file_extension": ".r",
   "mimetype": "text/x-r-source",
   "name": "R",
   "pygments_lexer": "r",
   "version": "3.6.1"
  }
 },
 "nbformat": 4,
 "nbformat_minor": 2
}
