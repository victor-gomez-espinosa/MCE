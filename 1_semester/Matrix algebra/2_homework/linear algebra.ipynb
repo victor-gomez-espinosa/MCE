{
 "cells": [
  {
   "cell_type": "code",
   "execution_count": 112,
   "metadata": {},
   "outputs": [
    {
     "data": {
      "text/html": [
       "<table>\n",
       "<tbody>\n",
       "\t<tr><td>0</td><td>0</td><td>0</td></tr>\n",
       "</tbody>\n",
       "</table>\n"
      ],
      "text/latex": [
       "\\begin{tabular}{lll}\n",
       "\t 0 & 0 & 0\\\\\n",
       "\\end{tabular}\n"
      ],
      "text/markdown": [
       "\n",
       "| 0 | 0 | 0 |\n",
       "\n"
      ],
      "text/plain": [
       "     [,1] [,2] [,3]\n",
       "[1,] 0    0    0   "
      ]
     },
     "metadata": {},
     "output_type": "display_data"
    }
   ],
   "source": [
    "z<-matrix(0, 1, 3) #row vector of 0's\n",
    "z"
   ]
  },
  {
   "cell_type": "code",
   "execution_count": 146,
   "metadata": {},
   "outputs": [
    {
     "data": {
      "text/html": [
       "<table>\n",
       "<tbody>\n",
       "\t<tr><td>1</td><td>1</td><td>1</td><td>1</td></tr>\n",
       "\t<tr><td>1</td><td>1</td><td>1</td><td>1</td></tr>\n",
       "\t<tr><td>1</td><td>1</td><td>1</td><td>1</td></tr>\n",
       "</tbody>\n",
       "</table>\n"
      ],
      "text/latex": [
       "\\begin{tabular}{llll}\n",
       "\t 1 & 1 & 1 & 1\\\\\n",
       "\t 1 & 1 & 1 & 1\\\\\n",
       "\t 1 & 1 & 1 & 1\\\\\n",
       "\\end{tabular}\n"
      ],
      "text/markdown": [
       "\n",
       "| 1 | 1 | 1 | 1 |\n",
       "| 1 | 1 | 1 | 1 |\n",
       "| 1 | 1 | 1 | 1 |\n",
       "\n"
      ],
      "text/plain": [
       "     [,1] [,2] [,3] [,4]\n",
       "[1,] 1    1    1    1   \n",
       "[2,] 1    1    1    1   \n",
       "[3,] 1    1    1    1   "
      ]
     },
     "metadata": {},
     "output_type": "display_data"
    }
   ],
   "source": [
    "aa<-matrix(1,3,4)\n",
    "aa"
   ]
  },
  {
   "cell_type": "code",
   "execution_count": 147,
   "metadata": {},
   "outputs": [
    {
     "ename": "ERROR",
     "evalue": "Error in determinant.matrix(x, logarithm = TRUE, ...): 'x' must be a square matrix\n",
     "output_type": "error",
     "traceback": [
      "Error in determinant.matrix(x, logarithm = TRUE, ...): 'x' must be a square matrix\nTraceback:\n",
      "1. det(aa)",
      "2. determinant(x, logarithm = TRUE, ...)",
      "3. determinant.matrix(x, logarithm = TRUE, ...)",
      "4. stop(\"'x' must be a square matrix\")"
     ]
    }
   ],
   "source": [
    "det(aa)"
   ]
  },
  {
   "cell_type": "code",
   "execution_count": 113,
   "metadata": {},
   "outputs": [
    {
     "data": {
      "text/html": [
       "<table>\n",
       "<tbody>\n",
       "\t<tr><td>1</td><td>1</td><td>1</td></tr>\n",
       "</tbody>\n",
       "</table>\n"
      ],
      "text/latex": [
       "\\begin{tabular}{lll}\n",
       "\t 1 & 1 & 1\\\\\n",
       "\\end{tabular}\n"
      ],
      "text/markdown": [
       "\n",
       "| 1 | 1 | 1 |\n",
       "\n"
      ],
      "text/plain": [
       "     [,1] [,2] [,3]\n",
       "[1,] 1    1    1   "
      ]
     },
     "metadata": {},
     "output_type": "display_data"
    }
   ],
   "source": [
    "o<-matrix(1, 1, 3) #row vector of 1's\n",
    "o"
   ]
  },
  {
   "cell_type": "code",
   "execution_count": 1,
   "metadata": {},
   "outputs": [],
   "source": [
    "x1<-1:10\n",
    "x2<-1:10"
   ]
  },
  {
   "cell_type": "code",
   "execution_count": 2,
   "metadata": {},
   "outputs": [
    {
     "data": {
      "text/html": [
       "<ol class=list-inline>\n",
       "\t<li>TRUE</li>\n",
       "\t<li>TRUE</li>\n",
       "\t<li>TRUE</li>\n",
       "\t<li>TRUE</li>\n",
       "\t<li>TRUE</li>\n",
       "\t<li>TRUE</li>\n",
       "\t<li>TRUE</li>\n",
       "\t<li>TRUE</li>\n",
       "\t<li>TRUE</li>\n",
       "\t<li>TRUE</li>\n",
       "</ol>\n"
      ],
      "text/latex": [
       "\\begin{enumerate*}\n",
       "\\item TRUE\n",
       "\\item TRUE\n",
       "\\item TRUE\n",
       "\\item TRUE\n",
       "\\item TRUE\n",
       "\\item TRUE\n",
       "\\item TRUE\n",
       "\\item TRUE\n",
       "\\item TRUE\n",
       "\\item TRUE\n",
       "\\end{enumerate*}\n"
      ],
      "text/markdown": [
       "1. TRUE\n",
       "2. TRUE\n",
       "3. TRUE\n",
       "4. TRUE\n",
       "5. TRUE\n",
       "6. TRUE\n",
       "7. TRUE\n",
       "8. TRUE\n",
       "9. TRUE\n",
       "10. TRUE\n",
       "\n",
       "\n"
      ],
      "text/plain": [
       " [1] TRUE TRUE TRUE TRUE TRUE TRUE TRUE TRUE TRUE TRUE"
      ]
     },
     "metadata": {},
     "output_type": "display_data"
    }
   ],
   "source": [
    "x1==x2"
   ]
  },
  {
   "cell_type": "code",
   "execution_count": 59,
   "metadata": {},
   "outputs": [],
   "source": [
    "vec<-c(3,2,-5,5,-3,-6,2,1,-3) #llenar por columnas\n",
    "A<-matrix(vec,3,3) #matrix\n",
    "vec2<-c(3,4,5)\n",
    "B<-matrix(vec2,1,3) #row vector\n",
    "B<-t(B) #transpose"
   ]
  },
  {
   "cell_type": "code",
   "execution_count": 60,
   "metadata": {},
   "outputs": [
    {
     "data": {
      "text/html": [
       "<table>\n",
       "<tbody>\n",
       "\t<tr><td> 3</td><td> 5</td><td> 2</td></tr>\n",
       "\t<tr><td> 2</td><td>-3</td><td> 1</td></tr>\n",
       "\t<tr><td>-5</td><td>-6</td><td>-3</td></tr>\n",
       "</tbody>\n",
       "</table>\n"
      ],
      "text/latex": [
       "\\begin{tabular}{lll}\n",
       "\t  3 &  5 &  2\\\\\n",
       "\t  2 & -3 &  1\\\\\n",
       "\t -5 & -6 & -3\\\\\n",
       "\\end{tabular}\n"
      ],
      "text/markdown": [
       "\n",
       "|  3 |  5 |  2 |\n",
       "|  2 | -3 |  1 |\n",
       "| -5 | -6 | -3 |\n",
       "\n"
      ],
      "text/plain": [
       "     [,1] [,2] [,3]\n",
       "[1,]  3    5    2  \n",
       "[2,]  2   -3    1  \n",
       "[3,] -5   -6   -3  "
      ]
     },
     "metadata": {},
     "output_type": "display_data"
    },
    {
     "data": {
      "text/html": [
       "<table>\n",
       "<tbody>\n",
       "\t<tr><td>3</td></tr>\n",
       "\t<tr><td>4</td></tr>\n",
       "\t<tr><td>5</td></tr>\n",
       "</tbody>\n",
       "</table>\n"
      ],
      "text/latex": [
       "\\begin{tabular}{l}\n",
       "\t 3\\\\\n",
       "\t 4\\\\\n",
       "\t 5\\\\\n",
       "\\end{tabular}\n"
      ],
      "text/markdown": [
       "\n",
       "| 3 |\n",
       "| 4 |\n",
       "| 5 |\n",
       "\n"
      ],
      "text/plain": [
       "     [,1]\n",
       "[1,] 3   \n",
       "[2,] 4   \n",
       "[3,] 5   "
      ]
     },
     "metadata": {},
     "output_type": "display_data"
    }
   ],
   "source": [
    "A\n",
    "B"
   ]
  },
  {
   "cell_type": "code",
   "execution_count": 61,
   "metadata": {},
   "outputs": [
    {
     "data": {
      "text/html": [
       "<ol class=list-inline>\n",
       "\t<li>3</li>\n",
       "\t<li>1</li>\n",
       "</ol>\n"
      ],
      "text/latex": [
       "\\begin{enumerate*}\n",
       "\\item 3\n",
       "\\item 1\n",
       "\\end{enumerate*}\n"
      ],
      "text/markdown": [
       "1. 3\n",
       "2. 1\n",
       "\n",
       "\n"
      ],
      "text/plain": [
       "[1] 3 1"
      ]
     },
     "metadata": {},
     "output_type": "display_data"
    }
   ],
   "source": [
    "di<-dim(B) #dimensions\n",
    "di"
   ]
  },
  {
   "cell_type": "code",
   "execution_count": 62,
   "metadata": {},
   "outputs": [
    {
     "data": {
      "text/html": [
       "-3.99999999999999"
      ],
      "text/latex": [
       "-3.99999999999999"
      ],
      "text/markdown": [
       "-3.99999999999999"
      ],
      "text/plain": [
       "[1] -4"
      ]
     },
     "metadata": {},
     "output_type": "display_data"
    }
   ],
   "source": [
    "d<-det(A) #determinant\n",
    "d"
   ]
  },
  {
   "cell_type": "code",
   "execution_count": 63,
   "metadata": {},
   "outputs": [],
   "source": [
    "C<-A%*%B #matrix multiplication"
   ]
  },
  {
   "cell_type": "code",
   "execution_count": 64,
   "metadata": {},
   "outputs": [
    {
     "data": {
      "text/html": [
       "<table>\n",
       "<tbody>\n",
       "\t<tr><td> 39</td></tr>\n",
       "\t<tr><td> -1</td></tr>\n",
       "\t<tr><td>-54</td></tr>\n",
       "</tbody>\n",
       "</table>\n"
      ],
      "text/latex": [
       "\\begin{tabular}{l}\n",
       "\t  39\\\\\n",
       "\t  -1\\\\\n",
       "\t -54\\\\\n",
       "\\end{tabular}\n"
      ],
      "text/markdown": [
       "\n",
       "|  39 |\n",
       "|  -1 |\n",
       "| -54 |\n",
       "\n"
      ],
      "text/plain": [
       "     [,1]\n",
       "[1,]  39 \n",
       "[2,]  -1 \n",
       "[3,] -54 "
      ]
     },
     "metadata": {},
     "output_type": "display_data"
    }
   ],
   "source": [
    "C"
   ]
  },
  {
   "cell_type": "code",
   "execution_count": 65,
   "metadata": {},
   "outputs": [
    {
     "data": {
      "text/html": [
       "<table>\n",
       "<tbody>\n",
       "\t<tr><td>1</td><td>0</td><td>0</td></tr>\n",
       "\t<tr><td>0</td><td>1</td><td>0</td></tr>\n",
       "\t<tr><td>0</td><td>0</td><td>1</td></tr>\n",
       "</tbody>\n",
       "</table>\n"
      ],
      "text/latex": [
       "\\begin{tabular}{lll}\n",
       "\t 1 & 0 & 0\\\\\n",
       "\t 0 & 1 & 0\\\\\n",
       "\t 0 & 0 & 1\\\\\n",
       "\\end{tabular}\n"
      ],
      "text/markdown": [
       "\n",
       "| 1 | 0 | 0 |\n",
       "| 0 | 1 | 0 |\n",
       "| 0 | 0 | 1 |\n",
       "\n"
      ],
      "text/plain": [
       "     [,1] [,2] [,3]\n",
       "[1,] 1    0    0   \n",
       "[2,] 0    1    0   \n",
       "[3,] 0    0    1   "
      ]
     },
     "metadata": {},
     "output_type": "display_data"
    }
   ],
   "source": [
    "I<-diag(3) #Identity matrix\n",
    "I"
   ]
  },
  {
   "cell_type": "code",
   "execution_count": 75,
   "metadata": {},
   "outputs": [
    {
     "data": {
      "text/html": [
       "<ol class=list-inline>\n",
       "\t<li>1</li>\n",
       "\t<li>0</li>\n",
       "\t<li>0</li>\n",
       "</ol>\n"
      ],
      "text/latex": [
       "\\begin{enumerate*}\n",
       "\\item 1\n",
       "\\item 0\n",
       "\\item 0\n",
       "\\end{enumerate*}\n"
      ],
      "text/markdown": [
       "1. 1\n",
       "2. 0\n",
       "3. 0\n",
       "\n",
       "\n"
      ],
      "text/plain": [
       "[1] 1 0 0"
      ]
     },
     "metadata": {},
     "output_type": "display_data"
    }
   ],
   "source": [
    "e1<-I[1,]\n",
    "e1"
   ]
  },
  {
   "cell_type": "code",
   "execution_count": 70,
   "metadata": {},
   "outputs": [
    {
     "data": {
      "text/html": [
       "<table>\n",
       "<tbody>\n",
       "\t<tr><td>3</td><td>5</td><td>2</td></tr>\n",
       "</tbody>\n",
       "</table>\n"
      ],
      "text/latex": [
       "\\begin{tabular}{lll}\n",
       "\t 3 & 5 & 2\\\\\n",
       "\\end{tabular}\n"
      ],
      "text/markdown": [
       "\n",
       "| 3 | 5 | 2 |\n",
       "\n"
      ],
      "text/plain": [
       "     [,1] [,2] [,3]\n",
       "[1,] 3    5    2   "
      ]
     },
     "metadata": {},
     "output_type": "display_data"
    }
   ],
   "source": [
    "e1%*%A #extraccion de renglones"
   ]
  },
  {
   "cell_type": "code",
   "execution_count": 77,
   "metadata": {},
   "outputs": [
    {
     "data": {
      "text/html": [
       "<table>\n",
       "<tbody>\n",
       "\t<tr><td> 3</td></tr>\n",
       "\t<tr><td> 2</td></tr>\n",
       "\t<tr><td>-5</td></tr>\n",
       "</tbody>\n",
       "</table>\n"
      ],
      "text/latex": [
       "\\begin{tabular}{l}\n",
       "\t  3\\\\\n",
       "\t  2\\\\\n",
       "\t -5\\\\\n",
       "\\end{tabular}\n"
      ],
      "text/markdown": [
       "\n",
       "|  3 |\n",
       "|  2 |\n",
       "| -5 |\n",
       "\n"
      ],
      "text/plain": [
       "     [,1]\n",
       "[1,]  3  \n",
       "[2,]  2  \n",
       "[3,] -5  "
      ]
     },
     "metadata": {},
     "output_type": "display_data"
    }
   ],
   "source": [
    "A%*%e1 #extraccion de columnas"
   ]
  },
  {
   "cell_type": "code",
   "execution_count": 78,
   "metadata": {},
   "outputs": [
    {
     "data": {
      "text/html": [
       "<table>\n",
       "<tbody>\n",
       "\t<tr><td>7</td><td>3</td><td>4</td></tr>\n",
       "</tbody>\n",
       "</table>\n"
      ],
      "text/latex": [
       "\\begin{tabular}{lll}\n",
       "\t 7 & 3 & 4\\\\\n",
       "\\end{tabular}\n"
      ],
      "text/markdown": [
       "\n",
       "| 7 | 3 | 4 |\n",
       "\n"
      ],
      "text/plain": [
       "     [,1] [,2] [,3]\n",
       "[1,] 7    3    4   "
      ]
     },
     "metadata": {},
     "output_type": "display_data"
    }
   ],
   "source": [
    "e1<-I[2,]-I[3,]\n",
    "e1%*%A #"
   ]
  },
  {
   "cell_type": "code",
   "execution_count": 236,
   "metadata": {},
   "outputs": [
    {
     "data": {
      "text/html": [
       "<table>\n",
       "<tbody>\n",
       "\t<tr><td>0 </td><td>-3</td><td>1 </td><td>5 </td></tr>\n",
       "\t<tr><td>0 </td><td>-6</td><td>2 </td><td>6 </td></tr>\n",
       "\t<tr><td>0 </td><td> 1</td><td>3 </td><td>7 </td></tr>\n",
       "\t<tr><td>1 </td><td> 1</td><td>4 </td><td>8 </td></tr>\n",
       "</tbody>\n",
       "</table>\n"
      ],
      "text/latex": [
       "\\begin{tabular}{llll}\n",
       "\t 0  & -3 & 1  & 5 \\\\\n",
       "\t 0  & -6 & 2  & 6 \\\\\n",
       "\t 0  &  1 & 3  & 7 \\\\\n",
       "\t 1  &  1 & 4  & 8 \\\\\n",
       "\\end{tabular}\n"
      ],
      "text/markdown": [
       "\n",
       "| 0  | -3 | 1  | 5  |\n",
       "| 0  | -6 | 2  | 6  |\n",
       "| 0  |  1 | 3  | 7  |\n",
       "| 1  |  1 | 4  | 8  |\n",
       "\n"
      ],
      "text/plain": [
       "     [,1] [,2] [,3] [,4]\n",
       "[1,] 0    -3   1    5   \n",
       "[2,] 0    -6   2    6   \n",
       "[3,] 0     1   3    7   \n",
       "[4,] 1     1   4    8   "
      ]
     },
     "metadata": {},
     "output_type": "display_data"
    },
    {
     "data": {
      "text/html": [
       "40"
      ],
      "text/latex": [
       "40"
      ],
      "text/markdown": [
       "40"
      ],
      "text/plain": [
       "[1] 40"
      ]
     },
     "metadata": {},
     "output_type": "display_data"
    }
   ],
   "source": [
    "vec<-c(0,0,0,1,-3,-6,1,1,1,2,3,4,5,6,7,8) #llenar por columnas\n",
    "A<-matrix(vec,4,4) #matrix\n",
    "A\n",
    "det(A)"
   ]
  },
  {
   "cell_type": "code",
   "execution_count": 194,
   "metadata": {},
   "outputs": [],
   "source": [
    "ol<-matrix(1,1,3) #renglones con ceros\n",
    "or<-matrix(1,1,3)\n",
    "or<-t(or)\n",
    "mz<-A==0\n",
    "colz<-(ol%*%mz)/3\n",
    "renz<-(mz%*%or)/3"
   ]
  },
  {
   "cell_type": "code",
   "execution_count": 196,
   "metadata": {},
   "outputs": [
    {
     "data": {
      "text/html": [
       "<table>\n",
       "<tbody>\n",
       "\t<tr><td>FALSE</td><td>FALSE</td><td>FALSE</td></tr>\n",
       "\t<tr><td>FALSE</td><td>FALSE</td><td>FALSE</td></tr>\n",
       "\t<tr><td>FALSE</td><td>FALSE</td><td>FALSE</td></tr>\n",
       "</tbody>\n",
       "</table>\n"
      ],
      "text/latex": [
       "\\begin{tabular}{lll}\n",
       "\t FALSE & FALSE & FALSE\\\\\n",
       "\t FALSE & FALSE & FALSE\\\\\n",
       "\t FALSE & FALSE & FALSE\\\\\n",
       "\\end{tabular}\n"
      ],
      "text/markdown": [
       "\n",
       "| FALSE | FALSE | FALSE |\n",
       "| FALSE | FALSE | FALSE |\n",
       "| FALSE | FALSE | FALSE |\n",
       "\n"
      ],
      "text/plain": [
       "     [,1]  [,2]  [,3] \n",
       "[1,] FALSE FALSE FALSE\n",
       "[2,] FALSE FALSE FALSE\n",
       "[3,] FALSE FALSE FALSE"
      ]
     },
     "metadata": {},
     "output_type": "display_data"
    },
    {
     "data": {
      "text/html": [
       "<table>\n",
       "<tbody>\n",
       "\t<tr><td>0</td><td>0</td><td>0</td></tr>\n",
       "</tbody>\n",
       "</table>\n"
      ],
      "text/latex": [
       "\\begin{tabular}{lll}\n",
       "\t 0 & 0 & 0\\\\\n",
       "\\end{tabular}\n"
      ],
      "text/markdown": [
       "\n",
       "| 0 | 0 | 0 |\n",
       "\n"
      ],
      "text/plain": [
       "     [,1] [,2] [,3]\n",
       "[1,] 0    0    0   "
      ]
     },
     "metadata": {},
     "output_type": "display_data"
    },
    {
     "data": {
      "text/html": [
       "<table>\n",
       "<tbody>\n",
       "\t<tr><td>0</td></tr>\n",
       "\t<tr><td>0</td></tr>\n",
       "\t<tr><td>0</td></tr>\n",
       "</tbody>\n",
       "</table>\n"
      ],
      "text/latex": [
       "\\begin{tabular}{l}\n",
       "\t 0\\\\\n",
       "\t 0\\\\\n",
       "\t 0\\\\\n",
       "\\end{tabular}\n"
      ],
      "text/markdown": [
       "\n",
       "| 0 |\n",
       "| 0 |\n",
       "| 0 |\n",
       "\n"
      ],
      "text/plain": [
       "     [,1]\n",
       "[1,] 0   \n",
       "[2,] 0   \n",
       "[3,] 0   "
      ]
     },
     "metadata": {},
     "output_type": "display_data"
    },
    {
     "data": {
      "text/html": [
       "0"
      ],
      "text/latex": [
       "0"
      ],
      "text/markdown": [
       "0"
      ],
      "text/plain": [
       "[1] 0"
      ]
     },
     "metadata": {},
     "output_type": "display_data"
    },
    {
     "data": {
      "text/html": [
       "0"
      ],
      "text/latex": [
       "0"
      ],
      "text/markdown": [
       "0"
      ],
      "text/plain": [
       "[1] 0"
      ]
     },
     "metadata": {},
     "output_type": "display_data"
    },
    {
     "data": {
      "text/html": [
       "0"
      ],
      "text/latex": [
       "0"
      ],
      "text/markdown": [
       "0"
      ],
      "text/plain": [
       "[1] 0"
      ]
     },
     "metadata": {},
     "output_type": "display_data"
    },
    {
     "data": {
      "text/html": [
       "0"
      ],
      "text/latex": [
       "0"
      ],
      "text/markdown": [
       "0"
      ],
      "text/plain": [
       "[1] 0"
      ]
     },
     "metadata": {},
     "output_type": "display_data"
    }
   ],
   "source": [
    "mz\n",
    "colz\n",
    "renz\n",
    "mxc<-max(colz)\n",
    "mxr<-max(renz)\n",
    "mxc\n",
    "mxr\n",
    "if(mxr>mxc){#renglon\n",
    "    i<-which(renz==mxr)\n",
    "    j<-0\n",
    "}else if(mxr<mxc){#columnas\n",
    "    i<-0\n",
    "    j<-which(colz==mxc)\n",
    "}else{\n",
    "    i<-0\n",
    "    j<-0\n",
    "}\n",
    "i\n",
    "j"
   ]
  },
  {
   "cell_type": "code",
   "execution_count": 232,
   "metadata": {},
   "outputs": [
    {
     "data": {
      "text/html": [
       "<table>\n",
       "<tbody>\n",
       "\t<tr><td>1 </td><td>1 </td><td> 0</td></tr>\n",
       "\t<tr><td>2 </td><td>2 </td><td> 1</td></tr>\n",
       "\t<tr><td>3 </td><td>3 </td><td>-3</td></tr>\n",
       "</tbody>\n",
       "</table>\n"
      ],
      "text/latex": [
       "\\begin{tabular}{lll}\n",
       "\t 1  & 1  &  0\\\\\n",
       "\t 2  & 2  &  1\\\\\n",
       "\t 3  & 3  & -3\\\\\n",
       "\\end{tabular}\n"
      ],
      "text/markdown": [
       "\n",
       "| 1  | 1  |  0 |\n",
       "| 2  | 2  |  1 |\n",
       "| 3  | 3  | -3 |\n",
       "\n"
      ],
      "text/plain": [
       "     [,1] [,2] [,3]\n",
       "[1,] 1    1     0  \n",
       "[2,] 2    2     1  \n",
       "[3,] 3    3    -3  "
      ]
     },
     "metadata": {},
     "output_type": "display_data"
    }
   ],
   "source": [
    "vec<-c(1,2,3,1,2,3,0,1,-3) #llenar por columnas\n",
    "A<-matrix(vec,3,3) #matrix\n",
    "A"
   ]
  },
  {
   "cell_type": "code",
   "execution_count": 223,
   "metadata": {},
   "outputs": [
    {
     "data": {
      "text/html": [
       "1"
      ],
      "text/latex": [
       "1"
      ],
      "text/markdown": [
       "1"
      ],
      "text/plain": [
       "[1] 1"
      ]
     },
     "metadata": {},
     "output_type": "display_data"
    }
   ],
   "source": [
    "A[1,1]"
   ]
  },
  {
   "cell_type": "code",
   "execution_count": 142,
   "metadata": {},
   "outputs": [],
   "source": [
    "ol<-matrix(1,1,3) #columnas repetidas\n",
    "or<-matrix(1,1,3)\n",
    "or<-t(or)\n",
    "mrep<-A==A[,1]\n",
    "colr<-(ol%*%mrep)/3\n",
    "rengr<-(mrep%*%or)/3"
   ]
  },
  {
   "cell_type": "code",
   "execution_count": 145,
   "metadata": {},
   "outputs": [
    {
     "data": {
      "text/html": [
       "<table>\n",
       "<tbody>\n",
       "\t<tr><td>TRUE </td><td>TRUE </td><td>FALSE</td></tr>\n",
       "\t<tr><td>TRUE </td><td>TRUE </td><td>FALSE</td></tr>\n",
       "\t<tr><td>TRUE </td><td>TRUE </td><td>FALSE</td></tr>\n",
       "</tbody>\n",
       "</table>\n"
      ],
      "text/latex": [
       "\\begin{tabular}{lll}\n",
       "\t TRUE  & TRUE  & FALSE\\\\\n",
       "\t TRUE  & TRUE  & FALSE\\\\\n",
       "\t TRUE  & TRUE  & FALSE\\\\\n",
       "\\end{tabular}\n"
      ],
      "text/markdown": [
       "\n",
       "| TRUE  | TRUE  | FALSE |\n",
       "| TRUE  | TRUE  | FALSE |\n",
       "| TRUE  | TRUE  | FALSE |\n",
       "\n"
      ],
      "text/plain": [
       "     [,1] [,2] [,3] \n",
       "[1,] TRUE TRUE FALSE\n",
       "[2,] TRUE TRUE FALSE\n",
       "[3,] TRUE TRUE FALSE"
      ]
     },
     "metadata": {},
     "output_type": "display_data"
    },
    {
     "data": {
      "text/html": [
       "1"
      ],
      "text/latex": [
       "1"
      ],
      "text/markdown": [
       "1"
      ],
      "text/plain": [
       "[1] 1"
      ]
     },
     "metadata": {},
     "output_type": "display_data"
    },
    {
     "data": {
      "text/html": [
       "0"
      ],
      "text/latex": [
       "0"
      ],
      "text/markdown": [
       "0"
      ],
      "text/plain": [
       "[1] 0"
      ]
     },
     "metadata": {},
     "output_type": "display_data"
    }
   ],
   "source": [
    "mrep\n",
    "sum(colr>=1)-1\n",
    "sum(rengr>=1)"
   ]
  },
  {
   "cell_type": "code",
   "execution_count": 3,
   "metadata": {},
   "outputs": [],
   "source": [
    "check_mat<-function(A){#checa para cuando la matriz no es cuadrada, hay columnas o renglones completos con ceros o repetidos\n",
    "    di<-dim(A)\n",
    "    n<-di[1] #renglones\n",
    "    m<-di[2] #columnas\n",
    "    ol<-matrix(1,1,m) #vector renglon de 1's\n",
    "    or<-matrix(1,n,1) #vector columna de 1's\n",
    "    rorcr<-0 #inicia en cero el contador de columnas o renglones repetidos\n",
    "    if(n!=m){#si no es matriz cuadrada\n",
    "        cat(\"Error! Las dimensiones son diferentes \\n\")\n",
    "        d<-(-1)\n",
    "    }else{#checar si hay renglones o columnas completos con ceros\n",
    "        mz<-A==0 #donde hay ceros\n",
    "        colz<-(ol%*%mz)/n  #promedio columnas\n",
    "        renz<-(mz%*%or)/m  #promedio renglones\n",
    "        colz<-sum(colz>=1) #mas de una columna con ceros?\n",
    "        renz<-sum(renz>=1) #mas de un renglon con ceros?\n",
    "        if(colz>=1|renz>=1){#hay ceros en columnas o renglones completos?\n",
    "            d<-0\n",
    "        }else{#checa si hay columnas o renglones iguales\n",
    "            i<-1\n",
    "            while(rorcr==0&i<=n){\n",
    "                \n",
    "                #por renglones\n",
    "                mrepr<-A==A[i,]\n",
    "                rengr<-(mrepr%*%or)/m\n",
    "                rengr<-sum(rengr>=1)-1\n",
    "                \n",
    "                #por columnas\n",
    "                mrepc<-A==A[,i]\n",
    "                colr<-(ol%*%mrepc)/n\n",
    "                colr<-sum(colr>=1)-1\n",
    "                i<-i+1\n",
    "                if(rengr>=1|colr>=1){\n",
    "                    rorcr<-1\n",
    "                    d<-0\n",
    "                }\n",
    "                \n",
    "            }\n",
    "\n",
    "            \n",
    "            \n",
    "        }\n",
    "        \n",
    "    }\n",
    "    d<-1#si no se cumplió ninguna de las condiciones\n",
    "    return(d)\n",
    "\n",
    "}"
   ]
  },
  {
   "cell_type": "code",
   "execution_count": 17,
   "metadata": {},
   "outputs": [],
   "source": [
    "my_det<-function(A,ren=1,col=0){#calcula el determinante, por default para ren=1 si el usuario no ingresa nada\n",
    "    ac<-0\n",
    "    di<-dim(A) \n",
    "    n<-di[1] #renglones\n",
    "    m<-di[2] #columnas\n",
    "    ol<-matrix(1,1,m) #vector renglon de 1's\n",
    "    or<-matrix(1,n,1) #vector columna de 1's\n",
    "    dc<-check_mat(A)#checa para cuando la matriz no es cuadrada, hay columnas o renglones completos con ceros o repetidos\n",
    "    if(dc==0){#filas o columnas con 0 o filas o columnas repetidas\n",
    "        d<-0\n",
    "    }else if(dc>0){#si no se cumple la condicion anterior\n",
    "        if(n==2){#caso base\n",
    "            d<-(A[1,1]*A[2,2])-(A[2,1]*A[1,2])\n",
    "        }else{\n",
    "            #determina fila o columna para calcular el determinante (con mas ceros)\n",
    "            mz<-A==0 #donde hay ceros\n",
    "            colz<-(ol%*%mz)/n  #promedio columnas\n",
    "            renz<-(mz%*%or)/m  #promedio renglones\n",
    "            mxc<-max(colz)\n",
    "            mxr<-max(renz)\n",
    "            if(mxr>mxc){#renglon con mas ceros\n",
    "                i<-which(renz==mxr)\n",
    "                j<-0\n",
    "                ii<-which(A[i,]!=0)\n",
    "            }else if(mxr<mxc){#columnas con mas ceros\n",
    "                i<-0\n",
    "                j<-which(colz==mxc)\n",
    "                ii<-which(A[,j]!=0)\n",
    "            }else{\n",
    "                i<-ren\n",
    "                j<-0\n",
    "                ii<-which(A[i,]!=0)\n",
    "            }\n",
    "\n",
    "\n",
    "            if(i!=0){#por renglon\n",
    "                for(j in ii){\n",
    "                    aij=A[i,j]\n",
    "                    c=(-1)^(i+j)\n",
    "                    Aij=A[-i,-j]\n",
    "                    daij<-my_det(Aij)\n",
    "                    cij<-c*daij\n",
    "                    \n",
    "                    ac<-ac+(aij*cij)\n",
    "                    \n",
    "                    \n",
    "                }\n",
    "\n",
    "            }else if(j!=0){#por columna\n",
    "                for(i in ii){\n",
    "                    aij=A[i,j]\n",
    "                    c=(-1)^(i+j)\n",
    "                    Aij=A[-i,-j]\n",
    "                    daij<-my_det(Aij)\n",
    "                    cij<-c*daij\n",
    "                    \n",
    "                    ac<-ac+(aij*cij)\n",
    "                    \n",
    "                    \n",
    "                }\n",
    "\n",
    "            }\n",
    "            d<-ac\n",
    "            \n",
    "            \n",
    "        }\n",
    "\n",
    "        \n",
    "\n",
    "        \n",
    "    }\n",
    "    return(d)\n",
    "    \n",
    "}"
   ]
  },
  {
   "cell_type": "code",
   "execution_count": 18,
   "metadata": {},
   "outputs": [
    {
     "data": {
      "text/html": [
       "<table>\n",
       "<tbody>\n",
       "\t<tr><td> 0</td><td>-6</td><td>3 </td><td> 8</td><td>5 </td></tr>\n",
       "\t<tr><td> 0</td><td> 1</td><td>4 </td><td>22</td><td>4 </td></tr>\n",
       "\t<tr><td> 0</td><td> 1</td><td>5 </td><td>23</td><td>3 </td></tr>\n",
       "\t<tr><td> 1</td><td> 1</td><td>6 </td><td> 2</td><td>2 </td></tr>\n",
       "\t<tr><td>-3</td><td> 2</td><td>7 </td><td> 1</td><td>1 </td></tr>\n",
       "</tbody>\n",
       "</table>\n"
      ],
      "text/latex": [
       "\\begin{tabular}{lllll}\n",
       "\t  0 & -6 & 3  &  8 & 5 \\\\\n",
       "\t  0 &  1 & 4  & 22 & 4 \\\\\n",
       "\t  0 &  1 & 5  & 23 & 3 \\\\\n",
       "\t  1 &  1 & 6  &  2 & 2 \\\\\n",
       "\t -3 &  2 & 7  &  1 & 1 \\\\\n",
       "\\end{tabular}\n"
      ],
      "text/markdown": [
       "\n",
       "|  0 | -6 | 3  |  8 | 5  |\n",
       "|  0 |  1 | 4  | 22 | 4  |\n",
       "|  0 |  1 | 5  | 23 | 3  |\n",
       "|  1 |  1 | 6  |  2 | 2  |\n",
       "| -3 |  2 | 7  |  1 | 1  |\n",
       "\n"
      ],
      "text/plain": [
       "     [,1] [,2] [,3] [,4] [,5]\n",
       "[1,]  0   -6   3     8   5   \n",
       "[2,]  0    1   4    22   4   \n",
       "[3,]  0    1   5    23   3   \n",
       "[4,]  1    1   6     2   2   \n",
       "[5,] -3    2   7     1   1   "
      ]
     },
     "metadata": {},
     "output_type": "display_data"
    }
   ],
   "source": [
    "vec<-c(0,0,0,1,-3,-6,1,1,1,2,3,4,5,6,7,8,22,23,2,1,5,4,3,2,1) #llenar por columnas\n",
    "A<-matrix(vec,5,5) #matrix\n",
    "A\n"
   ]
  },
  {
   "cell_type": "code",
   "execution_count": 19,
   "metadata": {},
   "outputs": [
    {
     "data": {
      "text/html": [
       "-5144"
      ],
      "text/latex": [
       "-5144"
      ],
      "text/markdown": [
       "-5144"
      ],
      "text/plain": [
       "[1] -5144"
      ]
     },
     "metadata": {},
     "output_type": "display_data"
    },
    {
     "data": {
      "text/html": [
       "-5144"
      ],
      "text/latex": [
       "-5144"
      ],
      "text/markdown": [
       "-5144"
      ],
      "text/plain": [
       "[1] -5144"
      ]
     },
     "metadata": {},
     "output_type": "display_data"
    }
   ],
   "source": [
    "#A\n",
    "my_det(A)\n",
    "det(A)"
   ]
  },
  {
   "cell_type": "code",
   "execution_count": 28,
   "metadata": {},
   "outputs": [
    {
     "data": {
      "text/html": [
       "<table>\n",
       "<tbody>\n",
       "\t<tr><td> 2 </td><td>  3</td><td>0  </td><td>0  </td></tr>\n",
       "\t<tr><td> 4 </td><td>  7</td><td>2  </td><td>0  </td></tr>\n",
       "\t<tr><td>-6 </td><td>-10</td><td>0  </td><td>1  </td></tr>\n",
       "\t<tr><td> 4 </td><td>  6</td><td>4  </td><td>5  </td></tr>\n",
       "</tbody>\n",
       "</table>\n"
      ],
      "text/latex": [
       "\\begin{tabular}{llll}\n",
       "\t  2  &   3 & 0   & 0  \\\\\n",
       "\t  4  &   7 & 2   & 0  \\\\\n",
       "\t -6  & -10 & 0   & 1  \\\\\n",
       "\t  4  &   6 & 4   & 5  \\\\\n",
       "\\end{tabular}\n"
      ],
      "text/markdown": [
       "\n",
       "|  2  |   3 | 0   | 0   |\n",
       "|  4  |   7 | 2   | 0   |\n",
       "| -6  | -10 | 0   | 1   |\n",
       "|  4  |   6 | 4   | 5   |\n",
       "\n"
      ],
      "text/plain": [
       "     [,1] [,2] [,3] [,4]\n",
       "[1,]  2     3  0    0   \n",
       "[2,]  4     7  2    0   \n",
       "[3,] -6   -10  0    1   \n",
       "[4,]  4     6  4    5   "
      ]
     },
     "metadata": {},
     "output_type": "display_data"
    },
    {
     "data": {
      "text/html": [
       "12"
      ],
      "text/latex": [
       "12"
      ],
      "text/markdown": [
       "12"
      ],
      "text/plain": [
       "[1] 12"
      ]
     },
     "metadata": {},
     "output_type": "display_data"
    }
   ],
   "source": [
    "vec<-c(2,4,-6,4,3,7,-10,6,0,2,0,4,0,0,1,5) #llenar por columnas\n",
    "A<-matrix(vec,4,4) #matrix\n",
    "A\n",
    "det(A)"
   ]
  },
  {
   "cell_type": "code",
   "execution_count": 32,
   "metadata": {},
   "outputs": [
    {
     "data": {
      "text/html": [
       "3"
      ],
      "text/latex": [
       "3"
      ],
      "text/markdown": [
       "3"
      ],
      "text/plain": [
       "[1] 3"
      ]
     },
     "metadata": {},
     "output_type": "display_data"
    }
   ],
   "source": [
    "i2<-which(abs(A[,1])==max(abs(A[,1]))) #encuentra el renglon a intercambiar\n",
    "i2"
   ]
  },
  {
   "cell_type": "code",
   "execution_count": null,
   "metadata": {},
   "outputs": [],
   "source": [
    "I<-diag(3) #Identity matrix"
   ]
  },
  {
   "cell_type": "code",
   "execution_count": 37,
   "metadata": {},
   "outputs": [
    {
     "data": {
      "text/html": [
       "<table>\n",
       "<tbody>\n",
       "\t<tr><td>1</td><td>0</td><td>0</td><td>0</td></tr>\n",
       "\t<tr><td>0</td><td>1</td><td>0</td><td>0</td></tr>\n",
       "\t<tr><td>0</td><td>0</td><td>1</td><td>0</td></tr>\n",
       "\t<tr><td>0</td><td>0</td><td>0</td><td>1</td></tr>\n",
       "</tbody>\n",
       "</table>\n"
      ],
      "text/latex": [
       "\\begin{tabular}{llll}\n",
       "\t 1 & 0 & 0 & 0\\\\\n",
       "\t 0 & 1 & 0 & 0\\\\\n",
       "\t 0 & 0 & 1 & 0\\\\\n",
       "\t 0 & 0 & 0 & 1\\\\\n",
       "\\end{tabular}\n"
      ],
      "text/markdown": [
       "\n",
       "| 1 | 0 | 0 | 0 |\n",
       "| 0 | 1 | 0 | 0 |\n",
       "| 0 | 0 | 1 | 0 |\n",
       "| 0 | 0 | 0 | 1 |\n",
       "\n"
      ],
      "text/plain": [
       "     [,1] [,2] [,3] [,4]\n",
       "[1,] 1    0    0    0   \n",
       "[2,] 0    1    0    0   \n",
       "[3,] 0    0    1    0   \n",
       "[4,] 0    0    0    1   "
      ]
     },
     "metadata": {},
     "output_type": "display_data"
    },
    {
     "data": {
      "text/html": [
       "<table>\n",
       "<tbody>\n",
       "\t<tr><td>-6 </td><td>-10</td><td>0  </td><td>1  </td></tr>\n",
       "\t<tr><td> 4 </td><td>  7</td><td>2  </td><td>0  </td></tr>\n",
       "\t<tr><td> 2 </td><td>  3</td><td>0  </td><td>0  </td></tr>\n",
       "\t<tr><td> 4 </td><td>  6</td><td>4  </td><td>5  </td></tr>\n",
       "</tbody>\n",
       "</table>\n"
      ],
      "text/latex": [
       "\\begin{tabular}{llll}\n",
       "\t -6  & -10 & 0   & 1  \\\\\n",
       "\t  4  &   7 & 2   & 0  \\\\\n",
       "\t  2  &   3 & 0   & 0  \\\\\n",
       "\t  4  &   6 & 4   & 5  \\\\\n",
       "\\end{tabular}\n"
      ],
      "text/markdown": [
       "\n",
       "| -6  | -10 | 0   | 1   |\n",
       "|  4  |   7 | 2   | 0   |\n",
       "|  2  |   3 | 0   | 0   |\n",
       "|  4  |   6 | 4   | 5   |\n",
       "\n"
      ],
      "text/plain": [
       "     [,1] [,2] [,3] [,4]\n",
       "[1,] -6   -10  0    1   \n",
       "[2,]  4     7  2    0   \n",
       "[3,]  2     3  0    0   \n",
       "[4,]  4     6  4    5   "
      ]
     },
     "metadata": {},
     "output_type": "display_data"
    }
   ],
   "source": [
    "#intercambio de renglones\n",
    "i1<-1\n",
    "di<-dim(A)\n",
    "n<-di[1] #renglones\n",
    "m<-di[2] #columnas\n",
    "I<-diag(x=1,n,m) #Identity matrix\n",
    "I\n",
    "vt<-matrix(0,1,m) #vector renglon de 0's\n",
    "if(i1!=i2){\n",
    "    vt=A[i1,]\n",
    "    A[i1,]=A[i2,]\n",
    "    A[i2,]=vt\n",
    "}"
   ]
  },
  {
   "cell_type": "code",
   "execution_count": 25,
   "metadata": {},
   "outputs": [],
   "source": [
    "swaprows<-function(p,r1,r2){\n",
    "    di<-dim(p)\n",
    "    n<-di[1] #renglones\n",
    "    m<-di[2] #columnas\n",
    "    #I<-diag(x=1,n,m) #Identity matrix\n",
    "    vt<-matrix(0,1,m) #vector renglon de 0's\n",
    "    if(r1!=r2){\n",
    "        vt=I[r1,]\n",
    "        p[r1,]=I[r2,]\n",
    "        p[r2,]=vt\n",
    "    }\n",
    "    return(I)\n",
    "    \n",
    "}"
   ]
  },
  {
   "cell_type": "code",
   "execution_count": 11,
   "metadata": {},
   "outputs": [
    {
     "data": {
      "text/html": [
       "<table>\n",
       "<tbody>\n",
       "\t<tr><td> 2 </td><td>  3</td><td>0  </td><td>0  </td></tr>\n",
       "\t<tr><td> 4 </td><td>  7</td><td>2  </td><td>0  </td></tr>\n",
       "\t<tr><td>-6 </td><td>-10</td><td>0  </td><td>1  </td></tr>\n",
       "\t<tr><td> 4 </td><td>  6</td><td>4  </td><td>5  </td></tr>\n",
       "</tbody>\n",
       "</table>\n"
      ],
      "text/latex": [
       "\\begin{tabular}{llll}\n",
       "\t  2  &   3 & 0   & 0  \\\\\n",
       "\t  4  &   7 & 2   & 0  \\\\\n",
       "\t -6  & -10 & 0   & 1  \\\\\n",
       "\t  4  &   6 & 4   & 5  \\\\\n",
       "\\end{tabular}\n"
      ],
      "text/markdown": [
       "\n",
       "|  2  |   3 | 0   | 0   |\n",
       "|  4  |   7 | 2   | 0   |\n",
       "| -6  | -10 | 0   | 1   |\n",
       "|  4  |   6 | 4   | 5   |\n",
       "\n"
      ],
      "text/plain": [
       "     [,1] [,2] [,3] [,4]\n",
       "[1,]  2     3  0    0   \n",
       "[2,]  4     7  2    0   \n",
       "[3,] -6   -10  0    1   \n",
       "[4,]  4     6  4    5   "
      ]
     },
     "metadata": {},
     "output_type": "display_data"
    },
    {
     "data": {
      "text/html": [
       "<table>\n",
       "<tbody>\n",
       "\t<tr><td> 2 </td><td>  3</td><td>0  </td><td>0  </td></tr>\n",
       "\t<tr><td> 4 </td><td>  6</td><td>4  </td><td>5  </td></tr>\n",
       "\t<tr><td>-6 </td><td>-10</td><td>0  </td><td>1  </td></tr>\n",
       "\t<tr><td> 4 </td><td>  7</td><td>2  </td><td>0  </td></tr>\n",
       "</tbody>\n",
       "</table>\n"
      ],
      "text/latex": [
       "\\begin{tabular}{llll}\n",
       "\t  2  &   3 & 0   & 0  \\\\\n",
       "\t  4  &   6 & 4   & 5  \\\\\n",
       "\t -6  & -10 & 0   & 1  \\\\\n",
       "\t  4  &   7 & 2   & 0  \\\\\n",
       "\\end{tabular}\n"
      ],
      "text/markdown": [
       "\n",
       "|  2  |   3 | 0   | 0   |\n",
       "|  4  |   6 | 4   | 5   |\n",
       "| -6  | -10 | 0   | 1   |\n",
       "|  4  |   7 | 2   | 0   |\n",
       "\n"
      ],
      "text/plain": [
       "     [,1] [,2] [,3] [,4]\n",
       "[1,]  2     3  0    0   \n",
       "[2,]  4     6  4    5   \n",
       "[3,] -6   -10  0    1   \n",
       "[4,]  4     7  2    0   "
      ]
     },
     "metadata": {},
     "output_type": "display_data"
    }
   ],
   "source": [
    "A #intercambio de renglones\n",
    "I<-swaprows(4,4,2,4)\n",
    "I%*%A"
   ]
  },
  {
   "cell_type": "code",
   "execution_count": 22,
   "metadata": {},
   "outputs": [],
   "source": [
    "\n",
    "di<-dim(A)\n",
    "n<-di[1] #renglones\n",
    "m<-di[2] #columnas\n",
    "I<-diag(x=1,n,m) #Identity matrix\n",
    "z<-matrix(0,n,m) #vector renglon de 1's\n",
    "l<-matrix(0,n,m) #vector renglon de 1's\n",
    "li<-matrix(0,n,m) #vector renglon de 1's\n",
    "u<-matrix(0,n,m) #vector renglon de 1's\n"
   ]
  },
  {
   "cell_type": "code",
   "execution_count": 17,
   "metadata": {},
   "outputs": [],
   "source": [
    "lowerZ<-function(A,j){\n",
    "    di<-dim(A)\n",
    "    n<-di[1] #renglones\n",
    "    m<-di[2] #columnas\n",
    "    z<-matrix(0,n,m) #vector renglon de 1's\n",
    "    i<-1:j\n",
    "    z[-i,j]<-A[-i,j]\n",
    "    return(z)\n",
    "    \n",
    "}"
   ]
  },
  {
   "cell_type": "code",
   "execution_count": 19,
   "metadata": {},
   "outputs": [],
   "source": [
    "j<-1\n",
    "pivot<-A[j,j]\n",
    "tk<-lowerZ(A,j)/pivot"
   ]
  },
  {
   "cell_type": "code",
   "execution_count": 20,
   "metadata": {},
   "outputs": [
    {
     "data": {
      "text/html": [
       "<table>\n",
       "<tbody>\n",
       "\t<tr><td> 0</td><td>0 </td><td>0 </td><td>0 </td></tr>\n",
       "\t<tr><td> 2</td><td>0 </td><td>0 </td><td>0 </td></tr>\n",
       "\t<tr><td>-3</td><td>0 </td><td>0 </td><td>0 </td></tr>\n",
       "\t<tr><td> 2</td><td>0 </td><td>0 </td><td>0 </td></tr>\n",
       "</tbody>\n",
       "</table>\n"
      ],
      "text/latex": [
       "\\begin{tabular}{llll}\n",
       "\t  0 & 0  & 0  & 0 \\\\\n",
       "\t  2 & 0  & 0  & 0 \\\\\n",
       "\t -3 & 0  & 0  & 0 \\\\\n",
       "\t  2 & 0  & 0  & 0 \\\\\n",
       "\\end{tabular}\n"
      ],
      "text/markdown": [
       "\n",
       "|  0 | 0  | 0  | 0  |\n",
       "|  2 | 0  | 0  | 0  |\n",
       "| -3 | 0  | 0  | 0  |\n",
       "|  2 | 0  | 0  | 0  |\n",
       "\n"
      ],
      "text/plain": [
       "     [,1] [,2] [,3] [,4]\n",
       "[1,]  0   0    0    0   \n",
       "[2,]  2   0    0    0   \n",
       "[3,] -3   0    0    0   \n",
       "[4,]  2   0    0    0   "
      ]
     },
     "metadata": {},
     "output_type": "display_data"
    }
   ],
   "source": [
    "tk"
   ]
  },
  {
   "cell_type": "code",
   "execution_count": 23,
   "metadata": {},
   "outputs": [
    {
     "data": {
      "text/html": [
       "<table>\n",
       "<tbody>\n",
       "\t<tr><td> 1</td><td>0 </td><td>0 </td><td>0 </td></tr>\n",
       "\t<tr><td>-2</td><td>1 </td><td>0 </td><td>0 </td></tr>\n",
       "\t<tr><td> 3</td><td>0 </td><td>1 </td><td>0 </td></tr>\n",
       "\t<tr><td>-2</td><td>0 </td><td>0 </td><td>1 </td></tr>\n",
       "</tbody>\n",
       "</table>\n"
      ],
      "text/latex": [
       "\\begin{tabular}{llll}\n",
       "\t  1 & 0  & 0  & 0 \\\\\n",
       "\t -2 & 1  & 0  & 0 \\\\\n",
       "\t  3 & 0  & 1  & 0 \\\\\n",
       "\t -2 & 0  & 0  & 1 \\\\\n",
       "\\end{tabular}\n"
      ],
      "text/markdown": [
       "\n",
       "|  1 | 0  | 0  | 0  |\n",
       "| -2 | 1  | 0  | 0  |\n",
       "|  3 | 0  | 1  | 0  |\n",
       "| -2 | 0  | 0  | 1  |\n",
       "\n"
      ],
      "text/plain": [
       "     [,1] [,2] [,3] [,4]\n",
       "[1,]  1   0    0    0   \n",
       "[2,] -2   1    0    0   \n",
       "[3,]  3   0    1    0   \n",
       "[4,] -2   0    0    1   "
      ]
     },
     "metadata": {},
     "output_type": "display_data"
    }
   ],
   "source": [
    "li<-I-tk\n",
    "li"
   ]
  },
  {
   "cell_type": "code",
   "execution_count": 24,
   "metadata": {},
   "outputs": [
    {
     "data": {
      "text/html": [
       "<table>\n",
       "<tbody>\n",
       "\t<tr><td>2 </td><td> 3</td><td>0 </td><td>0 </td></tr>\n",
       "\t<tr><td>0 </td><td> 1</td><td>2 </td><td>0 </td></tr>\n",
       "\t<tr><td>0 </td><td>-1</td><td>0 </td><td>1 </td></tr>\n",
       "\t<tr><td>0 </td><td> 0</td><td>4 </td><td>5 </td></tr>\n",
       "</tbody>\n",
       "</table>\n"
      ],
      "text/latex": [
       "\\begin{tabular}{llll}\n",
       "\t 2  &  3 & 0  & 0 \\\\\n",
       "\t 0  &  1 & 2  & 0 \\\\\n",
       "\t 0  & -1 & 0  & 1 \\\\\n",
       "\t 0  &  0 & 4  & 5 \\\\\n",
       "\\end{tabular}\n"
      ],
      "text/markdown": [
       "\n",
       "| 2  |  3 | 0  | 0  |\n",
       "| 0  |  1 | 2  | 0  |\n",
       "| 0  | -1 | 0  | 1  |\n",
       "| 0  |  0 | 4  | 5  |\n",
       "\n"
      ],
      "text/plain": [
       "     [,1] [,2] [,3] [,4]\n",
       "[1,] 2     3   0    0   \n",
       "[2,] 0     1   2    0   \n",
       "[3,] 0    -1   0    1   \n",
       "[4,] 0     0   4    5   "
      ]
     },
     "metadata": {},
     "output_type": "display_data"
    }
   ],
   "source": [
    "li%*%A"
   ]
  },
  {
   "cell_type": "code",
   "execution_count": 135,
   "metadata": {},
   "outputs": [],
   "source": [
    "swaprows<-function(p,r1,r2){#devuelve la matriz de permutación\n",
    "    di<-dim(p)\n",
    "    n<-di[1] #renglones\n",
    "    m<-di[2] #columnas\n",
    "    #I<-diag(x=1,n,m) #Identity matrix\n",
    "    vt<-matrix(0,1,m) #vector renglon de 0's\n",
    "    if(r1!=r2){\n",
    "        vt=I[r1,] #vector temporal\n",
    "        p[r1,]=I[r2,] #intercambia renglones\n",
    "        p[r2,]=vt\n",
    "    }\n",
    "    return(I)\n",
    "    \n",
    "}\n",
    "\n",
    "lowerZ<-function(A,j){#devuelve una matriz de ceros excepto los elementos debajo del pivote\n",
    "    di<-dim(A)\n",
    "    n<-di[1] #renglones\n",
    "    m<-di[2] #columnas\n",
    "    z<-matrix(0,n,m) #vector renglon de 1's\n",
    "    i<-1:j\n",
    "    z[-i,j]<-A[-i,j] #selecciona elementos debajo del pivote\n",
    "    return(z)\n",
    "    \n",
    "}\n",
    "\n",
    "my_lu<-function(A){#resuleve\n",
    "    di<-dim(A) #dimensiones\n",
    "    n<-di[1] #renglones\n",
    "    m<-di[2] #columnas\n",
    "    if(n==m){\n",
    "        z<-matrix(0,n,m) #vector renglon de 0's\n",
    "        l<-z #inicializa matrices y vectores\n",
    "        u<-z\n",
    "        tk<-z\n",
    "        li<-z\n",
    "        I<-diag(x=1,n,m) #Identity matrix\n",
    "        p<-I\n",
    "        i<-0\n",
    "        j<-0\n",
    "        pivot<-0\n",
    "\n",
    "        #realiza el esscalonamiento por lu\n",
    "        for(j in 1:n){\n",
    "            pivot<-A[j,j] #pivote\n",
    "\n",
    "            if(pivot!=0){#sin hacer cambios de renglon\n",
    "                tk<-lowerZ(A,j)/pivot  #obtiene los elementos debajo del pivote\n",
    "                li<-I-tk #matriz del tipo 3\n",
    "                A<-li%*%A #se eliminan los elementos debajo del pivote\n",
    "\n",
    "            }else if(pivot==0){#cambios de renglon (el de mayor magnitud)\n",
    "                r1<-j\n",
    "                r2<-which(abs(A[,j])==max(abs(A[,j]))) #encuentra el renglon a intercambiar\n",
    "                p<-swaprows(p,r1,r2)\n",
    "                A<-p%*%A#intercambia los renglones\n",
    "\n",
    "                pivot<-A[j,j]\n",
    "\n",
    "                if(pivot!=0){\n",
    "                    tk<-lowerZ(A,j)/pivot\n",
    "                    li<-I-tk\n",
    "                    A<-li%*%A\n",
    "                }\n",
    "\n",
    "\n",
    "\n",
    "            }\n",
    "\n",
    "            z<-z+tk #acumula los elementos debajo del pivote\n",
    "\n",
    "        }\n",
    "        l<-I+z #obtiene la matriz l\n",
    "        u<-A #u\n",
    "        vres <- list(p,l, u)\n",
    "        \n",
    "        return(vres)\n",
    "        \n",
    "    }\n",
    "    \n",
    "}\n",
    "\n"
   ]
  },
  {
   "cell_type": "code",
   "execution_count": 131,
   "metadata": {},
   "outputs": [],
   "source": [
    "?attach"
   ]
  },
  {
   "cell_type": "code",
   "execution_count": 173,
   "metadata": {},
   "outputs": [],
   "source": []
  },
  {
   "cell_type": "code",
   "execution_count": 178,
   "metadata": {},
   "outputs": [],
   "source": [
    "my_forwards<-function(l,b){\n",
    "    n<-length(b)\n",
    "    y<-matrix(0,1,n) #vector renglon de 0's\n",
    "    \n",
    "    y[1]<-b[1]\n",
    "    \n",
    "    for(i in 2:n){\n",
    "        suma<-0\n",
    "        for( j in 1:(i-1)){\n",
    "            suma<-suma+(l[i,j]*y[j])\n",
    "        \n",
    "        }\n",
    "        y[i]<-b[i]-suma\n",
    "        \n",
    "    }\n",
    "    return(y)\n",
    "}\n",
    "\n",
    "my_backs<-function(u,y){\n",
    "    n<-length(y)\n",
    "    x<-matrix(0,1,n) #vector renglon de 0's\n",
    "    \n",
    "    x[n]<-y[n]/u[n,n]\n",
    "    \n",
    "    \n",
    "    i<-n-1\n",
    "    while(i>=1){\n",
    "        \n",
    "        suma<-0\n",
    "        for( j in 1:(i+1)){\n",
    "            suma<-suma+(u[i,j]*x[j])\n",
    "        \n",
    "        }\n",
    "        x[i]<-(1/u[i,i])*(y[i]-suma)\n",
    "        \n",
    "        i<-i-1\n",
    "    }\n",
    "    return(x)\n",
    "}\n",
    "\n",
    "my_solve<-function(l,u,b){\n",
    "    y<-my_forwards(l,b)\n",
    "    cat(b,\"\\n\")\n",
    "    cat(y,\"\\n\")\n",
    "    x<-my_backs(u,y)\n",
    "    cat(x,\"\\n\")\n",
    "    return(x)\n",
    "}"
   ]
  },
  {
   "cell_type": "code",
   "execution_count": 175,
   "metadata": {},
   "outputs": [],
   "source": []
  },
  {
   "cell_type": "code",
   "execution_count": 179,
   "metadata": {},
   "outputs": [
    {
     "name": "stdout",
     "output_type": "stream",
     "text": [
      "1 2 1 0 \n",
      "1 0 4 -10 \n",
      "11.5 -7.333333 3.666667 -3.333333 \n"
     ]
    }
   ],
   "source": [
    "vec<-c(2,4,-6,4,3,7,-10,6,0,2,0,4,0,0,1,5) #llenar por columnas\n",
    "A<-matrix(vec,4,4) #matrix\n",
    "\n",
    "B<-c(1,2,1,0) #vector\n",
    "\n",
    "listt<-my_lu(A)\n",
    "l<-listt[[2]]\n",
    "u<-listt[[3]]\n",
    "x<-my_solve(l,u,B)"
   ]
  },
  {
   "cell_type": "code",
   "execution_count": null,
   "metadata": {},
   "outputs": [],
   "source": []
  },
  {
   "cell_type": "code",
   "execution_count": 156,
   "metadata": {},
   "outputs": [
    {
     "data": {
      "text/html": [
       "<table>\n",
       "<tbody>\n",
       "\t<tr><td> 2 </td><td>  3</td><td>0  </td><td>0  </td></tr>\n",
       "\t<tr><td> 4 </td><td>  7</td><td>2  </td><td>0  </td></tr>\n",
       "\t<tr><td>-6 </td><td>-10</td><td>0  </td><td>1  </td></tr>\n",
       "\t<tr><td> 4 </td><td>  6</td><td>4  </td><td>5  </td></tr>\n",
       "</tbody>\n",
       "</table>\n"
      ],
      "text/latex": [
       "\\begin{tabular}{llll}\n",
       "\t  2  &   3 & 0   & 0  \\\\\n",
       "\t  4  &   7 & 2   & 0  \\\\\n",
       "\t -6  & -10 & 0   & 1  \\\\\n",
       "\t  4  &   6 & 4   & 5  \\\\\n",
       "\\end{tabular}\n"
      ],
      "text/markdown": [
       "\n",
       "|  2  |   3 | 0   | 0   |\n",
       "|  4  |   7 | 2   | 0   |\n",
       "| -6  | -10 | 0   | 1   |\n",
       "|  4  |   6 | 4   | 5   |\n",
       "\n"
      ],
      "text/plain": [
       "     [,1] [,2] [,3] [,4]\n",
       "[1,]  2     3  0    0   \n",
       "[2,]  4     7  2    0   \n",
       "[3,] -6   -10  0    1   \n",
       "[4,]  4     6  4    5   "
      ]
     },
     "metadata": {},
     "output_type": "display_data"
    },
    {
     "data": {
      "text/html": [
       "<table>\n",
       "<tbody>\n",
       "\t<tr><td>1</td></tr>\n",
       "\t<tr><td>2</td></tr>\n",
       "\t<tr><td>1</td></tr>\n",
       "\t<tr><td>0</td></tr>\n",
       "</tbody>\n",
       "</table>\n"
      ],
      "text/latex": [
       "\\begin{tabular}{l}\n",
       "\t 1\\\\\n",
       "\t 2\\\\\n",
       "\t 1\\\\\n",
       "\t 0\\\\\n",
       "\\end{tabular}\n"
      ],
      "text/markdown": [
       "\n",
       "| 1 |\n",
       "| 2 |\n",
       "| 1 |\n",
       "| 0 |\n",
       "\n"
      ],
      "text/plain": [
       "     [,1]\n",
       "[1,] 1   \n",
       "[2,] 2   \n",
       "[3,] 1   \n",
       "[4,] 0   "
      ]
     },
     "metadata": {},
     "output_type": "display_data"
    },
    {
     "data": {
      "text/html": [
       "<table>\n",
       "<tbody>\n",
       "\t<tr><td> 1</td><td> 0</td><td>0 </td><td>0 </td></tr>\n",
       "\t<tr><td> 2</td><td> 1</td><td>0 </td><td>0 </td></tr>\n",
       "\t<tr><td>-3</td><td>-1</td><td>1 </td><td>0 </td></tr>\n",
       "\t<tr><td> 2</td><td> 0</td><td>2 </td><td>1 </td></tr>\n",
       "</tbody>\n",
       "</table>\n"
      ],
      "text/latex": [
       "\\begin{tabular}{llll}\n",
       "\t  1 &  0 & 0  & 0 \\\\\n",
       "\t  2 &  1 & 0  & 0 \\\\\n",
       "\t -3 & -1 & 1  & 0 \\\\\n",
       "\t  2 &  0 & 2  & 1 \\\\\n",
       "\\end{tabular}\n"
      ],
      "text/markdown": [
       "\n",
       "|  1 |  0 | 0  | 0  |\n",
       "|  2 |  1 | 0  | 0  |\n",
       "| -3 | -1 | 1  | 0  |\n",
       "|  2 |  0 | 2  | 1  |\n",
       "\n"
      ],
      "text/plain": [
       "     [,1] [,2] [,3] [,4]\n",
       "[1,]  1    0   0    0   \n",
       "[2,]  2    1   0    0   \n",
       "[3,] -3   -1   1    0   \n",
       "[4,]  2    0   2    1   "
      ]
     },
     "metadata": {},
     "output_type": "display_data"
    },
    {
     "data": {
      "text/html": [
       "<table>\n",
       "<tbody>\n",
       "\t<tr><td>2</td><td>3</td><td>0</td><td>0</td></tr>\n",
       "\t<tr><td>0</td><td>1</td><td>2</td><td>0</td></tr>\n",
       "\t<tr><td>0</td><td>0</td><td>2</td><td>1</td></tr>\n",
       "\t<tr><td>0</td><td>0</td><td>0</td><td>3</td></tr>\n",
       "</tbody>\n",
       "</table>\n"
      ],
      "text/latex": [
       "\\begin{tabular}{llll}\n",
       "\t 2 & 3 & 0 & 0\\\\\n",
       "\t 0 & 1 & 2 & 0\\\\\n",
       "\t 0 & 0 & 2 & 1\\\\\n",
       "\t 0 & 0 & 0 & 3\\\\\n",
       "\\end{tabular}\n"
      ],
      "text/markdown": [
       "\n",
       "| 2 | 3 | 0 | 0 |\n",
       "| 0 | 1 | 2 | 0 |\n",
       "| 0 | 0 | 2 | 1 |\n",
       "| 0 | 0 | 0 | 3 |\n",
       "\n"
      ],
      "text/plain": [
       "     [,1] [,2] [,3] [,4]\n",
       "[1,] 2    3    0    0   \n",
       "[2,] 0    1    2    0   \n",
       "[3,] 0    0    2    1   \n",
       "[4,] 0    0    0    3   "
      ]
     },
     "metadata": {},
     "output_type": "display_data"
    },
    {
     "data": {
      "text/html": [
       "<table>\n",
       "<tbody>\n",
       "\t<tr><td>-1.5</td></tr>\n",
       "\t<tr><td> 1.0</td></tr>\n",
       "\t<tr><td> 0.5</td></tr>\n",
       "\t<tr><td> 0.0</td></tr>\n",
       "</tbody>\n",
       "</table>\n"
      ],
      "text/latex": [
       "\\begin{tabular}{l}\n",
       "\t -1.5\\\\\n",
       "\t  1.0\\\\\n",
       "\t  0.5\\\\\n",
       "\t  0.0\\\\\n",
       "\\end{tabular}\n"
      ],
      "text/markdown": [
       "\n",
       "| -1.5 |\n",
       "|  1.0 |\n",
       "|  0.5 |\n",
       "|  0.0 |\n",
       "\n"
      ],
      "text/plain": [
       "     [,1]\n",
       "[1,] -1.5\n",
       "[2,]  1.0\n",
       "[3,]  0.5\n",
       "[4,]  0.0"
      ]
     },
     "metadata": {},
     "output_type": "display_data"
    }
   ],
   "source": [
    "A\n",
    "B\n",
    "l\n",
    "u\n",
    "x"
   ]
  },
  {
   "cell_type": "code",
   "execution_count": 62,
   "metadata": {},
   "outputs": [
    {
     "data": {
      "text/html": [
       "<table>\n",
       "<tbody>\n",
       "\t<tr><td> 2 </td><td>  3</td><td>0  </td><td>0  </td></tr>\n",
       "\t<tr><td> 4 </td><td>  7</td><td>2  </td><td>0  </td></tr>\n",
       "\t<tr><td>-6 </td><td>-10</td><td>0  </td><td>1  </td></tr>\n",
       "\t<tr><td> 4 </td><td>  6</td><td>4  </td><td>5  </td></tr>\n",
       "</tbody>\n",
       "</table>\n"
      ],
      "text/latex": [
       "\\begin{tabular}{llll}\n",
       "\t  2  &   3 & 0   & 0  \\\\\n",
       "\t  4  &   7 & 2   & 0  \\\\\n",
       "\t -6  & -10 & 0   & 1  \\\\\n",
       "\t  4  &   6 & 4   & 5  \\\\\n",
       "\\end{tabular}\n"
      ],
      "text/markdown": [
       "\n",
       "|  2  |   3 | 0   | 0   |\n",
       "|  4  |   7 | 2   | 0   |\n",
       "| -6  | -10 | 0   | 1   |\n",
       "|  4  |   6 | 4   | 5   |\n",
       "\n"
      ],
      "text/plain": [
       "     [,1] [,2] [,3] [,4]\n",
       "[1,]  2     3  0    0   \n",
       "[2,]  4     7  2    0   \n",
       "[3,] -6   -10  0    1   \n",
       "[4,]  4     6  4    5   "
      ]
     },
     "metadata": {},
     "output_type": "display_data"
    },
    {
     "data": {
      "text/html": [
       "12"
      ],
      "text/latex": [
       "12"
      ],
      "text/markdown": [
       "12"
      ],
      "text/plain": [
       "[1] 12"
      ]
     },
     "metadata": {},
     "output_type": "display_data"
    },
    {
     "data": {
      "text/html": [
       "<ol>\n",
       "\t<li><table>\n",
       "<tbody>\n",
       "\t<tr><td>1</td><td>0</td><td>0</td><td>0</td></tr>\n",
       "\t<tr><td>0</td><td>1</td><td>0</td><td>0</td></tr>\n",
       "\t<tr><td>0</td><td>0</td><td>1</td><td>0</td></tr>\n",
       "\t<tr><td>0</td><td>0</td><td>0</td><td>1</td></tr>\n",
       "</tbody>\n",
       "</table>\n",
       "</li>\n",
       "\t<li><table>\n",
       "<tbody>\n",
       "\t<tr><td> 1</td><td> 0</td><td>0 </td><td>0 </td></tr>\n",
       "\t<tr><td> 2</td><td> 1</td><td>0 </td><td>0 </td></tr>\n",
       "\t<tr><td>-3</td><td>-1</td><td>1 </td><td>0 </td></tr>\n",
       "\t<tr><td> 2</td><td> 0</td><td>2 </td><td>1 </td></tr>\n",
       "</tbody>\n",
       "</table>\n",
       "</li>\n",
       "\t<li><table>\n",
       "<tbody>\n",
       "\t<tr><td>2</td><td>3</td><td>0</td><td>0</td></tr>\n",
       "\t<tr><td>0</td><td>1</td><td>2</td><td>0</td></tr>\n",
       "\t<tr><td>0</td><td>0</td><td>2</td><td>1</td></tr>\n",
       "\t<tr><td>0</td><td>0</td><td>0</td><td>3</td></tr>\n",
       "</tbody>\n",
       "</table>\n",
       "</li>\n",
       "</ol>\n"
      ],
      "text/latex": [
       "\\begin{enumerate}\n",
       "\\item \\begin{tabular}{llll}\n",
       "\t 1 & 0 & 0 & 0\\\\\n",
       "\t 0 & 1 & 0 & 0\\\\\n",
       "\t 0 & 0 & 1 & 0\\\\\n",
       "\t 0 & 0 & 0 & 1\\\\\n",
       "\\end{tabular}\n",
       "\n",
       "\\item \\begin{tabular}{llll}\n",
       "\t  1 &  0 & 0  & 0 \\\\\n",
       "\t  2 &  1 & 0  & 0 \\\\\n",
       "\t -3 & -1 & 1  & 0 \\\\\n",
       "\t  2 &  0 & 2  & 1 \\\\\n",
       "\\end{tabular}\n",
       "\n",
       "\\item \\begin{tabular}{llll}\n",
       "\t 2 & 3 & 0 & 0\\\\\n",
       "\t 0 & 1 & 2 & 0\\\\\n",
       "\t 0 & 0 & 2 & 1\\\\\n",
       "\t 0 & 0 & 0 & 3\\\\\n",
       "\\end{tabular}\n",
       "\n",
       "\\end{enumerate}\n"
      ],
      "text/markdown": [
       "1. \n",
       "| 1 | 0 | 0 | 0 |\n",
       "| 0 | 1 | 0 | 0 |\n",
       "| 0 | 0 | 1 | 0 |\n",
       "| 0 | 0 | 0 | 1 |\n",
       "\n",
       "\n",
       "2. \n",
       "|  1 |  0 | 0  | 0  |\n",
       "|  2 |  1 | 0  | 0  |\n",
       "| -3 | -1 | 1  | 0  |\n",
       "|  2 |  0 | 2  | 1  |\n",
       "\n",
       "\n",
       "3. \n",
       "| 2 | 3 | 0 | 0 |\n",
       "| 0 | 1 | 2 | 0 |\n",
       "| 0 | 0 | 2 | 1 |\n",
       "| 0 | 0 | 0 | 3 |\n",
       "\n",
       "\n",
       "\n",
       "\n"
      ],
      "text/plain": [
       "[[1]]\n",
       "     [,1] [,2] [,3] [,4]\n",
       "[1,]    1    0    0    0\n",
       "[2,]    0    1    0    0\n",
       "[3,]    0    0    1    0\n",
       "[4,]    0    0    0    1\n",
       "\n",
       "[[2]]\n",
       "     [,1] [,2] [,3] [,4]\n",
       "[1,]    1    0    0    0\n",
       "[2,]    2    1    0    0\n",
       "[3,]   -3   -1    1    0\n",
       "[4,]    2    0    2    1\n",
       "\n",
       "[[3]]\n",
       "     [,1] [,2] [,3] [,4]\n",
       "[1,]    2    3    0    0\n",
       "[2,]    0    1    2    0\n",
       "[3,]    0    0    2    1\n",
       "[4,]    0    0    0    3\n"
      ]
     },
     "metadata": {},
     "output_type": "display_data"
    }
   ],
   "source": [
    "vec<-c(2,4,-6,4,3,7,-10,6,0,2,0,4,0,0,1,5) #llenar por columnas\n",
    "A<-matrix(vec,4,4) #matrix\n",
    "A\n",
    "det(A)\n",
    "my_lu(A)"
   ]
  },
  {
   "cell_type": "code",
   "execution_count": 58,
   "metadata": {},
   "outputs": [
    {
     "data": {
      "text/html": [
       "<table>\n",
       "<tbody>\n",
       "\t<tr><td>2 </td><td>-2</td><td>-5</td><td>-3</td><td>-1</td><td>2 </td></tr>\n",
       "\t<tr><td>2 </td><td>-1</td><td>-3</td><td> 2</td><td> 3</td><td>2 </td></tr>\n",
       "\t<tr><td>4 </td><td>-1</td><td>-4</td><td>10</td><td>11</td><td>4 </td></tr>\n",
       "\t<tr><td>0 </td><td> 1</td><td> 2</td><td> 5</td><td> 4</td><td>0 </td></tr>\n",
       "</tbody>\n",
       "</table>\n"
      ],
      "text/latex": [
       "\\begin{tabular}{llllll}\n",
       "\t 2  & -2 & -5 & -3 & -1 & 2 \\\\\n",
       "\t 2  & -1 & -3 &  2 &  3 & 2 \\\\\n",
       "\t 4  & -1 & -4 & 10 & 11 & 4 \\\\\n",
       "\t 0  &  1 &  2 &  5 &  4 & 0 \\\\\n",
       "\\end{tabular}\n"
      ],
      "text/markdown": [
       "\n",
       "| 2  | -2 | -5 | -3 | -1 | 2  |\n",
       "| 2  | -1 | -3 |  2 |  3 | 2  |\n",
       "| 4  | -1 | -4 | 10 | 11 | 4  |\n",
       "| 0  |  1 |  2 |  5 |  4 | 0  |\n",
       "\n"
      ],
      "text/plain": [
       "     [,1] [,2] [,3] [,4] [,5] [,6]\n",
       "[1,] 2    -2   -5   -3   -1   2   \n",
       "[2,] 2    -1   -3    2    3   2   \n",
       "[3,] 4    -1   -4   10   11   4   \n",
       "[4,] 0     1    2    5    4   0   "
      ]
     },
     "metadata": {},
     "output_type": "display_data"
    },
    {
     "name": "stdout",
     "output_type": "stream",
     "text": [
      "[1] 2\n"
     ]
    },
    {
     "ename": "ERROR",
     "evalue": "Error in li %*% A: argumentos no compatibles\n",
     "output_type": "error",
     "traceback": [
      "Error in li %*% A: argumentos no compatibles\nTraceback:\n",
      "1. my_lu(A)"
     ]
    }
   ],
   "source": [
    "vec<-c(2,2,4,0,-2,-1,-1,1,-5,-3,-4,2,-3,2,10,5,-1,3,11,4,2,2,4,0) #llenar por columnas\n",
    "A<-matrix(vec,4,6) #matrix\n",
    "A\n",
    "det(A)\n",
    "my_lu(A)"
   ]
  }
 ],
 "metadata": {
  "kernelspec": {
   "display_name": "R",
   "language": "R",
   "name": "ir"
  },
  "language_info": {
   "codemirror_mode": "r",
   "file_extension": ".r",
   "mimetype": "text/x-r-source",
   "name": "R",
   "pygments_lexer": "r",
   "version": "3.6.1"
  }
 },
 "nbformat": 4,
 "nbformat_minor": 2
}
