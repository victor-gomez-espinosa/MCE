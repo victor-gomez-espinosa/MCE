{
 "cells": [
  {
   "cell_type": "markdown",
   "metadata": {},
   "source": [
    "# Tarea6, Inferencia estadística\n",
    "GÓMEZ ESPINOSA VICTOR MANUEL"
   ]
  },
  {
   "cell_type": "code",
   "execution_count": 1,
   "metadata": {},
   "outputs": [
    {
     "name": "stderr",
     "output_type": "stream",
     "text": [
      "\n",
      "Attaching package: 'dplyr'\n",
      "\n",
      "The following objects are masked from 'package:stats':\n",
      "\n",
      "    filter, lag\n",
      "\n",
      "The following objects are masked from 'package:base':\n",
      "\n",
      "    intersect, setdiff, setequal, union\n",
      "\n"
     ]
    }
   ],
   "source": [
    "#Librerías necesarias\n",
    "library(ggplot2) #plots\n",
    "library(\"magrittr\") #pipes\n",
    "library(dplyr) #glimpse"
   ]
  },
  {
   "cell_type": "markdown",
   "metadata": {},
   "source": [
    "## Problema 1 c)"
   ]
  },
  {
   "cell_type": "code",
   "execution_count": 58,
   "metadata": {},
   "outputs": [
    {
     "name": "stdout",
     "output_type": "stream",
     "text": [
      "[1] \"3.04\"\n"
     ]
    },
    {
     "data": {
      "image/png": "[encoded data removed]",
      "text/plain": [
       "plot without title"
      ]
     },
     "metadata": {},
     "output_type": "display_data"
    }
   ],
   "source": [
    "f<-function(mu){ #funcion\n",
    "    xb<-3.2 #media\n",
    "    (xb*(1-exp(-mu)))-mu #funcion del estimador menos el estimador\n",
    "}\n",
    "\n",
    "\n",
    "mu<-seq(from=0, to=3.5, by=.01) \n",
    "vf<-f(mu)\n",
    "\n",
    "plot(mu,vf) #grafico de la funcion\n",
    "abline(h=0)\n",
    "abline(v=3.04)\n",
    "print(\"3.04\")"
   ]
  },
  {
   "cell_type": "markdown",
   "metadata": {},
   "source": [
    "## Problema 10 c)"
   ]
  },
  {
   "cell_type": "code",
   "execution_count": 60,
   "metadata": {},
   "outputs": [
    {
     "name": "stdout",
     "output_type": "stream",
     "text": [
      "frecuencia de rechazo de la hipotesis nula =  0.0587 \n",
      "que tan cerca es la tasa de error tipo 1 de 0.05 =  0.0087 \n"
     ]
    }
   ],
   "source": [
    "#datos\n",
    "mu0<-1 #media\n",
    "n<-20 #tamaño de la muestra\n",
    "alfa<-0.05 #significancia\n",
    "zalfa2<-abs(qnorm(0.025,0,1)) #z para alfa/2\n",
    "\n",
    "#tasa de error de tipo 1\n",
    "fx2<-replicate(10000, { #repite el siguiente exprimento 10^4 veces\n",
    "    \n",
    "    m<-rpois(n,mu0) #muestra de tamaño 20 de una possion con parametro 1\n",
    "    xbar<-mean(m)   #media muestral\n",
    "    z<-(sqrt(n)*(xbar-mu0))/sqrt(mu0) #estadìstico de prueba\n",
    "\n",
    "    #cae en la region de rechazo?\n",
    "    abs(z)>zalfa2\n",
    "})\n",
    "\n",
    "v<-table(fx2) \n",
    "vf<-v/10000   #obtiene las frecuencias\n",
    "cat(\"frecuencia de rechazo de la hipotesis nula = \",vf[2],\"\\n\") #frecuencia de rechazo de la hipotesis nula\n",
    "cat(\"que tan cerca es la tasa de error tipo 1 de 0.05 = \",vf[2]-0.05,\"\\n\") #que tan cerca es la tasa de error tipo 1 de 0.05\n",
    " \n",
    "\n",
    "\n"
   ]
  },
  {
   "cell_type": "markdown",
   "metadata": {},
   "source": [
    "## Problema 11"
   ]
  },
  {
   "cell_type": "code",
   "execution_count": 41,
   "metadata": {},
   "outputs": [],
   "source": [
    "library(\"boot\") \n",
    "data(\"cd4\")    #datos"
   ]
  },
  {
   "cell_type": "code",
   "execution_count": 48,
   "metadata": {},
   "outputs": [
    {
     "name": "stdout",
     "output_type": "stream",
     "text": [
      "'data.frame':\t20 obs. of  2 variables:\n",
      " $ baseline: num  2.12 4.35 3.39 2.51 4.04 5.1 3.77 3.35 4.1 3.35 ...\n",
      " $ oneyear : num  2.47 4.61 5.26 3.02 6.36 5.93 3.93 4.09 4.88 3.81 ...\n"
     ]
    }
   ],
   "source": [
    "str(cd4) #checar los datos"
   ]
  },
  {
   "cell_type": "markdown",
   "metadata": {},
   "source": [
    "## a) intervalo de confianza para el coeficiente de correlacion"
   ]
  },
  {
   "cell_type": "code",
   "execution_count": 62,
   "metadata": {},
   "outputs": [
    {
     "name": "stdout",
     "output_type": "stream",
     "text": [
      "coeficiente observado =  0.7231654 \n",
      "coeficiente calculado =  0.7159871 \n",
      "desviacion estandar calculada o error estandar =  0.0903728 \n",
      "[1] \"El intervalo de confianza para el coeficiente de correlacion es :\"\n"
     ]
    },
    {
     "data": {
      "text/html": [
       "<dl class=dl-horizontal>\n",
       "\t<dt>2.5%</dt>\n",
       "\t\t<dd>0.513170673976633</dd>\n",
       "\t<dt>97.5%</dt>\n",
       "\t\t<dd>0.86255452786679</dd>\n",
       "</dl>\n"
      ],
      "text/latex": [
       "\\begin{description*}\n",
       "\\item[2.5\\textbackslash{}\\%] 0.513170673976633\n",
       "\\item[97.5\\textbackslash{}\\%] 0.86255452786679\n",
       "\\end{description*}\n"
      ],
      "text/markdown": [
       "2.5%\n",
       ":   0.51317067397663397.5%\n",
       ":   0.86255452786679\n",
       "\n"
      ],
      "text/plain": [
       "     2.5%     97.5% \n",
       "0.5131707 0.8625545 "
      ]
     },
     "metadata": {},
     "output_type": "display_data"
    }
   ],
   "source": [
    "set.seed(9320) #semilla\n",
    "\n",
    "n<-length(cd4$baseline) #tamaño\n",
    "robs<-cor(cd4$baseline,cd4$oneyear) #coeficiente observado\n",
    "cat(\"coeficiente observado = \",robs,\"\\n\")\n",
    "\n",
    "B<-5000 #numero de repeticiones\n",
    "b<-rep(0,B)\n",
    "for(i in 1:B){\n",
    "    sel<-sample(1:n,size=n,replace=TRUE) #muestreo de los datos con reemplazo\n",
    "    b[i]<-cor(cd4$baseline[sel],cd4$oneyear[sel]) #calculo del parametro, coeficiente de correlacion\n",
    "}\n",
    "cat(\"coeficiente calculado = \",mean(b) ,\"\\n\") #coeficiente calculado\n",
    "\n",
    "s<-sd(b) #desviacion estandar calculada o error estandar\n",
    "cat(\"desviacion estandar calculada o error estandar = \",s ,\"\\n\")  #desviacion estandar calculada o error estandar\n",
    "\n",
    "\n",
    "#intervalo de confianza para el coeficiente de correlacion\n",
    "dord<-sort(b) #ordena los datos de menor a mayor\n",
    "print(\"El intervalo de confianza para el coeficiente de correlacion es :\")\n",
    "quantile(dord, prob=c(0.025,0.975)) #cuantil 0.025 y 0.975\n"
   ]
  },
  {
   "cell_type": "markdown",
   "metadata": {},
   "source": [
    "## Problema 12\n",
    "intervalo de confianza para la mediana"
   ]
  },
  {
   "cell_type": "code",
   "execution_count": 74,
   "metadata": {},
   "outputs": [
    {
     "name": "stdout",
     "output_type": "stream",
     "text": [
      "coeficiente observado =  4.19 \n",
      "coeficiente calculado =  4.332422 \n",
      "desviacion estandar calculada o error estandar =  0.7712221 \n",
      "[1] \"El intervalo de confianza para la mediana es :\"\n"
     ]
    },
    {
     "data": {
      "text/html": [
       "<dl class=dl-horizontal>\n",
       "\t<dt>2.5%</dt>\n",
       "\t\t<dd>3.38</dd>\n",
       "\t<dt>97.5%</dt>\n",
       "\t\t<dd>5.56</dd>\n",
       "</dl>\n"
      ],
      "text/latex": [
       "\\begin{description*}\n",
       "\\item[2.5\\textbackslash{}\\%] 3.38\n",
       "\\item[97.5\\textbackslash{}\\%] 5.56\n",
       "\\end{description*}\n"
      ],
      "text/markdown": [
       "2.5%\n",
       ":   3.3897.5%\n",
       ":   5.56\n",
       "\n"
      ],
      "text/plain": [
       " 2.5% 97.5% \n",
       " 3.38  5.56 "
      ]
     },
     "metadata": {},
     "output_type": "display_data"
    }
   ],
   "source": [
    "set.seed(9320) #semilla\n",
    "\n",
    "v<-c(14.18, 10.99, 3.38, 6.76, 5.56, 1.26, 4.05, 4.61, 1.78, 3.84, 4.69, 2.12, 2.39, 16.75, 4.19)\n",
    "n<-length(v) #tamaño\n",
    "mobs<-median(v) #coeficiente observado\n",
    "cat(\"coeficiente observado = \",mobs,\"\\n\")\n",
    "\n",
    "B<-5000 #numero de repeticiones\n",
    "b<-rep(0,B)\n",
    "for(i in 1:B){\n",
    "    sel<-sample(1:n,size=n,replace=TRUE) #muestreo de los datos con reemplazo\n",
    "    b[i]<-median(v[sel]) #calculo del parametro, coeficiente de correlacion\n",
    "}\n",
    "cat(\"coeficiente calculado = \",mean(b) ,\"\\n\") #coeficiente calculado\n",
    "\n",
    "s<-sd(b) #desviacion estandar calculada o error estandar\n",
    "cat(\"desviacion estandar calculada o error estandar = \",s ,\"\\n\")  #desviacion estandar calculada o error estandar\n",
    "\n",
    "\n",
    "#intervalo de confianza para la mediana\n",
    "dord<-sort(b) #ordena los datos de menor a mayor\n",
    "print(\"El intervalo de confianza para la mediana es :\")\n",
    "quantile(dord, prob=c(0.025,0.975)) #cuantil 0.025 y 0.975\n"
   ]
  }
 ],
 "metadata": {
  "kernelspec": {
   "display_name": "R",
   "language": "R",
   "name": "ir"
  },
  "language_info": {
   "codemirror_mode": "r",
   "file_extension": ".r",
   "mimetype": "text/x-r-source",
   "name": "R",
   "pygments_lexer": "r",
   "version": "3.6.1"
  }
 },
 "nbformat": 4,
 "nbformat_minor": 2
}
