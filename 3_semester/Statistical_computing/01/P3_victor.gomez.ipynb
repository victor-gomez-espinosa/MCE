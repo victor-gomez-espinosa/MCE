{
 "cells": [
  {
   "cell_type": "markdown",
   "metadata": {},
   "source": [
    "# Victor Manuel Gómez Espinosa. Problema 3. Computo Estadístico\n"
   ]
  },
  {
   "cell_type": "code",
   "execution_count": 1,
   "metadata": {},
   "outputs": [],
   "source": [
    "import numpy as np\n",
    "import pandas as pd\n",
    "import matplotlib.pyplot as plt\n",
    "from sklearn.model_selection import train_test_split"
   ]
  },
  {
   "cell_type": "code",
   "execution_count": 2,
   "metadata": {},
   "outputs": [],
   "source": [
    "#Datos\n",
    "INF = np.array([17,2,30,32,87,0,3,9])\n",
    "NINF= np.array([1,0,28,8,11,0,23,0])"
   ]
  },
  {
   "cell_type": "code",
   "execution_count": 3,
   "metadata": {},
   "outputs": [
    {
     "data": {
      "image/png": "[encoded data removed]",
      "text/plain": [
       "<Figure size 432x288 with 4 Axes>"
      ]
     },
     "metadata": {
      "needs_background": "light"
     },
     "output_type": "display_data"
    }
   ],
   "source": [
    "plt.subplot(2,2,1)\n",
    "plt.hist(INF,density=True, bins=10)\n",
    "\n",
    "\n",
    "plt.subplot(2,2,3)\n",
    "plt.boxplot(INF, vert=False)\n",
    "plt.xlabel('INF')\n",
    "\n",
    "plt.subplot(2,2,2)\n",
    "plt.hist(NINF,density=True, bins=10, color='red')\n",
    "\n",
    "plt.subplot(2,2,4)\n",
    "plt.boxplot(NINF, vert=False)\n",
    "plt.xlabel('NINF')\n",
    "\n",
    "plt.show()\n",
    "\n",
    "\n"
   ]
  },
  {
   "cell_type": "markdown",
   "metadata": {},
   "source": [
    "Poisson"
   ]
  },
  {
   "cell_type": "code",
   "execution_count": 4,
   "metadata": {},
   "outputs": [],
   "source": [
    "y_train=np.concatenate((NINF,INF),axis=0)\n",
    "xN=np.zeros((NINF.shape))\n",
    "x=np.ones((INF.shape))\n",
    "X0=np.concatenate((xN,x),axis=0)\n",
    "\n",
    "xN=np.zeros((4,))\n",
    "x=np.ones((4,))\n",
    "xp=np.concatenate((x,xN),axis=0)\n",
    "X1=np.tile(xp,2)\n",
    "\n",
    "xN=np.zeros((2,))\n",
    "x=np.ones((2,))\n",
    "xp=np.concatenate((x,xN),axis=0)\n",
    "X2=np.tile(xp,4)\n",
    "\n",
    "xN=np.zeros((1,))\n",
    "x=np.ones((1,))\n",
    "xp=np.concatenate((x,xN),axis=0)\n",
    "X3=np.tile(xp,8)\n",
    "\n",
    "X=np.column_stack((X0,X1,X2,X3,y_train))"
   ]
  },
  {
   "cell_type": "code",
   "execution_count": 5,
   "metadata": {},
   "outputs": [
    {
     "name": "stderr",
     "output_type": "stream",
     "text": [
      "<ipython-input-5-42f8b9e14d7c>:8: RuntimeWarning: divide by zero encountered in log\n",
      "  plt.scatter(X0,np.log(y_train))\n"
     ]
    },
    {
     "data": {
      "image/png": "[encoded data removed]",
      "text/plain": [
       "<Figure size 432x288 with 2 Axes>"
      ]
     },
     "metadata": {
      "needs_background": "light"
     },
     "output_type": "display_data"
    }
   ],
   "source": [
    "plt.subplot(1,2,1)\n",
    "plt.scatter(X0,y_train)\n",
    "plt.xlabel('X [NINF,INF]')\n",
    "plt.ylabel('y [Infecciones]')\n",
    "plt.title('y vs X ')\n",
    "\n",
    "plt.subplot(1,2,2)\n",
    "plt.scatter(X0,np.log(y_train))\n",
    "plt.xlabel('X [NINF,INF]')\n",
    "plt.ylabel('log(y)')\n",
    "plt.title('a=0.5 ')\n",
    "plt.title('log(y) vs X ')\n",
    "\n",
    "\n",
    "plt.show()"
   ]
  },
  {
   "cell_type": "code",
   "execution_count": 6,
   "metadata": {},
   "outputs": [],
   "source": [
    "import statsmodels.api as sm # libreria\n",
    "\n",
    "#los datos como un data frame\n",
    "\n",
    "df=pd.DataFrame(X)\n",
    "df.columns=['Infec','Plan_Ces','Antib','Fact_r','Ocurrencia'] #variables indicadoras\n",
    "\n",
    "df=sm.add_constant(df) #agrega constante"
   ]
  },
  {
   "cell_type": "code",
   "execution_count": 7,
   "metadata": {},
   "outputs": [
    {
     "data": {
      "text/html": [
       "<div>\n",
       "<style scoped>\n",
       "    .dataframe tbody tr th:only-of-type {\n",
       "        vertical-align: middle;\n",
       "    }\n",
       "\n",
       "    .dataframe tbody tr th {\n",
       "        vertical-align: top;\n",
       "    }\n",
       "\n",
       "    .dataframe thead th {\n",
       "        text-align: right;\n",
       "    }\n",
       "</style>\n",
       "<table border=\"1\" class=\"dataframe\">\n",
       "  <thead>\n",
       "    <tr style=\"text-align: right;\">\n",
       "      <th></th>\n",
       "      <th>const</th>\n",
       "      <th>Infec</th>\n",
       "      <th>Plan_Ces</th>\n",
       "      <th>Antib</th>\n",
       "      <th>Fact_r</th>\n",
       "      <th>Ocurrencia</th>\n",
       "    </tr>\n",
       "  </thead>\n",
       "  <tbody>\n",
       "    <tr>\n",
       "      <th>0</th>\n",
       "      <td>1.0</td>\n",
       "      <td>0.0</td>\n",
       "      <td>1.0</td>\n",
       "      <td>1.0</td>\n",
       "      <td>1.0</td>\n",
       "      <td>1.0</td>\n",
       "    </tr>\n",
       "    <tr>\n",
       "      <th>1</th>\n",
       "      <td>1.0</td>\n",
       "      <td>0.0</td>\n",
       "      <td>1.0</td>\n",
       "      <td>1.0</td>\n",
       "      <td>0.0</td>\n",
       "      <td>0.0</td>\n",
       "    </tr>\n",
       "    <tr>\n",
       "      <th>2</th>\n",
       "      <td>1.0</td>\n",
       "      <td>0.0</td>\n",
       "      <td>1.0</td>\n",
       "      <td>0.0</td>\n",
       "      <td>1.0</td>\n",
       "      <td>28.0</td>\n",
       "    </tr>\n",
       "    <tr>\n",
       "      <th>3</th>\n",
       "      <td>1.0</td>\n",
       "      <td>0.0</td>\n",
       "      <td>1.0</td>\n",
       "      <td>0.0</td>\n",
       "      <td>0.0</td>\n",
       "      <td>8.0</td>\n",
       "    </tr>\n",
       "    <tr>\n",
       "      <th>4</th>\n",
       "      <td>1.0</td>\n",
       "      <td>0.0</td>\n",
       "      <td>0.0</td>\n",
       "      <td>1.0</td>\n",
       "      <td>1.0</td>\n",
       "      <td>11.0</td>\n",
       "    </tr>\n",
       "    <tr>\n",
       "      <th>5</th>\n",
       "      <td>1.0</td>\n",
       "      <td>0.0</td>\n",
       "      <td>0.0</td>\n",
       "      <td>1.0</td>\n",
       "      <td>0.0</td>\n",
       "      <td>0.0</td>\n",
       "    </tr>\n",
       "    <tr>\n",
       "      <th>6</th>\n",
       "      <td>1.0</td>\n",
       "      <td>0.0</td>\n",
       "      <td>0.0</td>\n",
       "      <td>0.0</td>\n",
       "      <td>1.0</td>\n",
       "      <td>23.0</td>\n",
       "    </tr>\n",
       "    <tr>\n",
       "      <th>7</th>\n",
       "      <td>1.0</td>\n",
       "      <td>0.0</td>\n",
       "      <td>0.0</td>\n",
       "      <td>0.0</td>\n",
       "      <td>0.0</td>\n",
       "      <td>0.0</td>\n",
       "    </tr>\n",
       "    <tr>\n",
       "      <th>8</th>\n",
       "      <td>1.0</td>\n",
       "      <td>1.0</td>\n",
       "      <td>1.0</td>\n",
       "      <td>1.0</td>\n",
       "      <td>1.0</td>\n",
       "      <td>17.0</td>\n",
       "    </tr>\n",
       "    <tr>\n",
       "      <th>9</th>\n",
       "      <td>1.0</td>\n",
       "      <td>1.0</td>\n",
       "      <td>1.0</td>\n",
       "      <td>1.0</td>\n",
       "      <td>0.0</td>\n",
       "      <td>2.0</td>\n",
       "    </tr>\n",
       "    <tr>\n",
       "      <th>10</th>\n",
       "      <td>1.0</td>\n",
       "      <td>1.0</td>\n",
       "      <td>1.0</td>\n",
       "      <td>0.0</td>\n",
       "      <td>1.0</td>\n",
       "      <td>30.0</td>\n",
       "    </tr>\n",
       "    <tr>\n",
       "      <th>11</th>\n",
       "      <td>1.0</td>\n",
       "      <td>1.0</td>\n",
       "      <td>1.0</td>\n",
       "      <td>0.0</td>\n",
       "      <td>0.0</td>\n",
       "      <td>32.0</td>\n",
       "    </tr>\n",
       "    <tr>\n",
       "      <th>12</th>\n",
       "      <td>1.0</td>\n",
       "      <td>1.0</td>\n",
       "      <td>0.0</td>\n",
       "      <td>1.0</td>\n",
       "      <td>1.0</td>\n",
       "      <td>87.0</td>\n",
       "    </tr>\n",
       "    <tr>\n",
       "      <th>13</th>\n",
       "      <td>1.0</td>\n",
       "      <td>1.0</td>\n",
       "      <td>0.0</td>\n",
       "      <td>1.0</td>\n",
       "      <td>0.0</td>\n",
       "      <td>0.0</td>\n",
       "    </tr>\n",
       "    <tr>\n",
       "      <th>14</th>\n",
       "      <td>1.0</td>\n",
       "      <td>1.0</td>\n",
       "      <td>0.0</td>\n",
       "      <td>0.0</td>\n",
       "      <td>1.0</td>\n",
       "      <td>3.0</td>\n",
       "    </tr>\n",
       "    <tr>\n",
       "      <th>15</th>\n",
       "      <td>1.0</td>\n",
       "      <td>1.0</td>\n",
       "      <td>0.0</td>\n",
       "      <td>0.0</td>\n",
       "      <td>0.0</td>\n",
       "      <td>9.0</td>\n",
       "    </tr>\n",
       "  </tbody>\n",
       "</table>\n",
       "</div>"
      ],
      "text/plain": [
       "    const  Infec  Plan_Ces  Antib  Fact_r  Ocurrencia\n",
       "0     1.0    0.0       1.0    1.0     1.0         1.0\n",
       "1     1.0    0.0       1.0    1.0     0.0         0.0\n",
       "2     1.0    0.0       1.0    0.0     1.0        28.0\n",
       "3     1.0    0.0       1.0    0.0     0.0         8.0\n",
       "4     1.0    0.0       0.0    1.0     1.0        11.0\n",
       "5     1.0    0.0       0.0    1.0     0.0         0.0\n",
       "6     1.0    0.0       0.0    0.0     1.0        23.0\n",
       "7     1.0    0.0       0.0    0.0     0.0         0.0\n",
       "8     1.0    1.0       1.0    1.0     1.0        17.0\n",
       "9     1.0    1.0       1.0    1.0     0.0         2.0\n",
       "10    1.0    1.0       1.0    0.0     1.0        30.0\n",
       "11    1.0    1.0       1.0    0.0     0.0        32.0\n",
       "12    1.0    1.0       0.0    1.0     1.0        87.0\n",
       "13    1.0    1.0       0.0    1.0     0.0         0.0\n",
       "14    1.0    1.0       0.0    0.0     1.0         3.0\n",
       "15    1.0    1.0       0.0    0.0     0.0         9.0"
      ]
     },
     "execution_count": 7,
     "metadata": {},
     "output_type": "execute_result"
    }
   ],
   "source": [
    "df.head(20)"
   ]
  },
  {
   "cell_type": "markdown",
   "metadata": {},
   "source": [
    "# b) con la función GLM"
   ]
  },
  {
   "cell_type": "code",
   "execution_count": 8,
   "metadata": {},
   "outputs": [
    {
     "name": "stdout",
     "output_type": "stream",
     "text": [
      "                 Generalized Linear Model Regression Results                  \n",
      "==============================================================================\n",
      "Dep. Variable:             Ocurrencia   No. Observations:                   16\n",
      "Model:                            GLM   Df Residuals:                       12\n",
      "Model Family:                 Poisson   Df Model:                            3\n",
      "Link Function:                    log   Scale:                          1.0000\n",
      "Method:                          IRLS   Log-Likelihood:                -169.15\n",
      "Date:                Sat, 10 Oct 2020   Deviance:                       286.76\n",
      "Time:                        20:42:52   Pearson chi2:                     341.\n",
      "No. Iterations:                     5                                         \n",
      "Covariance Type:            nonrobust                                         \n",
      "==============================================================================\n",
      "                 coef    std err          z      P>|z|      [0.025      0.975]\n",
      "------------------------------------------------------------------------------\n",
      "Intercept      1.9685      0.163     12.052      0.000       1.648       2.289\n",
      "Plan_Ces      -0.1197      0.126     -0.946      0.344      -0.368       0.128\n",
      "Antib         -0.1197      0.126     -0.946      0.344      -0.368       0.128\n",
      "Fact_r         1.3665      0.157      8.711      0.000       1.059       1.674\n",
      "==============================================================================\n"
     ]
    }
   ],
   "source": [
    "import statsmodels.formula.api as smf\n",
    "model = smf.glm(\"Ocurrencia ~  Plan_Ces + Antib + Fact_r\", groups=None, data=df, family=sm.families.Poisson())\n",
    "results = model.fit()\n",
    "#const + Infec + Plan_Ces + Antib + Fact_r \n",
    "print(results.summary()) #imprime resumen"
   ]
  },
  {
   "cell_type": "markdown",
   "metadata": {},
   "source": [
    "Los factores Planeación de la cesaria y Antibioticos no son significativos en la respuesta del modelo, mientras que los Factores de riesgo si"
   ]
  },
  {
   "cell_type": "code",
   "execution_count": 9,
   "metadata": {},
   "outputs": [
    {
     "data": {
      "text/html": [
       "<div>\n",
       "<style scoped>\n",
       "    .dataframe tbody tr th:only-of-type {\n",
       "        vertical-align: middle;\n",
       "    }\n",
       "\n",
       "    .dataframe tbody tr th {\n",
       "        vertical-align: top;\n",
       "    }\n",
       "\n",
       "    .dataframe thead th {\n",
       "        text-align: right;\n",
       "    }\n",
       "</style>\n",
       "<table border=\"1\" class=\"dataframe\">\n",
       "  <thead>\n",
       "    <tr style=\"text-align: right;\">\n",
       "      <th></th>\n",
       "      <th>mean</th>\n",
       "      <th>mean_se</th>\n",
       "      <th>mean_ci_lower</th>\n",
       "      <th>mean_ci_upper</th>\n",
       "    </tr>\n",
       "  </thead>\n",
       "  <tbody>\n",
       "    <tr>\n",
       "      <th>0</th>\n",
       "      <td>22.101236</td>\n",
       "      <td>2.613281</td>\n",
       "      <td>17.529492</td>\n",
       "      <td>27.865306</td>\n",
       "    </tr>\n",
       "    <tr>\n",
       "      <th>1</th>\n",
       "      <td>5.635815</td>\n",
       "      <td>0.952917</td>\n",
       "      <td>4.046071</td>\n",
       "      <td>7.850187</td>\n",
       "    </tr>\n",
       "    <tr>\n",
       "      <th>2</th>\n",
       "      <td>24.910716</td>\n",
       "      <td>2.843015</td>\n",
       "      <td>19.917742</td>\n",
       "      <td>31.155326</td>\n",
       "    </tr>\n",
       "    <tr>\n",
       "      <th>3</th>\n",
       "      <td>6.352233</td>\n",
       "      <td>1.055945</td>\n",
       "      <td>4.585951</td>\n",
       "      <td>8.798798</td>\n",
       "    </tr>\n",
       "    <tr>\n",
       "      <th>4</th>\n",
       "      <td>24.910716</td>\n",
       "      <td>2.843015</td>\n",
       "      <td>19.917742</td>\n",
       "      <td>31.155326</td>\n",
       "    </tr>\n",
       "  </tbody>\n",
       "</table>\n",
       "</div>"
      ],
      "text/plain": [
       "        mean   mean_se  mean_ci_lower  mean_ci_upper\n",
       "0  22.101236  2.613281      17.529492      27.865306\n",
       "1   5.635815  0.952917       4.046071       7.850187\n",
       "2  24.910716  2.843015      19.917742      31.155326\n",
       "3   6.352233  1.055945       4.585951       8.798798\n",
       "4  24.910716  2.843015      19.917742      31.155326"
      ]
     },
     "execution_count": 9,
     "metadata": {},
     "output_type": "execute_result"
    }
   ],
   "source": [
    "y_pred=results.get_prediction().summary_frame() #predicciones con el conjunto de entrenamiento, crea un data frame\n",
    "y_pred.head()"
   ]
  },
  {
   "cell_type": "code",
   "execution_count": 10,
   "metadata": {},
   "outputs": [
    {
     "data": {
      "image/png": "[encoded data removed]",
      "text/plain": [
       "<Figure size 432x288 with 1 Axes>"
      ]
     },
     "metadata": {
      "needs_background": "light"
     },
     "output_type": "display_data"
    }
   ],
   "source": [
    "plt.scatter(df['Infec'],df['Ocurrencia'], label='Data')\n",
    "plt.scatter(df['Infec'],y_pred['mean'],label='Pred')\n",
    "# Shade between the confidence intervals\n",
    "#plt.fill_between(df['Infec'], y_pred.iloc[:,2], y_pred.iloc[:,3], color='pink')\n",
    "plt.xlabel('X [NoINF,INF]')\n",
    "plt.ylabel('y [Infecciones]')\n",
    "plt.title('y vs X ')\n",
    "plt.legend(loc='upper right')\n",
    "plt.show()"
   ]
  },
  {
   "cell_type": "markdown",
   "metadata": {},
   "source": [
    "# a) Programa que ajusta un modelo Poisson"
   ]
  },
  {
   "cell_type": "code",
   "execution_count": 11,
   "metadata": {},
   "outputs": [],
   "source": [
    "# Datos:\n",
    "X_train=df[['const','Plan_Ces','Antib','Fact_r']].values\n",
    "y_train=df['Ocurrencia'].values"
   ]
  },
  {
   "cell_type": "code",
   "execution_count": 12,
   "metadata": {},
   "outputs": [
    {
     "data": {
      "text/html": [
       "<div>\n",
       "<style scoped>\n",
       "    .dataframe tbody tr th:only-of-type {\n",
       "        vertical-align: middle;\n",
       "    }\n",
       "\n",
       "    .dataframe tbody tr th {\n",
       "        vertical-align: top;\n",
       "    }\n",
       "\n",
       "    .dataframe thead th {\n",
       "        text-align: right;\n",
       "    }\n",
       "</style>\n",
       "<table border=\"1\" class=\"dataframe\">\n",
       "  <thead>\n",
       "    <tr style=\"text-align: right;\">\n",
       "      <th></th>\n",
       "      <th>coef</th>\n",
       "      <th>std err</th>\n",
       "      <th>0.025</th>\n",
       "      <th>0.975</th>\n",
       "    </tr>\n",
       "  </thead>\n",
       "  <tbody>\n",
       "    <tr>\n",
       "      <th>0</th>\n",
       "      <td>1.9685</td>\n",
       "      <td>0.163</td>\n",
       "      <td>1.613</td>\n",
       "      <td>2.324</td>\n",
       "    </tr>\n",
       "    <tr>\n",
       "      <th>1</th>\n",
       "      <td>-0.1197</td>\n",
       "      <td>0.126</td>\n",
       "      <td>-0.395</td>\n",
       "      <td>0.156</td>\n",
       "    </tr>\n",
       "    <tr>\n",
       "      <th>2</th>\n",
       "      <td>-0.1197</td>\n",
       "      <td>0.126</td>\n",
       "      <td>-0.395</td>\n",
       "      <td>0.156</td>\n",
       "    </tr>\n",
       "    <tr>\n",
       "      <th>3</th>\n",
       "      <td>1.3665</td>\n",
       "      <td>0.157</td>\n",
       "      <td>1.025</td>\n",
       "      <td>1.708</td>\n",
       "    </tr>\n",
       "  </tbody>\n",
       "</table>\n",
       "</div>"
      ],
      "text/plain": [
       "     coef  std err  0.025  0.975\n",
       "0  1.9685    0.163  1.613  2.324\n",
       "1 -0.1197    0.126 -0.395  0.156\n",
       "2 -0.1197    0.126 -0.395  0.156\n",
       "3  1.3665    0.157  1.025  1.708"
      ]
     },
     "execution_count": 12,
     "metadata": {},
     "output_type": "execute_result"
    }
   ],
   "source": [
    "from _GLM import glm #Clase escrita en python que ajusta modelos GLM \n",
    "\n",
    "model=glm(y_train,X_train,family='Poisson') #crea la instancia\n",
    "results=model.fit() #ajusta el modelo\n",
    "df=results.summary() #devuelve los resultados como un dataframe\n",
    "df "
   ]
  },
  {
   "cell_type": "markdown",
   "metadata": {},
   "source": [
    "Los resultados son muy similares a los obtenidos en el inciso b)"
   ]
  }
 ],
 "metadata": {
  "kernelspec": {
   "display_name": "Python 3",
   "language": "python",
   "name": "python3"
  },
  "language_info": {
   "codemirror_mode": {
    "name": "ipython",
    "version": 3
   },
   "file_extension": ".py",
   "mimetype": "text/x-python",
   "name": "python",
   "nbconvert_exporter": "python",
   "pygments_lexer": "ipython3",
   "version": "3.8.3"
  }
 },
 "nbformat": 4,
 "nbformat_minor": 4
}
