{
 "cells": [
  {
   "cell_type": "markdown",
   "metadata": {},
   "source": [
    "## Victor Gómez\n",
    "### victor.gomez@cimat.mx\n",
    "\n",
    "\n",
    "# Maestría en Cómputo Estadístico\n",
    "# CIMAT Monterrey"
   ]
  },
  {
   "cell_type": "markdown",
   "metadata": {},
   "source": [
    "# <center>Tópicos selectos de Cómputo<center>\n",
    "# <center>Tarea 2: Clases con ruido <center>"
   ]
  },
  {
   "cell_type": "markdown",
   "metadata": {},
   "source": [
    "Instrucciones: \n",
    "- Usa python 3.x y xgboost 1.x\n",
    "- ejecuta todas las celdas para replicar los resultados"
   ]
  },
  {
   "cell_type": "code",
   "execution_count": 3,
   "metadata": {},
   "outputs": [],
   "source": [
    "#Librerías necesarias\n",
    "from datetime import datetime\n",
    "import numpy as np\n",
    "import pandas as pd\n",
    "from sklearn.neighbors import KNeighborsClassifier\n",
    "import xgboost as xgb\n",
    "from sklearn.preprocessing import StandardScaler\n",
    "from sklearn.model_selection import  RepeatedKFold, RandomizedSearchCV\n",
    "import matplotlib.pyplot as plt\n",
    "import seaborn as sns\n",
    "from scipy import stats\n",
    "from sklearn.svm import SVC\n",
    "from imblearn.pipeline  import Pipeline\n",
    "from sklearn.metrics import accuracy_score"
   ]
  },
  {
   "cell_type": "markdown",
   "metadata": {},
   "source": [
    "# Clase para manejo de ruido en clases por distintos metodos.\n",
    "\n",
    "## Métodos de manejo de ruido:\n",
    "\n",
    "- 1 Métodos de filtro de ruido: ENN\n",
    "- 2 Métodos de filtro de ruido: EF\n",
    "- 3 Métodos de filtro de ruido: CMTNN\n",
    "- 4 Métodos de pulido de ruido: IterativeEdition\n",
    "- 5 Métodos de pulido de ruido: HybridRepairingFilter"
   ]
  },
  {
   "cell_type": "code",
   "execution_count": 4,
   "metadata": {},
   "outputs": [],
   "source": [
    "from _noise import NoiseHandling #Clase para manejo de ruido en clases por distintos metodos"
   ]
  },
  {
   "cell_type": "markdown",
   "metadata": {},
   "source": [
    "## Conjuntos de datos con ruido (5, 10, 15 y 20%):\n",
    "datasets de: https://sci2s.ugr.es/keel/classNoise.php"
   ]
  },
  {
   "cell_type": "code",
   "execution_count": 5,
   "metadata": {},
   "outputs": [
    {
     "data": {
      "text/plain": [
       "<matplotlib.legend.Legend at 0x28a114f26d0>"
      ]
     },
     "execution_count": 5,
     "metadata": {},
     "output_type": "execute_result"
    },
    {
     "data": {
      "image/png": "[encoded data removed]",
      "text/plain": [
       "<Figure size 504x504 with 3 Axes>"
      ]
     },
     "metadata": {
      "needs_background": "light"
     },
     "output_type": "display_data"
    }
   ],
   "source": [
    "names=['ring','spambase','twonorm']\n",
    "Ejemplos=[7400,4597,7400]\n",
    "attributes=[20,57,20]\n",
    "clases=[2,2,2]\n",
    "\n",
    "\n",
    "df_noise_dict={\n",
    "            'Ejemplos': Ejemplos,\n",
    "            'Atributos': attributes,\n",
    "             'Clases': clases}\n",
    "\n",
    "df_noise=pd.DataFrame(df_noise_dict)\n",
    "df_noise.index=names\n",
    "\n",
    "axes = df_noise.plot.bar(rot=45, subplots=True,figsize=(7,7))\n",
    "axes[1].legend(loc=2)  "
   ]
  },
  {
   "cell_type": "markdown",
   "metadata": {},
   "source": [
    "Se seleccionaron 12 conjuntos de datos presentan diferentes características, la cantidad de ejemplos que  esta entre 8000 y 4000, todos son de 2 clases, con 5, 10, 15 y 20% de ruido en las clases. Se utilizaron conjuntos de prueba del 20% del original, estos no contienen ruido y se utilizaron para obtener el accuracy."
   ]
  },
  {
   "cell_type": "code",
   "execution_count": 9,
   "metadata": {},
   "outputs": [
    {
     "data": {
      "text/plain": [
       "<matplotlib.axes._subplots.AxesSubplot at 0x28a117e9a30>"
      ]
     },
     "execution_count": 9,
     "metadata": {},
     "output_type": "execute_result"
    },
    {
     "data": {
      "image/png": "[encoded data removed]",
      "text/plain": [
       "<Figure size 432x288 with 1 Axes>"
      ]
     },
     "metadata": {
      "needs_background": "light"
     },
     "output_type": "display_data"
    }
   ],
   "source": [
    "noise=['5','10','15','20']\n",
    "dataset=['tra','tst']\n",
    "names=['ring','spambase','twonorm']\n",
    "df_train = pd.read_table(names[0]+'-'+noise[3]+'cn10-nc-5-1'+dataset[0]+'.dat', sep=',', header=None, na_values=[' ','  ','?',None])\n",
    "df_test = pd.read_table(names[0]+'-'+noise[3]+'cn10-nc-5-1'+dataset[1]+'.dat', sep=',', header=None, na_values=[' ','  ','?',None])\n",
    "df_train.iloc[:,-1].hist()"
   ]
  },
  {
   "cell_type": "markdown",
   "metadata": {},
   "source": [
    "algunos de los conjuntos de datos muestran un desbalance en las clases."
   ]
  },
  {
   "cell_type": "markdown",
   "metadata": {},
   "source": [
    "## Modelos de ML para clasificación. Ajuste mediante RandomizedSearchCV con validación cruzada (5x2) y metrica accuracy:\n",
    "\n",
    "- 1 KNeighbors: k: [2-40]\n",
    "- 2 XGBoost: learning rate: [0.1,0.3,0.6], n_estimators: [50,150,300,500], subsample: [0.5,0.75,0.9], colsample_bytree: [0.5,0.75,0.9], regularización: gamma: [0,10,100], lambda: [1,10,100]\n",
    "- 3 SVM: parameters = C: [0.1, 10], kernel: ['linear'],C: [ 1,5, 10,20], gamma: [0.001, 0.01, 0.1], kernel: ['rbf']"
   ]
  },
  {
   "cell_type": "code",
   "execution_count": 5,
   "metadata": {},
   "outputs": [],
   "source": [
    "def df_clean(df): #libera memoria\n",
    "    df=pd.DataFrame()\n",
    "    del df\n",
    "    \n",
    "#Models:\n",
    "#K Neighbors\n",
    "def KNN_model():\n",
    "    params={'n_neighbors':np.random.randint(2,40, size=10)}\n",
    "    return KNeighborsClassifier(), params\n",
    "\n",
    "#XGBoost\n",
    "def XGBoost_model(num_classes=2):\n",
    "    \n",
    "    gbm_param_grid={'learning_rate':[0.1,0.3,0.6],\n",
    "               'n_estimators':[50,150,300,500],\n",
    "               'subsample':[0.5,0.75,0.9],\n",
    "                'colsample_bytree':[0.5,0.9,1],\n",
    "               'gamma':[0,10,100],\n",
    "               'lambda':[1,10,100]}\n",
    "    \n",
    "    if num_classes ==2:\n",
    "        gbm=xgb.XGBClassifier()\n",
    "                \n",
    "    else:\n",
    "        gbm=xgb.XGBClassifier(objective='multi:softmax')\n",
    "    \n",
    "    return gbm, gbm_param_grid \n",
    "\n",
    "\n",
    "\n",
    "#SVM\n",
    "def SVM_model():\n",
    "    parameters = [{'C': [0.1, 10], 'kernel': ['linear']},{'C': [ 1,5, 10,20], 'gamma': [0.001, 0.01, 0.1], 'kernel': ['rbf']}]\n",
    "        \n",
    "    return SVC(), parameters\n",
    "\n",
    "def data_prep(df_train,df_test,method):\n",
    "    X_train, y_train = df_train.iloc[:,:-1].values, df_train.iloc[:,-1].values\n",
    "    X_test, y_test = df_test.iloc[:,:-1].values, df_test.iloc[:,-1].values\n",
    "    scaler = StandardScaler() #Standardize\n",
    "    scaler.fit(X_train)\n",
    "    X_train=scaler.transform(X_train)\n",
    "    X_test=scaler.transform(X_test)\n",
    "    if method!='NoPrep':\n",
    "        nh=NoiseHandling(method = method)\n",
    "        X_train, y_train=nh.fit_resample(X_train, y_train)\n",
    "    \n",
    "    return X_train, y_train, X_test, y_test\n",
    "\n",
    "rkf = RepeatedKFold(n_splits=2, n_repeats=5)\n",
    "#prepara los datos, entrena, y obtiene scores para cada modelo\n",
    "def Mod_train(X_train, y_train,X_test, y_test,model_name,cv=rkf): \n",
    "    \n",
    "    if model_name=='KNN':\n",
    "        classifier,params=KNN_model()\n",
    "        \n",
    "    elif model_name=='XGB':\n",
    "        classifier,params=XGBoost_model()\n",
    "\n",
    "    elif model_name=='SVM':\n",
    "        classifier,params=SVM_model()\n",
    "        \n",
    "    model = Pipeline([('RandomizedSearchCV', RandomizedSearchCV(classifier,param_distributions=params,scoring='accuracy',cv=cv,n_jobs=-1))])\n",
    "\n",
    "    model.fit(X_train, y_train)\n",
    "    y_test_pred=model.predict(X_test)\n",
    "    score=accuracy_score(y_test, y_test_pred)\n",
    "    \n",
    "    return score\n"
   ]
  },
  {
   "cell_type": "markdown",
   "metadata": {},
   "source": [
    "# 1.- Importación de los conjuntos de datos, manejo de ruido, Ajuste de modelos con Validacion cruzada (5x2)."
   ]
  },
  {
   "cell_type": "code",
   "execution_count": 10,
   "metadata": {},
   "outputs": [
    {
     "name": "stdout",
     "output_type": "stream",
     "text": [
      "DataFrame: ring noise_level :5 method: NoPrep model :KNN score:  0.759\n",
      "DataFrame: ring noise_level :5 method: NoPrep model :XGB score:  0.964\n",
      "DataFrame: ring noise_level :5 method: NoPrep model :SVM score:  0.978\n",
      "DataFrame: ring noise_level :5 method: ENN model :KNN score:  0.547\n",
      "DataFrame: ring noise_level :5 method: ENN model :XGB score:  0.922\n",
      "DataFrame: ring noise_level :5 method: ENN model :SVM score:  0.957\n",
      "DataFrame: ring noise_level :5 method: EF model :KNN score:  0.624\n",
      "DataFrame: ring noise_level :5 method: EF model :XGB score:  0.943\n",
      "DataFrame: ring noise_level :5 method: EF model :SVM score:  0.968\n"
     ]
    },
    {
     "name": "stderr",
     "output_type": "stream",
     "text": [
      "C:\\ProgramData\\Anaconda3\\lib\\site-packages\\sklearn\\neural_network\\_multilayer_perceptron.py:582: ConvergenceWarning: Stochastic Optimizer: Maximum iterations (300) reached and the optimization hasn't converged yet.\n",
      "  warnings.warn(\n"
     ]
    },
    {
     "name": "stdout",
     "output_type": "stream",
     "text": [
      "DataFrame: ring noise_level :5 method: CMTNN model :KNN score:  0.782\n",
      "DataFrame: ring noise_level :5 method: CMTNN model :XGB score:  0.97\n",
      "DataFrame: ring noise_level :5 method: CMTNN model :SVM score:  0.978\n",
      "DataFrame: ring noise_level :5 method: IterativeEdition model :KNN score:  0.536\n",
      "DataFrame: ring noise_level :5 method: IterativeEdition model :XGB score:  0.67\n",
      "DataFrame: ring noise_level :5 method: IterativeEdition model :SVM score:  0.696\n",
      "DataFrame: ring noise_level :5 method: HybridRepairingFilter model :KNN score:  0.776\n",
      "DataFrame: ring noise_level :5 method: HybridRepairingFilter model :XGB score:  0.956\n",
      "DataFrame: ring noise_level :5 method: HybridRepairingFilter model :SVM score:  0.975\n",
      "DataFrame: ring noise_level :10 method: NoPrep model :KNN score:  0.691\n",
      "DataFrame: ring noise_level :10 method: NoPrep model :XGB score:  0.96\n",
      "DataFrame: ring noise_level :10 method: NoPrep model :SVM score:  0.979\n",
      "DataFrame: ring noise_level :10 method: ENN model :KNN score:  0.677\n",
      "DataFrame: ring noise_level :10 method: ENN model :XGB score:  0.93\n",
      "DataFrame: ring noise_level :10 method: ENN model :SVM score:  0.96\n",
      "DataFrame: ring noise_level :10 method: EF model :KNN score:  0.794\n",
      "DataFrame: ring noise_level :10 method: EF model :XGB score:  0.945\n",
      "DataFrame: ring noise_level :10 method: EF model :SVM score:  0.973\n"
     ]
    },
    {
     "name": "stderr",
     "output_type": "stream",
     "text": [
      "C:\\ProgramData\\Anaconda3\\lib\\site-packages\\sklearn\\neural_network\\_multilayer_perceptron.py:582: ConvergenceWarning: Stochastic Optimizer: Maximum iterations (300) reached and the optimization hasn't converged yet.\n",
      "  warnings.warn(\n",
      "C:\\ProgramData\\Anaconda3\\lib\\site-packages\\sklearn\\neural_network\\_multilayer_perceptron.py:582: ConvergenceWarning: Stochastic Optimizer: Maximum iterations (300) reached and the optimization hasn't converged yet.\n",
      "  warnings.warn(\n"
     ]
    },
    {
     "name": "stdout",
     "output_type": "stream",
     "text": [
      "DataFrame: ring noise_level :10 method: CMTNN model :KNN score:  0.704\n",
      "DataFrame: ring noise_level :10 method: CMTNN model :XGB score:  0.955\n",
      "DataFrame: ring noise_level :10 method: CMTNN model :SVM score:  0.977\n",
      "DataFrame: ring noise_level :10 method: IterativeEdition model :KNN score:  0.516\n",
      "DataFrame: ring noise_level :10 method: IterativeEdition model :XGB score:  0.711\n",
      "DataFrame: ring noise_level :10 method: IterativeEdition model :SVM score:  0.72\n",
      "DataFrame: ring noise_level :10 method: HybridRepairingFilter model :KNN score:  0.786\n",
      "DataFrame: ring noise_level :10 method: HybridRepairingFilter model :XGB score:  0.916\n",
      "DataFrame: ring noise_level :10 method: HybridRepairingFilter model :SVM score:  0.976\n",
      "DataFrame: ring noise_level :15 method: NoPrep model :KNN score:  0.718\n",
      "DataFrame: ring noise_level :15 method: NoPrep model :XGB score:  0.951\n",
      "DataFrame: ring noise_level :15 method: NoPrep model :SVM score:  0.975\n",
      "DataFrame: ring noise_level :15 method: ENN model :KNN score:  0.631\n",
      "DataFrame: ring noise_level :15 method: ENN model :XGB score:  0.935\n",
      "DataFrame: ring noise_level :15 method: ENN model :SVM score:  0.964\n",
      "DataFrame: ring noise_level :15 method: EF model :KNN score:  0.816\n",
      "DataFrame: ring noise_level :15 method: EF model :XGB score:  0.947\n",
      "DataFrame: ring noise_level :15 method: EF model :SVM score:  0.973\n"
     ]
    },
    {
     "name": "stderr",
     "output_type": "stream",
     "text": [
      "C:\\ProgramData\\Anaconda3\\lib\\site-packages\\sklearn\\neural_network\\_multilayer_perceptron.py:582: ConvergenceWarning: Stochastic Optimizer: Maximum iterations (300) reached and the optimization hasn't converged yet.\n",
      "  warnings.warn(\n"
     ]
    },
    {
     "name": "stdout",
     "output_type": "stream",
     "text": [
      "DataFrame: ring noise_level :15 method: CMTNN model :KNN score:  0.755\n",
      "DataFrame: ring noise_level :15 method: CMTNN model :XGB score:  0.965\n",
      "DataFrame: ring noise_level :15 method: CMTNN model :SVM score:  0.976\n",
      "DataFrame: ring noise_level :15 method: IterativeEdition model :KNN score:  0.509\n",
      "DataFrame: ring noise_level :15 method: IterativeEdition model :XGB score:  0.726\n",
      "DataFrame: ring noise_level :15 method: IterativeEdition model :SVM score:  0.727\n",
      "DataFrame: ring noise_level :15 method: HybridRepairingFilter model :KNN score:  0.788\n",
      "DataFrame: ring noise_level :15 method: HybridRepairingFilter model :XGB score:  0.93\n",
      "DataFrame: ring noise_level :15 method: HybridRepairingFilter model :SVM score:  0.973\n",
      "DataFrame: ring noise_level :20 method: NoPrep model :KNN score:  0.729\n",
      "DataFrame: ring noise_level :20 method: NoPrep model :XGB score:  0.94\n",
      "DataFrame: ring noise_level :20 method: NoPrep model :SVM score:  0.971\n",
      "DataFrame: ring noise_level :20 method: ENN model :KNN score:  0.711\n",
      "DataFrame: ring noise_level :20 method: ENN model :XGB score:  0.945\n",
      "DataFrame: ring noise_level :20 method: ENN model :SVM score:  0.966\n",
      "DataFrame: ring noise_level :20 method: EF model :KNN score:  0.818\n",
      "DataFrame: ring noise_level :20 method: EF model :XGB score:  0.934\n",
      "DataFrame: ring noise_level :20 method: EF model :SVM score:  0.972\n"
     ]
    },
    {
     "name": "stderr",
     "output_type": "stream",
     "text": [
      "C:\\ProgramData\\Anaconda3\\lib\\site-packages\\sklearn\\neural_network\\_multilayer_perceptron.py:582: ConvergenceWarning: Stochastic Optimizer: Maximum iterations (300) reached and the optimization hasn't converged yet.\n",
      "  warnings.warn(\n",
      "C:\\ProgramData\\Anaconda3\\lib\\site-packages\\sklearn\\neural_network\\_multilayer_perceptron.py:582: ConvergenceWarning: Stochastic Optimizer: Maximum iterations (300) reached and the optimization hasn't converged yet.\n",
      "  warnings.warn(\n"
     ]
    },
    {
     "name": "stdout",
     "output_type": "stream",
     "text": [
      "DataFrame: ring noise_level :20 method: CMTNN model :KNN score:  0.767\n",
      "DataFrame: ring noise_level :20 method: CMTNN model :XGB score:  0.934\n",
      "DataFrame: ring noise_level :20 method: CMTNN model :SVM score:  0.972\n",
      "DataFrame: ring noise_level :20 method: IterativeEdition model :KNN score:  0.51\n",
      "DataFrame: ring noise_level :20 method: IterativeEdition model :XGB score:  0.509\n",
      "DataFrame: ring noise_level :20 method: IterativeEdition model :SVM score:  0.515\n",
      "DataFrame: ring noise_level :20 method: HybridRepairingFilter model :KNN score:  0.688\n",
      "DataFrame: ring noise_level :20 method: HybridRepairingFilter model :XGB score:  0.878\n",
      "DataFrame: ring noise_level :20 method: HybridRepairingFilter model :SVM score:  0.964\n",
      "DataFrame: spambase noise_level :5 method: NoPrep model :KNN score:  0.911\n",
      "DataFrame: spambase noise_level :5 method: NoPrep model :XGB score:  0.95\n",
      "DataFrame: spambase noise_level :5 method: NoPrep model :SVM score:  0.933\n",
      "DataFrame: spambase noise_level :5 method: ENN model :KNN score:  0.905\n",
      "DataFrame: spambase noise_level :5 method: ENN model :XGB score:  0.95\n",
      "DataFrame: spambase noise_level :5 method: ENN model :SVM score:  0.932\n",
      "DataFrame: spambase noise_level :5 method: EF model :KNN score:  0.914\n",
      "DataFrame: spambase noise_level :5 method: EF model :XGB score:  0.948\n",
      "DataFrame: spambase noise_level :5 method: EF model :SVM score:  0.933\n"
     ]
    },
    {
     "name": "stderr",
     "output_type": "stream",
     "text": [
      "C:\\ProgramData\\Anaconda3\\lib\\site-packages\\sklearn\\neural_network\\_multilayer_perceptron.py:582: ConvergenceWarning: Stochastic Optimizer: Maximum iterations (300) reached and the optimization hasn't converged yet.\n",
      "  warnings.warn(\n"
     ]
    },
    {
     "name": "stdout",
     "output_type": "stream",
     "text": [
      "DataFrame: spambase noise_level :5 method: CMTNN model :KNN score:  0.911\n",
      "DataFrame: spambase noise_level :5 method: CMTNN model :XGB score:  0.947\n",
      "DataFrame: spambase noise_level :5 method: CMTNN model :SVM score:  0.932\n",
      "DataFrame: spambase noise_level :5 method: IterativeEdition model :KNN score:  0.891\n",
      "DataFrame: spambase noise_level :5 method: IterativeEdition model :XGB score:  0.927\n",
      "DataFrame: spambase noise_level :5 method: IterativeEdition model :SVM score:  0.921\n",
      "DataFrame: spambase noise_level :5 method: HybridRepairingFilter model :KNN score:  0.91\n",
      "DataFrame: spambase noise_level :5 method: HybridRepairingFilter model :XGB score:  0.946\n",
      "DataFrame: spambase noise_level :5 method: HybridRepairingFilter model :SVM score:  0.93\n",
      "DataFrame: spambase noise_level :10 method: NoPrep model :KNN score:  0.912\n",
      "DataFrame: spambase noise_level :10 method: NoPrep model :XGB score:  0.951\n",
      "DataFrame: spambase noise_level :10 method: NoPrep model :SVM score:  0.933\n",
      "DataFrame: spambase noise_level :10 method: ENN model :KNN score:  0.903\n",
      "DataFrame: spambase noise_level :10 method: ENN model :XGB score:  0.951\n",
      "DataFrame: spambase noise_level :10 method: ENN model :SVM score:  0.929\n",
      "DataFrame: spambase noise_level :10 method: EF model :KNN score:  0.921\n",
      "DataFrame: spambase noise_level :10 method: EF model :XGB score:  0.952\n",
      "DataFrame: spambase noise_level :10 method: EF model :SVM score:  0.937\n"
     ]
    },
    {
     "name": "stderr",
     "output_type": "stream",
     "text": [
      "C:\\ProgramData\\Anaconda3\\lib\\site-packages\\sklearn\\neural_network\\_multilayer_perceptron.py:582: ConvergenceWarning: Stochastic Optimizer: Maximum iterations (300) reached and the optimization hasn't converged yet.\n",
      "  warnings.warn(\n"
     ]
    },
    {
     "name": "stdout",
     "output_type": "stream",
     "text": [
      "DataFrame: spambase noise_level :10 method: CMTNN model :KNN score:  0.905\n",
      "DataFrame: spambase noise_level :10 method: CMTNN model :XGB score:  0.952\n",
      "DataFrame: spambase noise_level :10 method: CMTNN model :SVM score:  0.93\n",
      "DataFrame: spambase noise_level :10 method: IterativeEdition model :KNN score:  0.892\n",
      "DataFrame: spambase noise_level :10 method: IterativeEdition model :XGB score:  0.937\n",
      "DataFrame: spambase noise_level :10 method: IterativeEdition model :SVM score:  0.924\n",
      "DataFrame: spambase noise_level :10 method: HybridRepairingFilter model :KNN score:  0.912\n",
      "DataFrame: spambase noise_level :10 method: HybridRepairingFilter model :XGB score:  0.949\n",
      "DataFrame: spambase noise_level :10 method: HybridRepairingFilter model :SVM score:  0.934\n",
      "DataFrame: spambase noise_level :15 method: NoPrep model :KNN score:  0.917\n",
      "DataFrame: spambase noise_level :15 method: NoPrep model :XGB score:  0.93\n",
      "DataFrame: spambase noise_level :15 method: NoPrep model :SVM score:  0.926\n",
      "DataFrame: spambase noise_level :15 method: ENN model :KNN score:  0.918\n",
      "DataFrame: spambase noise_level :15 method: ENN model :XGB score:  0.943\n",
      "DataFrame: spambase noise_level :15 method: ENN model :SVM score:  0.932\n",
      "DataFrame: spambase noise_level :15 method: EF model :KNN score:  0.913\n",
      "DataFrame: spambase noise_level :15 method: EF model :XGB score:  0.946\n",
      "DataFrame: spambase noise_level :15 method: EF model :SVM score:  0.932\n"
     ]
    },
    {
     "name": "stderr",
     "output_type": "stream",
     "text": [
      "C:\\ProgramData\\Anaconda3\\lib\\site-packages\\sklearn\\neural_network\\_multilayer_perceptron.py:582: ConvergenceWarning: Stochastic Optimizer: Maximum iterations (300) reached and the optimization hasn't converged yet.\n",
      "  warnings.warn(\n"
     ]
    },
    {
     "name": "stdout",
     "output_type": "stream",
     "text": [
      "DataFrame: spambase noise_level :15 method: CMTNN model :KNN score:  0.914\n",
      "DataFrame: spambase noise_level :15 method: CMTNN model :XGB score:  0.928\n",
      "DataFrame: spambase noise_level :15 method: CMTNN model :SVM score:  0.923\n",
      "DataFrame: spambase noise_level :15 method: IterativeEdition model :KNN score:  0.903\n",
      "DataFrame: spambase noise_level :15 method: IterativeEdition model :XGB score:  0.933\n",
      "DataFrame: spambase noise_level :15 method: IterativeEdition model :SVM score:  0.918\n",
      "DataFrame: spambase noise_level :15 method: HybridRepairingFilter model :KNN score:  0.91\n",
      "DataFrame: spambase noise_level :15 method: HybridRepairingFilter model :XGB score:  0.934\n",
      "DataFrame: spambase noise_level :15 method: HybridRepairingFilter model :SVM score:  0.923\n",
      "DataFrame: spambase noise_level :20 method: NoPrep model :KNN score:  0.902\n",
      "DataFrame: spambase noise_level :20 method: NoPrep model :XGB score:  0.94\n",
      "DataFrame: spambase noise_level :20 method: NoPrep model :SVM score:  0.925\n",
      "DataFrame: spambase noise_level :20 method: ENN model :KNN score:  0.901\n",
      "DataFrame: spambase noise_level :20 method: ENN model :XGB score:  0.946\n",
      "DataFrame: spambase noise_level :20 method: ENN model :SVM score:  0.923\n",
      "DataFrame: spambase noise_level :20 method: EF model :KNN score:  0.905\n",
      "DataFrame: spambase noise_level :20 method: EF model :XGB score:  0.933\n",
      "DataFrame: spambase noise_level :20 method: EF model :SVM score:  0.925\n"
     ]
    },
    {
     "name": "stderr",
     "output_type": "stream",
     "text": [
      "C:\\ProgramData\\Anaconda3\\lib\\site-packages\\sklearn\\neural_network\\_multilayer_perceptron.py:582: ConvergenceWarning: Stochastic Optimizer: Maximum iterations (300) reached and the optimization hasn't converged yet.\n",
      "  warnings.warn(\n"
     ]
    },
    {
     "name": "stdout",
     "output_type": "stream",
     "text": [
      "DataFrame: spambase noise_level :20 method: CMTNN model :KNN score:  0.909\n",
      "DataFrame: spambase noise_level :20 method: CMTNN model :XGB score:  0.935\n",
      "DataFrame: spambase noise_level :20 method: CMTNN model :SVM score:  0.924\n",
      "DataFrame: spambase noise_level :20 method: IterativeEdition model :KNN score:  0.888\n",
      "DataFrame: spambase noise_level :20 method: IterativeEdition model :XGB score:  0.925\n",
      "DataFrame: spambase noise_level :20 method: IterativeEdition model :SVM score:  0.918\n",
      "DataFrame: spambase noise_level :20 method: HybridRepairingFilter model :KNN score:  0.903\n",
      "DataFrame: spambase noise_level :20 method: HybridRepairingFilter model :XGB score:  0.932\n",
      "DataFrame: spambase noise_level :20 method: HybridRepairingFilter model :SVM score:  0.926\n",
      "DataFrame: twonorm noise_level :5 method: NoPrep model :KNN score:  0.977\n",
      "DataFrame: twonorm noise_level :5 method: NoPrep model :XGB score:  0.974\n",
      "DataFrame: twonorm noise_level :5 method: NoPrep model :SVM score:  0.978\n",
      "DataFrame: twonorm noise_level :5 method: ENN model :KNN score:  0.978\n",
      "DataFrame: twonorm noise_level :5 method: ENN model :XGB score:  0.969\n",
      "DataFrame: twonorm noise_level :5 method: ENN model :SVM score:  0.979\n",
      "DataFrame: twonorm noise_level :5 method: EF model :KNN score:  0.978\n",
      "DataFrame: twonorm noise_level :5 method: EF model :XGB score:  0.974\n",
      "DataFrame: twonorm noise_level :5 method: EF model :SVM score:  0.98\n"
     ]
    },
    {
     "name": "stderr",
     "output_type": "stream",
     "text": [
      "C:\\ProgramData\\Anaconda3\\lib\\site-packages\\sklearn\\neural_network\\_multilayer_perceptron.py:582: ConvergenceWarning: Stochastic Optimizer: Maximum iterations (300) reached and the optimization hasn't converged yet.\n",
      "  warnings.warn(\n"
     ]
    },
    {
     "name": "stdout",
     "output_type": "stream",
     "text": [
      "DataFrame: twonorm noise_level :5 method: CMTNN model :KNN score:  0.977\n",
      "DataFrame: twonorm noise_level :5 method: CMTNN model :XGB score:  0.97\n",
      "DataFrame: twonorm noise_level :5 method: CMTNN model :SVM score:  0.979\n",
      "DataFrame: twonorm noise_level :5 method: IterativeEdition model :KNN score:  0.977\n",
      "DataFrame: twonorm noise_level :5 method: IterativeEdition model :XGB score:  0.978\n",
      "DataFrame: twonorm noise_level :5 method: IterativeEdition model :SVM score:  0.976\n",
      "DataFrame: twonorm noise_level :5 method: HybridRepairingFilter model :KNN score:  0.978\n",
      "DataFrame: twonorm noise_level :5 method: HybridRepairingFilter model :XGB score:  0.978\n",
      "DataFrame: twonorm noise_level :5 method: HybridRepairingFilter model :SVM score:  0.981\n",
      "DataFrame: twonorm noise_level :10 method: NoPrep model :KNN score:  0.98\n",
      "DataFrame: twonorm noise_level :10 method: NoPrep model :XGB score:  0.96\n",
      "DataFrame: twonorm noise_level :10 method: NoPrep model :SVM score:  0.978\n",
      "DataFrame: twonorm noise_level :10 method: ENN model :KNN score:  0.978\n",
      "DataFrame: twonorm noise_level :10 method: ENN model :XGB score:  0.969\n",
      "DataFrame: twonorm noise_level :10 method: ENN model :SVM score:  0.977\n",
      "DataFrame: twonorm noise_level :10 method: EF model :KNN score:  0.977\n",
      "DataFrame: twonorm noise_level :10 method: EF model :XGB score:  0.981\n",
      "DataFrame: twonorm noise_level :10 method: EF model :SVM score:  0.978\n"
     ]
    },
    {
     "name": "stderr",
     "output_type": "stream",
     "text": [
      "C:\\ProgramData\\Anaconda3\\lib\\site-packages\\sklearn\\neural_network\\_multilayer_perceptron.py:582: ConvergenceWarning: Stochastic Optimizer: Maximum iterations (300) reached and the optimization hasn't converged yet.\n",
      "  warnings.warn(\n",
      "C:\\ProgramData\\Anaconda3\\lib\\site-packages\\sklearn\\neural_network\\_multilayer_perceptron.py:582: ConvergenceWarning: Stochastic Optimizer: Maximum iterations (300) reached and the optimization hasn't converged yet.\n",
      "  warnings.warn(\n"
     ]
    },
    {
     "name": "stdout",
     "output_type": "stream",
     "text": [
      "DataFrame: twonorm noise_level :10 method: CMTNN model :KNN score:  0.979\n",
      "DataFrame: twonorm noise_level :10 method: CMTNN model :XGB score:  0.976\n",
      "DataFrame: twonorm noise_level :10 method: CMTNN model :SVM score:  0.98\n",
      "DataFrame: twonorm noise_level :10 method: IterativeEdition model :KNN score:  0.975\n",
      "DataFrame: twonorm noise_level :10 method: IterativeEdition model :XGB score:  0.975\n",
      "DataFrame: twonorm noise_level :10 method: IterativeEdition model :SVM score:  0.976\n",
      "DataFrame: twonorm noise_level :10 method: HybridRepairingFilter model :KNN score:  0.978\n",
      "DataFrame: twonorm noise_level :10 method: HybridRepairingFilter model :XGB score:  0.967\n",
      "DataFrame: twonorm noise_level :10 method: HybridRepairingFilter model :SVM score:  0.977\n",
      "DataFrame: twonorm noise_level :15 method: NoPrep model :KNN score:  0.98\n",
      "DataFrame: twonorm noise_level :15 method: NoPrep model :XGB score:  0.958\n",
      "DataFrame: twonorm noise_level :15 method: NoPrep model :SVM score:  0.978\n",
      "DataFrame: twonorm noise_level :15 method: ENN model :KNN score:  0.976\n",
      "DataFrame: twonorm noise_level :15 method: ENN model :XGB score:  0.975\n",
      "DataFrame: twonorm noise_level :15 method: ENN model :SVM score:  0.981\n",
      "DataFrame: twonorm noise_level :15 method: EF model :KNN score:  0.978\n",
      "DataFrame: twonorm noise_level :15 method: EF model :XGB score:  0.978\n",
      "DataFrame: twonorm noise_level :15 method: EF model :SVM score:  0.978\n"
     ]
    },
    {
     "name": "stderr",
     "output_type": "stream",
     "text": [
      "C:\\ProgramData\\Anaconda3\\lib\\site-packages\\sklearn\\neural_network\\_multilayer_perceptron.py:582: ConvergenceWarning: Stochastic Optimizer: Maximum iterations (300) reached and the optimization hasn't converged yet.\n",
      "  warnings.warn(\n",
      "C:\\ProgramData\\Anaconda3\\lib\\site-packages\\sklearn\\neural_network\\_multilayer_perceptron.py:582: ConvergenceWarning: Stochastic Optimizer: Maximum iterations (300) reached and the optimization hasn't converged yet.\n",
      "  warnings.warn(\n"
     ]
    },
    {
     "name": "stdout",
     "output_type": "stream",
     "text": [
      "DataFrame: twonorm noise_level :15 method: CMTNN model :KNN score:  0.979\n",
      "DataFrame: twonorm noise_level :15 method: CMTNN model :XGB score:  0.962\n",
      "DataFrame: twonorm noise_level :15 method: CMTNN model :SVM score:  0.979\n",
      "DataFrame: twonorm noise_level :15 method: IterativeEdition model :KNN score:  0.98\n",
      "DataFrame: twonorm noise_level :15 method: IterativeEdition model :XGB score:  0.975\n",
      "DataFrame: twonorm noise_level :15 method: IterativeEdition model :SVM score:  0.98\n",
      "DataFrame: twonorm noise_level :15 method: HybridRepairingFilter model :KNN score:  0.98\n",
      "DataFrame: twonorm noise_level :15 method: HybridRepairingFilter model :XGB score:  0.956\n",
      "DataFrame: twonorm noise_level :15 method: HybridRepairingFilter model :SVM score:  0.978\n",
      "DataFrame: twonorm noise_level :20 method: NoPrep model :KNN score:  0.977\n",
      "DataFrame: twonorm noise_level :20 method: NoPrep model :XGB score:  0.926\n",
      "DataFrame: twonorm noise_level :20 method: NoPrep model :SVM score:  0.98\n",
      "DataFrame: twonorm noise_level :20 method: ENN model :KNN score:  0.974\n",
      "DataFrame: twonorm noise_level :20 method: ENN model :XGB score:  0.968\n",
      "DataFrame: twonorm noise_level :20 method: ENN model :SVM score:  0.978\n",
      "DataFrame: twonorm noise_level :20 method: EF model :KNN score:  0.978\n",
      "DataFrame: twonorm noise_level :20 method: EF model :XGB score:  0.97\n",
      "DataFrame: twonorm noise_level :20 method: EF model :SVM score:  0.972\n"
     ]
    },
    {
     "name": "stderr",
     "output_type": "stream",
     "text": [
      "C:\\ProgramData\\Anaconda3\\lib\\site-packages\\sklearn\\neural_network\\_multilayer_perceptron.py:582: ConvergenceWarning: Stochastic Optimizer: Maximum iterations (300) reached and the optimization hasn't converged yet.\n",
      "  warnings.warn(\n",
      "C:\\ProgramData\\Anaconda3\\lib\\site-packages\\sklearn\\neural_network\\_multilayer_perceptron.py:582: ConvergenceWarning: Stochastic Optimizer: Maximum iterations (300) reached and the optimization hasn't converged yet.\n",
      "  warnings.warn(\n"
     ]
    },
    {
     "name": "stdout",
     "output_type": "stream",
     "text": [
      "DataFrame: twonorm noise_level :20 method: CMTNN model :KNN score:  0.972\n",
      "DataFrame: twonorm noise_level :20 method: CMTNN model :XGB score:  0.944\n",
      "DataFrame: twonorm noise_level :20 method: CMTNN model :SVM score:  0.979\n",
      "DataFrame: twonorm noise_level :20 method: IterativeEdition model :KNN score:  0.971\n",
      "DataFrame: twonorm noise_level :20 method: IterativeEdition model :XGB score:  0.971\n",
      "DataFrame: twonorm noise_level :20 method: IterativeEdition model :SVM score:  0.979\n",
      "DataFrame: twonorm noise_level :20 method: HybridRepairingFilter model :KNN score:  0.976\n",
      "DataFrame: twonorm noise_level :20 method: HybridRepairingFilter model :XGB score:  0.955\n",
      "DataFrame: twonorm noise_level :20 method: HybridRepairingFilter model :SVM score:  0.978\n",
      "Tiempo total:  1:53:57.825588\n"
     ]
    }
   ],
   "source": [
    "startTime = datetime.now()\n",
    "#importa los conjuntos de datos\n",
    "names=['ring','spambase','twonorm']\n",
    "noise_levels=['5','10','15','20']\n",
    "dataset=['tra','tst']\n",
    "noise_method=['NoPrep','ENN','EF','CMTNN','IterativeEdition','HybridRepairingFilter']\n",
    "model_name=['KNN','XGB','SVM']\n",
    "\n",
    "results_NoPrep=[]\n",
    "results_ENN=[]\n",
    "results_EF=[]\n",
    "results_CMTNN=[]\n",
    "results_IterativeEdition=[]\n",
    "results_HybridRepairingFilter=[]\n",
    "\n",
    "for name in names: #abre los conjuntos de datos\n",
    "    for noise in noise_levels: #por nivel de ruido\n",
    "        df_train = pd.read_table(name+'-'+noise+'cn10-nc-5-1'+dataset[0]+'.dat', sep=',', header=None, na_values=[' ','  ','?',None])\n",
    "        df_test = pd.read_table(name+'-'+noise+'cn10-nc-5-1'+dataset[1]+'.dat', sep=',', header=None, na_values=[' ','  ','?',None])\n",
    "        for method in noise_method: # imputa datos faltantes con cada metodo\n",
    "            X_train, y_train, X_test, y_test=data_prep(df_train,df_test,method)\n",
    "            for model in model_name: #ajusta modelos de Machine Learning\n",
    "                score=Mod_train(X_train, y_train,X_test, y_test,model)\n",
    "                #imprime y guarda resultados\n",
    "                print('DataFrame: '+name+' noise_level :'+noise+' method: '+method+' model :'+model+' score: ',round(score,3))\n",
    "                \n",
    "                if method=='NoPrep':\n",
    "                    results_NoPrep.append(score)\n",
    "                    \n",
    "                elif method=='ENN':\n",
    "                    results_ENN.append(score)\n",
    "                elif method=='EF':\n",
    "                    results_EF.append(score)\n",
    "                elif method=='CMTNN':\n",
    "                    results_CMTNN.append(score)\n",
    "                    \n",
    "                elif method=='IterativeEdition':\n",
    "                    results_IterativeEdition.append(score)\n",
    "                elif method=='HybridRepairingFilter':\n",
    "                    results_HybridRepairingFilter.append(score)\n",
    "\n",
    "        df_clean(df_train)\n",
    "        df_clean(df_test) #libera memoria\n",
    "print('Tiempo total: ',datetime.now() - startTime) #tiempo total"
   ]
  },
  {
   "cell_type": "code",
   "execution_count": 11,
   "metadata": {},
   "outputs": [],
   "source": [
    "#guarda los resultados\n",
    "\n",
    "results_dict={'NoPrep':results_NoPrep,\n",
    "                'ENN':results_ENN,\n",
    "                'EF':results_EF,\n",
    "              'CMTNN':results_CMTNN,\n",
    "                'IterativeEdition':results_IterativeEdition,\n",
    "                'HybridRepairingFilter':results_HybridRepairingFilter\n",
    "             }\n",
    "df_results=pd.DataFrame(results_dict)\n",
    "df_results.to_csv('results.csv')\n",
    "\n",
    "\n"
   ]
  },
  {
   "cell_type": "markdown",
   "metadata": {},
   "source": [
    "# 2.- Análisis estadístico de los resultados."
   ]
  },
  {
   "cell_type": "code",
   "execution_count": 10,
   "metadata": {},
   "outputs": [],
   "source": [
    "df_results = pd.read_csv('results.csv',  index_col=0)"
   ]
  },
  {
   "cell_type": "markdown",
   "metadata": {},
   "source": [
    "## Descriptivo:"
   ]
  },
  {
   "cell_type": "code",
   "execution_count": 11,
   "metadata": {},
   "outputs": [
    {
     "data": {
      "text/html": [
       "<div>\n",
       "<style scoped>\n",
       "    .dataframe tbody tr th:only-of-type {\n",
       "        vertical-align: middle;\n",
       "    }\n",
       "\n",
       "    .dataframe tbody tr th {\n",
       "        vertical-align: top;\n",
       "    }\n",
       "\n",
       "    .dataframe thead th {\n",
       "        text-align: right;\n",
       "    }\n",
       "</style>\n",
       "<table border=\"1\" class=\"dataframe\">\n",
       "  <thead>\n",
       "    <tr style=\"text-align: right;\">\n",
       "      <th></th>\n",
       "      <th>NoPrep</th>\n",
       "      <th>ENN</th>\n",
       "      <th>EF</th>\n",
       "      <th>CMTNN</th>\n",
       "      <th>IterativeEdition</th>\n",
       "      <th>HybridRepairingFilter</th>\n",
       "    </tr>\n",
       "  </thead>\n",
       "  <tbody>\n",
       "    <tr>\n",
       "      <th>count</th>\n",
       "      <td>36.000000</td>\n",
       "      <td>36.000000</td>\n",
       "      <td>36.000000</td>\n",
       "      <td>36.000000</td>\n",
       "      <td>36.000000</td>\n",
       "      <td>36.000000</td>\n",
       "    </tr>\n",
       "    <tr>\n",
       "      <th>mean</th>\n",
       "      <td>0.927497</td>\n",
       "      <td>0.916157</td>\n",
       "      <td>0.932925</td>\n",
       "      <td>0.931128</td>\n",
       "      <td>0.834344</td>\n",
       "      <td>0.927670</td>\n",
       "    </tr>\n",
       "    <tr>\n",
       "      <th>std</th>\n",
       "      <td>0.077094</td>\n",
       "      <td>0.103360</td>\n",
       "      <td>0.070513</td>\n",
       "      <td>0.069312</td>\n",
       "      <td>0.171524</td>\n",
       "      <td>0.067666</td>\n",
       "    </tr>\n",
       "    <tr>\n",
       "      <th>min</th>\n",
       "      <td>0.690541</td>\n",
       "      <td>0.546622</td>\n",
       "      <td>0.623649</td>\n",
       "      <td>0.704054</td>\n",
       "      <td>0.508784</td>\n",
       "      <td>0.687838</td>\n",
       "    </tr>\n",
       "    <tr>\n",
       "      <th>25%</th>\n",
       "      <td>0.925507</td>\n",
       "      <td>0.922694</td>\n",
       "      <td>0.929891</td>\n",
       "      <td>0.923641</td>\n",
       "      <td>0.718074</td>\n",
       "      <td>0.915151</td>\n",
       "    </tr>\n",
       "    <tr>\n",
       "      <th>50%</th>\n",
       "      <td>0.951219</td>\n",
       "      <td>0.947826</td>\n",
       "      <td>0.947562</td>\n",
       "      <td>0.953790</td>\n",
       "      <td>0.919565</td>\n",
       "      <td>0.947283</td>\n",
       "    </tr>\n",
       "    <tr>\n",
       "      <th>75%</th>\n",
       "      <td>0.977027</td>\n",
       "      <td>0.970270</td>\n",
       "      <td>0.975000</td>\n",
       "      <td>0.976014</td>\n",
       "      <td>0.975000</td>\n",
       "      <td>0.975845</td>\n",
       "    </tr>\n",
       "    <tr>\n",
       "      <th>max</th>\n",
       "      <td>0.980405</td>\n",
       "      <td>0.981081</td>\n",
       "      <td>0.981081</td>\n",
       "      <td>0.980405</td>\n",
       "      <td>0.980405</td>\n",
       "      <td>0.981081</td>\n",
       "    </tr>\n",
       "  </tbody>\n",
       "</table>\n",
       "</div>"
      ],
      "text/plain": [
       "          NoPrep        ENN         EF      CMTNN  IterativeEdition  \\\n",
       "count  36.000000  36.000000  36.000000  36.000000         36.000000   \n",
       "mean    0.927497   0.916157   0.932925   0.931128          0.834344   \n",
       "std     0.077094   0.103360   0.070513   0.069312          0.171524   \n",
       "min     0.690541   0.546622   0.623649   0.704054          0.508784   \n",
       "25%     0.925507   0.922694   0.929891   0.923641          0.718074   \n",
       "50%     0.951219   0.947826   0.947562   0.953790          0.919565   \n",
       "75%     0.977027   0.970270   0.975000   0.976014          0.975000   \n",
       "max     0.980405   0.981081   0.981081   0.980405          0.980405   \n",
       "\n",
       "       HybridRepairingFilter  \n",
       "count              36.000000  \n",
       "mean                0.927670  \n",
       "std                 0.067666  \n",
       "min                 0.687838  \n",
       "25%                 0.915151  \n",
       "50%                 0.947283  \n",
       "75%                 0.975845  \n",
       "max                 0.981081  "
      ]
     },
     "execution_count": 11,
     "metadata": {},
     "output_type": "execute_result"
    }
   ],
   "source": [
    "df_results.describe()"
   ]
  },
  {
   "cell_type": "code",
   "execution_count": 12,
   "metadata": {},
   "outputs": [
    {
     "data": {
      "text/plain": [
       "<matplotlib.axes._subplots.AxesSubplot at 0x28a118c5940>"
      ]
     },
     "execution_count": 12,
     "metadata": {},
     "output_type": "execute_result"
    },
    {
     "data": {
      "image/png": "[encoded data removed]",
      "text/plain": [
       "<Figure size 432x288 with 1 Axes>"
      ]
     },
     "metadata": {
      "needs_background": "light"
     },
     "output_type": "display_data"
    }
   ],
   "source": [
    "df_results.plot.hist(alpha=0.8) #hist"
   ]
  },
  {
   "cell_type": "code",
   "execution_count": 13,
   "metadata": {},
   "outputs": [
    {
     "data": {
      "text/plain": [
       "<matplotlib.axes._subplots.AxesSubplot at 0x28a129c7610>"
      ]
     },
     "execution_count": 13,
     "metadata": {},
     "output_type": "execute_result"
    },
    {
     "data": {
      "image/png": "[encoded data removed]",
      "text/plain": [
       "<Figure size 504x504 with 1 Axes>"
      ]
     },
     "metadata": {
      "needs_background": "light"
     },
     "output_type": "display_data"
    }
   ],
   "source": [
    "f, ax = plt.subplots(figsize=(7,7))\n",
    "sns.boxplot(data=df_results,orient=\"h\") #boxplot horizontal"
   ]
  },
  {
   "cell_type": "markdown",
   "metadata": {},
   "source": [
    "Se puede observar que la mayoria de los métodos tienen una variación en un rango de 0.9 a 0.99, con media y mediana muy similar, pero aparentemente el método IterativeEdition se sale de este rango, es mucho mayor y hacia la izquierda, lo cual da una idea de un pobre desempeño."
   ]
  },
  {
   "cell_type": "code",
   "execution_count": 36,
   "metadata": {},
   "outputs": [
    {
     "data": {
      "text/plain": [
       "<matplotlib.axes._subplots.AxesSubplot at 0x28a12f65460>"
      ]
     },
     "execution_count": 36,
     "metadata": {},
     "output_type": "execute_result"
    },
    {
     "data": {
      "image/png": "[encoded data removed]",
      "text/plain": [
       "<Figure size 504x504 with 1 Axes>"
      ]
     },
     "metadata": {
      "needs_background": "light"
     },
     "output_type": "display_data"
    }
   ],
   "source": [
    "Robust_learners = pd.read_csv('Robust_filters.csv',  index_col=0)\n",
    "f, ax = plt.subplots(figsize=(7,7))\n",
    "sns.boxplot(data=Robust_learners,orient=\"h\") #boxplot horizontal"
   ]
  },
  {
   "cell_type": "markdown",
   "metadata": {},
   "source": [
    "Otro método de manejo de ruido son los Robust Learners, por ejemplo basados en arboles, por ese motivo se utilizó el modelo XGBoost como uno de los clasificadores, pero se puede observar que el desempeño de este antes y despues de ruido no parece ser muy significativo, y se tiene un comportamiendo muy similar a las maquinas de soporte vectorial, que aunque su rango es mayor, su mediana esta mas cargada a la derecha, lo cual parece indicar que ambos son muy buenos para el manejo de ruido, principalmente en este experimento las SVM."
   ]
  },
  {
   "cell_type": "markdown",
   "metadata": {},
   "source": [
    "## Friedman-test  al 5%: "
   ]
  },
  {
   "cell_type": "code",
   "execution_count": 38,
   "metadata": {},
   "outputs": [
    {
     "name": "stdout",
     "output_type": "stream",
     "text": [
      "Friedman-test al 5%:\n",
      "1.4208705158713269e-08 True\n"
     ]
    }
   ],
   "source": [
    "print('Friedman-test al 5%:')\n",
    "methods=list(df_results.columns)\n",
    "_,pvalue=stats.friedmanchisquare(*df_results.values.T)\n",
    "print(pvalue,pvalue<0.05)"
   ]
  },
  {
   "cell_type": "markdown",
   "metadata": {},
   "source": [
    "Se rechaza la prueba de Friedman, lo cual indica que si hay diferencias significativas entre alguna de nuestras mediciones"
   ]
  },
  {
   "cell_type": "code",
   "execution_count": 37,
   "metadata": {},
   "outputs": [
    {
     "data": {
      "text/plain": [
       "<matplotlib.axes._subplots.AxesSubplot at 0x28a13002220>"
      ]
     },
     "execution_count": 37,
     "metadata": {},
     "output_type": "execute_result"
    },
    {
     "data": {
      "image/png": "[encoded data removed]",
      "text/plain": [
       "<Figure size 432x288 with 2 Axes>"
      ]
     },
     "metadata": {
      "needs_background": "light"
     },
     "output_type": "display_data"
    }
   ],
   "source": [
    "import scikit_posthocs as sp\n",
    "df=sp.posthoc_nemenyi_friedman(df_results)\n",
    "sns.heatmap(df<0.05, vmin=0, vmax=1)"
   ]
  },
  {
   "cell_type": "markdown",
   "metadata": {},
   "source": [
    "Despues de aplicar el test de nemenyi friedman, se observa que la mayoria de los test pareados son similares excepto el método IterativeEdition como se habia visto anteriormente"
   ]
  },
  {
   "cell_type": "markdown",
   "metadata": {},
   "source": [
    "## Conclusiones:\n",
    "\n",
    "- El método IterativeEdition se sabe es sensible a las clases desbalanceadas, lo cual ocurre en este experimento para algunos conjuntos de datos, de hecho durante las pruabas hubo errores por lo cual se incluyó un criterio de paro si se rebasa una tolerancia para la clase minoritaria, lo cual explica que en las pruebas haya resultado significativamente diferente a todos los demás.   "
   ]
  },
  {
   "cell_type": "code",
   "execution_count": null,
   "metadata": {},
   "outputs": [],
   "source": []
  }
 ],
 "metadata": {
  "kernelspec": {
   "display_name": "Python 3",
   "language": "python",
   "name": "python3"
  },
  "language_info": {
   "codemirror_mode": {
    "name": "ipython",
    "version": 3
   },
   "file_extension": ".py",
   "mimetype": "text/x-python",
   "name": "python",
   "nbconvert_exporter": "python",
   "pygments_lexer": "ipython3",
   "version": "3.8.3"
  }
 },
 "nbformat": 4,
 "nbformat_minor": 4
}
